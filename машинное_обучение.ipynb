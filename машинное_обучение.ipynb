{
 "cells": [
  {
   "cell_type": "code",
   "execution_count": null,
   "metadata": {},
   "outputs": [],
   "source": [
    "#Иоан ноутбук машинное обучение\n",
    "https://colab.research.google.com/drive/1c0nVj5XUMyQo0mX1ERQOmEV226ky8MsV?usp=sharing"
   ]
  }
 ],
 "metadata": {
  "language_info": {
   "name": "python"
  }
 },
 "nbformat": 4,
 "nbformat_minor": 2
}
