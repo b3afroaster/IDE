{
 "cells": [
  {
   "cell_type": "code",
   "execution_count": 53,
   "metadata": {},
   "outputs": [],
   "source": [
    "#Глубокое обучение - итоговый проект"
   ]
  },
  {
   "cell_type": "code",
   "execution_count": 54,
   "metadata": {},
   "outputs": [],
   "source": [
    "import numpy as np\n",
    "import pandas as pd\n",
    "import seaborn as sns\n",
    "import scipy.stats as stats\n",
    "import matplotlib.pyplot as plt\n",
    "%matplotlib inline"
   ]
  },
  {
   "cell_type": "code",
   "execution_count": 76,
   "metadata": {},
   "outputs": [],
   "source": [
    "test = test.drop('ID', axis=1)"
   ]
  },
  {
   "cell_type": "code",
   "execution_count": 56,
   "metadata": {},
   "outputs": [],
   "source": [
    "test = pd.read_csv(\"data_deap/test.csv\")\n",
    "test['chest'] = test['chest'].apply(lambda x: 0 if x < 0 else x)\n",
    "\n",
    "#окрглим признак \"chest\" до 2 знаков после ,\n",
    "test['chest'] = test['chest'].round(2)\n",
    "#округлим признак \"resting_blood_pressure\"\n",
    "test['resting_blood_pressure'] = test['resting_blood_pressure'].round()\n",
    "#округлим признак \"serum_cholestoral\" \n",
    "test['serum_cholestoral'] = test['serum_cholestoral'].round(1)\n",
    "#округлим признак \"maximum_heart_rate_achieved\"\n",
    "test['maximum_heart_rate_achieved'] = test['maximum_heart_rate_achieved'].round()\n",
    "#округлим признак \"oldpeak\"\n",
    "test['oldpeak'] = test['oldpeak'].round(2)\n",
    "test['age'] = test['age'].round()"
   ]
  },
  {
   "cell_type": "code",
   "execution_count": 57,
   "metadata": {},
   "outputs": [],
   "source": [
    "#создаём dummies\n",
    "df = test['thal']\n",
    "df = pd.get_dummies(df, columns='thal', drop_first=True)\n",
    "test['fix_def'] = df[6]\n",
    "test['rev_def'] = df[7]\n",
    "test = test.drop('thal', axis=1)\n",
    "\n",
    "df = test['slope']\n",
    "df = pd.get_dummies(df, columns='slope', drop_first=True)\n",
    "test['slope=2'] = df[2]\n",
    "test['slope=3'] = df[3]\n",
    "test = test.drop('slope', axis=1)\n",
    "\n",
    "df = test['resting_electrocardiographic_results'] #делаем тоже самое для resting_electrocardiographic_results\n",
    "df = pd.get_dummies(df, columns='resting_electrocardiographic_results', drop_first=True)\n",
    "test['rest_elcardio=1'] = df[1]\n",
    "test['rest_elcardio=2'] = df[2]\n",
    "test = test.drop('resting_electrocardiographic_results', axis=1)\n",
    "\n"
   ]
  },
  {
   "cell_type": "code",
   "execution_count": 58,
   "metadata": {},
   "outputs": [],
   "source": [
    "#Создадим функцию для первода dummies в формат 1/0, а потом в категории\n",
    "def dum_to_cat(data, columns):\n",
    "    for i in columns:\n",
    "        data[i] = data[i].astype(int)\n",
    "        data[i] = data[i].astype('category')\n",
    "    return data"
   ]
  },
  {
   "cell_type": "code",
   "execution_count": 59,
   "metadata": {},
   "outputs": [],
   "source": [
    "#Перевоодим dummies в формат 1/0 а затем в тип category \n",
    "columns = ['fix_def', 'rev_def', 'slope=2', 'slope=3', 'rest_elcardio=1', 'rest_elcardio=2']\n",
    "new_data = dum_to_cat(test, columns)"
   ]
  },
  {
   "cell_type": "code",
   "execution_count": 60,
   "metadata": {},
   "outputs": [],
   "source": [
    "#Создаём категории\n",
    "test['fasting_blood_sugar'] = test['fasting_blood_sugar'].astype('category')\n",
    "test['exercise_induced_angina'] = test['exercise_induced_angina'].astype('category')\n",
    "test['number_of_major_vessels'] = test['number_of_major_vessels'].astype('category')\n",
    "test['sex'] = test['sex'].astype('category')\n"
   ]
  },
  {
   "cell_type": "code",
   "execution_count": 61,
   "metadata": {},
   "outputs": [],
   "source": [
    "#Удалим мультиколенеарные признаки и малозначимые признаки\n",
    "test = test.drop('exercise_induced_angina', axis=1)\n",
    "test = test.drop(columns=['fasting_blood_sugar', 'maximum_heart_rate_achieved'], axis=1)"
   ]
  },
  {
   "cell_type": "markdown",
   "metadata": {},
   "source": [
    "Подготовим данные к моделированию"
   ]
  },
  {
   "cell_type": "code",
   "execution_count": 79,
   "metadata": {},
   "outputs": [],
   "source": [
    "X_test = test"
   ]
  },
  {
   "cell_type": "code",
   "execution_count": 81,
   "metadata": {},
   "outputs": [],
   "source": [
    "#переведём данные в формат массива\n",
    "X_test = np.asarray(X_test)"
   ]
  },
  {
   "cell_type": "markdown",
   "metadata": {},
   "source": [
    "PyTorch"
   ]
  },
  {
   "cell_type": "code",
   "execution_count": 64,
   "metadata": {},
   "outputs": [
    {
     "name": "stdout",
     "output_type": "stream",
     "text": [
      "Requirement already satisfied: torch in c:\\phython3.9\\lib\\site-packages (2.5.1)\n",
      "Requirement already satisfied: torchvision in c:\\phython3.9\\lib\\site-packages (0.20.1)\n",
      "Requirement already satisfied: torchaudio in c:\\phython3.9\\lib\\site-packages (2.5.1)\n",
      "Requirement already satisfied: filelock in c:\\phython3.9\\lib\\site-packages (from torch) (3.16.1)\n",
      "Requirement already satisfied: typing-extensions>=4.8.0 in c:\\phython3.9\\lib\\site-packages (from torch) (4.10.0)\n",
      "Requirement already satisfied: networkx in c:\\phython3.9\\lib\\site-packages (from torch) (3.2.1)\n",
      "Requirement already satisfied: jinja2 in c:\\phython3.9\\lib\\site-packages (from torch) (3.1.3)\n",
      "Requirement already satisfied: fsspec in c:\\phython3.9\\lib\\site-packages (from torch) (2024.12.0)\n",
      "Requirement already satisfied: sympy==1.13.1 in c:\\phython3.9\\lib\\site-packages (from torch) (1.13.1)\n",
      "Requirement already satisfied: mpmath<1.4,>=1.1.0 in c:\\phython3.9\\lib\\site-packages (from sympy==1.13.1->torch) (1.3.0)\n",
      "Requirement already satisfied: numpy in c:\\phython3.9\\lib\\site-packages (from torchvision) (1.26.4)\n",
      "Requirement already satisfied: pillow!=8.3.*,>=5.3.0 in c:\\phython3.9\\lib\\site-packages (from torchvision) (10.4.0)\n",
      "Requirement already satisfied: MarkupSafe>=2.0 in c:\\phython3.9\\lib\\site-packages (from jinja2->torch) (2.1.5)\n"
     ]
    },
    {
     "name": "stderr",
     "output_type": "stream",
     "text": [
      "\n",
      "[notice] A new release of pip is available: 24.2 -> 24.3.1\n",
      "[notice] To update, run: python.exe -m pip install --upgrade pip\n"
     ]
    }
   ],
   "source": [
    "!pip install torch torchvision torchaudio"
   ]
  },
  {
   "cell_type": "code",
   "execution_count": 65,
   "metadata": {},
   "outputs": [],
   "source": [
    "import torch\n",
    "import torch.nn as nn\n",
    "import torch.optim as optim\n",
    "from torch.utils.data import DataLoader, TensorDataset\n",
    "from sklearn.model_selection import train_test_split\n",
    "from sklearn.metrics import accuracy_score, classification_report, confusion_matrix"
   ]
  },
  {
   "cell_type": "code",
   "execution_count": 73,
   "metadata": {},
   "outputs": [],
   "source": [
    "#Предсказание y_test сделаем на модели PyTorch\n",
    "model = BinaryClassifier(input_size=(600000, 13)[1])"
   ]
  },
  {
   "cell_type": "code",
   "execution_count": 84,
   "metadata": {},
   "outputs": [],
   "source": [
    "#Переведём данные в нужный формат\n",
    "X_test = torch.tensor(X_test, dtype=torch.float32)"
   ]
  },
  {
   "cell_type": "code",
   "execution_count": 80,
   "metadata": {},
   "outputs": [
    {
     "data": {
      "text/plain": [
       "(400000, 13)"
      ]
     },
     "execution_count": 80,
     "metadata": {},
     "output_type": "execute_result"
    }
   ],
   "source": [
    "X_test.shape"
   ]
  },
  {
   "cell_type": "code",
   "execution_count": 69,
   "metadata": {},
   "outputs": [
    {
     "data": {
      "text/plain": [
       "<All keys matched successfully>"
      ]
     },
     "execution_count": 69,
     "metadata": {},
     "output_type": "execute_result"
    }
   ],
   "source": [
    "model.load_state_dict(torch.load('PyTorch_model', weights_only=True))"
   ]
  },
  {
   "cell_type": "code",
   "execution_count": 70,
   "metadata": {},
   "outputs": [
    {
     "name": "stderr",
     "output_type": "stream",
     "text": [
      "C:\\Users\\lenovo\\AppData\\Local\\Temp\\ipykernel_1544\\3630251337.py:3: FutureWarning: You are using `torch.load` with `weights_only=False` (the current default value), which uses the default pickle module implicitly. It is possible to construct malicious pickle data which will execute arbitrary code during unpickling (See https://github.com/pytorch/pytorch/blob/main/SECURITY.md#untrusted-models for more details). In a future release, the default value for `weights_only` will be flipped to `True`. This limits the functions that could be executed during unpickling. Arbitrary objects will no longer be allowed to be loaded via this mode unless they are explicitly allowlisted by the user via `torch.serialization.add_safe_globals`. We recommend you start setting `weights_only=True` for any use case where you don't have full control of the loaded file. Please open an issue on GitHub for any issues related to this experimental feature.\n",
      "  model.load_state_dict(torch.load('PyTorch_model'))\n"
     ]
    },
    {
     "data": {
      "text/plain": [
       "<All keys matched successfully>"
      ]
     },
     "execution_count": 70,
     "metadata": {},
     "output_type": "execute_result"
    }
   ],
   "source": [
    "#Выгрузим модель\n",
    "\n",
    "model.load_state_dict(torch.load('PyTorch_model'))"
   ]
  },
  {
   "cell_type": "markdown",
   "metadata": {},
   "source": [
    "Предсказание"
   ]
  },
  {
   "cell_type": "code",
   "execution_count": 85,
   "metadata": {},
   "outputs": [],
   "source": [
    "model.eval()\n",
    "with torch.no_grad():\n",
    "    predictions = model(X_test)\n",
    "    predicted_classes = (predictions > 0.5).float()"
   ]
  },
  {
   "cell_type": "code",
   "execution_count": null,
   "metadata": {},
   "outputs": [],
   "source": [
    "#Предсказание находится в переменной predicted_classes"
   ]
  }
 ],
 "metadata": {
  "kernelspec": {
   "display_name": "Python 3",
   "language": "python",
   "name": "python3"
  },
  "language_info": {
   "codemirror_mode": {
    "name": "ipython",
    "version": 3
   },
   "file_extension": ".py",
   "mimetype": "text/x-python",
   "name": "python",
   "nbconvert_exporter": "python",
   "pygments_lexer": "ipython3",
   "version": "3.9.0"
  }
 },
 "nbformat": 4,
 "nbformat_minor": 2
}
