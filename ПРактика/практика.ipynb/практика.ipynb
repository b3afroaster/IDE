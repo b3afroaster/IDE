{
 "cells": [
  {
   "cell_type": "code",
   "execution_count": null,
   "metadata": {},
   "outputs": [],
   "source": [
    "https://colab.research.google.com/drive/1n_K0tr5fnK6EGrzA76XF-Sg4cQp34PeI?usp=sharing#scrollTo=_5XwL6PblwqU\n",
    "#Ноутбук первой практики"
   ]
  }
 ],
 "metadata": {
  "language_info": {
   "name": "python"
  }
 },
 "nbformat": 4,
 "nbformat_minor": 2
}
