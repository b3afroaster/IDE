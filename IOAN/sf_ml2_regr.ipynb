{
 "cells": [
  {
   "cell_type": "code",
   "execution_count": 1,
   "id": "b5cc6f0e-0d9c-4a31-b52d-7fd4c4e43934",
   "metadata": {},
   "outputs": [],
   "source": [
    "import re\n",
    "import missingno\n",
    "import numpy as np\n",
    "import pandas as pd\n",
    "\n",
    "from typing import Union\n",
    "\n",
    "SCREEN_SIZE_REGEXP = re.compile('\\d+\\.?\\d*[\"|”]')\n",
    "FLOAT_REGEXP = re.compile('\\d+\\.?\\d*')   # not exactly \"float\"\n",
    "INT_REGEXP = re.compile('\\d+')\n",
    "RAM_REGEXP = re.compile('[4|8|16|24|32|64]')\n",
    "RESOLUTION_REGEXP = re.compile('\\d+x\\d+')\n",
    "TRAIN_SIZE = 0.7"
   ]
  },
  {
   "cell_type": "code",
   "execution_count": 2,
   "id": "42983f0c-6035-49e7-b757-ad0dc3960685",
   "metadata": {},
   "outputs": [],
   "source": [
    "# !pip install missingno"
   ]
  },
  {
   "cell_type": "markdown",
   "id": "b0c36093-18df-4fdd-8c82-a1eb5c777163",
   "metadata": {},
   "source": [
    "# Основы машинного обучения\n",
    "## Семинар 2. Регрессия\n",
    "\n",
    "**Данные для регрессии**<br>\n",
    "Источник: [kaggle](https://www.kaggle.com/datasets/keremabdullahoglu/laptop-price-dataset-april-2024) (описание и переменные там же).\n",
    "\n",
    "#### Посмотрим на данные в целом"
   ]
  },
  {
   "cell_type": "code",
   "execution_count": 3,
   "id": "7967dbd6-e4f2-421b-9c50-7f31edb86171",
   "metadata": {},
   "outputs": [
    {
     "name": "stdout",
     "output_type": "stream",
     "text": [
      "<class 'pandas.core.frame.DataFrame'>\n",
      "RangeIndex: 3981 entries, 0 to 3980\n",
      "Data columns (total 10 columns):\n",
      " #   Column               Non-Null Count  Dtype  \n",
      "---  ------               --------------  -----  \n",
      " 0   Brand                3949 non-null   object \n",
      " 1   Product_Description  3980 non-null   object \n",
      " 2   Screen_Size          3785 non-null   object \n",
      " 3   RAM                  3730 non-null   object \n",
      " 4   Processor            3880 non-null   object \n",
      " 5   GPU                  3247 non-null   object \n",
      " 6   GPU_Type             3258 non-null   object \n",
      " 7   Resolution           3320 non-null   object \n",
      " 8   Condition            3981 non-null   object \n",
      " 9   Price                3980 non-null   float64\n",
      "dtypes: float64(1), object(9)\n",
      "memory usage: 311.1+ KB\n"
     ]
    }
   ],
   "source": [
    "reg_df = pd.read_csv('laptop_prices.csv')\n",
    "reg_df.info()"
   ]
  },
  {
   "cell_type": "markdown",
   "id": "71097840-2453-4003-91ac-53f2d89026f4",
   "metadata": {},
   "source": [
    "**Почему object - это не очень хорошо**"
   ]
  },
  {
   "cell_type": "code",
   "execution_count": 4,
   "id": "a6899859-fb10-4d5f-910b-09d8fee95d09",
   "metadata": {},
   "outputs": [],
   "source": [
    "array_int = np.array([1, 2, 3], dtype=int)\n",
    "array_object = np.array([1, 2, 3], dtype='object')"
   ]
  },
  {
   "cell_type": "code",
   "execution_count": 5,
   "id": "3b24c3d6-4240-42ad-a4cf-8d364edc52f6",
   "metadata": {},
   "outputs": [
    {
     "data": {
      "text/plain": [
       "array([2, 4, 6], dtype=object)"
      ]
     },
     "execution_count": 5,
     "metadata": {},
     "output_type": "execute_result"
    }
   ],
   "source": [
    "array_object * 2"
   ]
  },
  {
   "cell_type": "code",
   "execution_count": 6,
   "id": "c5e1022b-8b3b-42b7-b31b-3dd167f56fe6",
   "metadata": {},
   "outputs": [],
   "source": [
    "array_object = np.array([1, 2, '3'], dtype='object')"
   ]
  },
  {
   "cell_type": "code",
   "execution_count": 7,
   "id": "cbeb90d4-d511-4f01-a289-1e428ab65240",
   "metadata": {},
   "outputs": [],
   "source": [
    "array_int = pd.Series(np.arange(0, 10000))\n",
    "array_object = array_int.astype('object')"
   ]
  },
  {
   "cell_type": "code",
   "execution_count": 8,
   "id": "1cc4155f-c4dc-4563-99c6-0b001eb47fe3",
   "metadata": {},
   "outputs": [
    {
     "name": "stdout",
     "output_type": "stream",
     "text": [
      "17.7 μs ± 134 ns per loop (mean ± std. dev. of 7 runs, 100,000 loops each)\n"
     ]
    }
   ],
   "source": [
    "%%timeit\n",
    "_ = array_int * 5"
   ]
  },
  {
   "cell_type": "code",
   "execution_count": 9,
   "id": "dbc4b51f-48b2-4742-abe8-0a7923eb5e6c",
   "metadata": {},
   "outputs": [
    {
     "name": "stdout",
     "output_type": "stream",
     "text": [
      "128 μs ± 1.11 μs per loop (mean ± std. dev. of 7 runs, 10,000 loops each)\n"
     ]
    }
   ],
   "source": [
    "%%timeit\n",
    "_ = array_object * 5"
   ]
  },
  {
   "cell_type": "code",
   "execution_count": 10,
   "id": "5a1a5e9c-6306-4b7b-8260-9aaa00569eac",
   "metadata": {},
   "outputs": [
    {
     "name": "stdout",
     "output_type": "stream",
     "text": [
      "3.12 μs ± 46.3 ns per loop (mean ± std. dev. of 7 runs, 100,000 loops each)\n"
     ]
    }
   ],
   "source": [
    "%%timeit\n",
    "_ = array_int.values * 5"
   ]
  },
  {
   "cell_type": "code",
   "execution_count": 11,
   "id": "d26d3907-36ae-453b-ac9c-4ebcc26f059b",
   "metadata": {},
   "outputs": [
    {
     "name": "stdout",
     "output_type": "stream",
     "text": [
      "116 μs ± 1.85 μs per loop (mean ± std. dev. of 7 runs, 10,000 loops each)\n"
     ]
    }
   ],
   "source": [
    "%%timeit\n",
    "_ = array_object.values * 5  # нивелируем плюсы numpy"
   ]
  },
  {
   "cell_type": "markdown",
   "id": "ee1f4f50-d81d-4270-9ac0-cf337459b26d",
   "metadata": {},
   "source": [
    "**Почему object - это не очень хорошо - конец**"
   ]
  },
  {
   "cell_type": "code",
   "execution_count": 12,
   "id": "fcd2d67c-0710-4455-8f1d-24938977ae44",
   "metadata": {},
   "outputs": [
    {
     "data": {
      "text/html": [
       "<div>\n",
       "<style scoped>\n",
       "    .dataframe tbody tr th:only-of-type {\n",
       "        vertical-align: middle;\n",
       "    }\n",
       "\n",
       "    .dataframe tbody tr th {\n",
       "        vertical-align: top;\n",
       "    }\n",
       "\n",
       "    .dataframe thead th {\n",
       "        text-align: right;\n",
       "    }\n",
       "</style>\n",
       "<table border=\"1\" class=\"dataframe\">\n",
       "  <thead>\n",
       "    <tr style=\"text-align: right;\">\n",
       "      <th></th>\n",
       "      <th>Brand</th>\n",
       "      <th>Product_Description</th>\n",
       "      <th>Screen_Size</th>\n",
       "      <th>RAM</th>\n",
       "      <th>Processor</th>\n",
       "      <th>GPU</th>\n",
       "      <th>GPU_Type</th>\n",
       "      <th>Resolution</th>\n",
       "      <th>Condition</th>\n",
       "      <th>Price</th>\n",
       "    </tr>\n",
       "  </thead>\n",
       "  <tbody>\n",
       "    <tr>\n",
       "      <th>0</th>\n",
       "      <td>Lenovo</td>\n",
       "      <td>Lenovo ThinkPad L15 Gen 2 15.6” FHD Laptop Cor...</td>\n",
       "      <td>15.6</td>\n",
       "      <td>16</td>\n",
       "      <td>Intel Core i5-1135G7</td>\n",
       "      <td>Intel Iris Xe Graphics</td>\n",
       "      <td>Integrated/On-Board Graphics</td>\n",
       "      <td>1920 x 1080</td>\n",
       "      <td>Very Good - Refurbished</td>\n",
       "      <td>344.99</td>\n",
       "    </tr>\n",
       "    <tr>\n",
       "      <th>1</th>\n",
       "      <td>Lenovo</td>\n",
       "      <td>Lenovo ThinkPad 14” HD Laptop PC Computer Core...</td>\n",
       "      <td>14</td>\n",
       "      <td>16</td>\n",
       "      <td>Intel Core i5 7th Gen.</td>\n",
       "      <td>Intel HD Graphics 520</td>\n",
       "      <td>Integrated/On-Board Graphics</td>\n",
       "      <td>NaN</td>\n",
       "      <td>Very Good - Refurbished</td>\n",
       "      <td>189.99</td>\n",
       "    </tr>\n",
       "    <tr>\n",
       "      <th>2</th>\n",
       "      <td>Lenovo</td>\n",
       "      <td>Lenovo ThinkPad E14 14\" Laptop Core i5 11th Ge...</td>\n",
       "      <td>14</td>\n",
       "      <td>16</td>\n",
       "      <td>Intel Core i5-1135G7</td>\n",
       "      <td>Intel Iris Xe Graphics</td>\n",
       "      <td>Integrated/On-Board Graphics</td>\n",
       "      <td>1920 x 1080p</td>\n",
       "      <td>Good - Refurbished</td>\n",
       "      <td>289.99</td>\n",
       "    </tr>\n",
       "    <tr>\n",
       "      <th>3</th>\n",
       "      <td>Dell</td>\n",
       "      <td>Dell Latitude 15.6\" Laptop Intel Core i5 64GB ...</td>\n",
       "      <td>NaN</td>\n",
       "      <td>NaN</td>\n",
       "      <td>Intel Core i5 8th Gen.</td>\n",
       "      <td>Intel UHD Graphics 620</td>\n",
       "      <td>Integrated/On-Board Graphics</td>\n",
       "      <td>1920 x 1080</td>\n",
       "      <td>Very Good - Refurbished</td>\n",
       "      <td>349.99</td>\n",
       "    </tr>\n",
       "    <tr>\n",
       "      <th>4</th>\n",
       "      <td>ASUS</td>\n",
       "      <td>🔥NEW Asus Vivobook 15.6\" TouchScreen Laptop In...</td>\n",
       "      <td>15.6</td>\n",
       "      <td>16</td>\n",
       "      <td>Intel Core i7-1255U</td>\n",
       "      <td>Intel Iris Xe Graphics</td>\n",
       "      <td>NaN</td>\n",
       "      <td>1920 x 1080</td>\n",
       "      <td>New</td>\n",
       "      <td>538.95</td>\n",
       "    </tr>\n",
       "  </tbody>\n",
       "</table>\n",
       "</div>"
      ],
      "text/plain": [
       "    Brand                                Product_Description Screen_Size  RAM  \\\n",
       "0  Lenovo  Lenovo ThinkPad L15 Gen 2 15.6” FHD Laptop Cor...        15.6   16   \n",
       "1  Lenovo  Lenovo ThinkPad 14” HD Laptop PC Computer Core...          14   16   \n",
       "2  Lenovo  Lenovo ThinkPad E14 14\" Laptop Core i5 11th Ge...          14   16   \n",
       "3    Dell  Dell Latitude 15.6\" Laptop Intel Core i5 64GB ...         NaN  NaN   \n",
       "4    ASUS  🔥NEW Asus Vivobook 15.6\" TouchScreen Laptop In...        15.6   16   \n",
       "\n",
       "                Processor                     GPU  \\\n",
       "0    Intel Core i5-1135G7  Intel Iris Xe Graphics   \n",
       "1  Intel Core i5 7th Gen.   Intel HD Graphics 520   \n",
       "2    Intel Core i5-1135G7  Intel Iris Xe Graphics   \n",
       "3  Intel Core i5 8th Gen.  Intel UHD Graphics 620   \n",
       "4     Intel Core i7-1255U  Intel Iris Xe Graphics   \n",
       "\n",
       "                       GPU_Type    Resolution                Condition   Price  \n",
       "0  Integrated/On-Board Graphics   1920 x 1080  Very Good - Refurbished  344.99  \n",
       "1  Integrated/On-Board Graphics           NaN  Very Good - Refurbished  189.99  \n",
       "2  Integrated/On-Board Graphics  1920 x 1080p       Good - Refurbished  289.99  \n",
       "3  Integrated/On-Board Graphics   1920 x 1080  Very Good - Refurbished  349.99  \n",
       "4                           NaN   1920 x 1080                      New  538.95  "
      ]
     },
     "execution_count": 12,
     "metadata": {},
     "output_type": "execute_result"
    }
   ],
   "source": [
    "reg_df.head()"
   ]
  },
  {
   "cell_type": "code",
   "execution_count": 13,
   "id": "da46a482-b812-47b6-b648-3561fb2c9dd6",
   "metadata": {},
   "outputs": [
    {
     "data": {
      "text/plain": [
       "Brand                   32\n",
       "Product_Description      1\n",
       "Screen_Size            196\n",
       "RAM                    251\n",
       "Processor              101\n",
       "GPU                    734\n",
       "GPU_Type               723\n",
       "Resolution             661\n",
       "Condition                0\n",
       "Price                    1\n",
       "dtype: int64"
      ]
     },
     "execution_count": 13,
     "metadata": {},
     "output_type": "execute_result"
    }
   ],
   "source": [
    "reg_df.isna().sum()"
   ]
  },
  {
   "cell_type": "code",
   "execution_count": 14,
   "id": "9cb87d86-1d34-407d-9e06-a15aa33bde99",
   "metadata": {},
   "outputs": [
    {
     "data": {
      "image/png": "[encoded data removed]",
      "text/plain": [
       "<Figure size 2500x1000 with 2 Axes>"
      ]
     },
     "metadata": {},
     "output_type": "display_data"
    }
   ],
   "source": [
    "missingno.matrix(reg_df);"
   ]
  },
  {
   "cell_type": "code",
   "execution_count": 15,
   "id": "4bf79c95-abe7-40e2-bee7-4afa357f013a",
   "metadata": {},
   "outputs": [
    {
     "data": {
      "text/plain": [
       "False"
      ]
     },
     "execution_count": 15,
     "metadata": {},
     "output_type": "execute_result"
    }
   ],
   "source": [
    "reg_df.duplicated().any()"
   ]
  },
  {
   "cell_type": "markdown",
   "id": "d79268e1-fcf5-4ad6-8e6e-445e62c9bcec",
   "metadata": {},
   "source": [
    "#### Рассмотрим каждую переменную по отдельности\n",
    "`Brand`"
   ]
  },
  {
   "cell_type": "code",
   "execution_count": 16,
   "id": "528577c0-2e36-40f7-96a1-f3d88f9ab094",
   "metadata": {
    "scrolled": true
   },
   "outputs": [
    {
     "data": {
      "text/plain": [
       "Brand\n",
       "Dell                         1513\n",
       "HP                            776\n",
       "Lenovo                        773\n",
       "Microsoft                     224\n",
       "ASUS                          172\n",
       "Acer                          131\n",
       "Samsung                        72\n",
       "MSI                            68\n",
       "LG                             49\n",
       "DELL                           49\n",
       "LENOVO                         35\n",
       "Gateway                        18\n",
       "Apple                           8\n",
       "MICROSOFT                       7\n",
       "Asus                            7\n",
       "Razer                           5\n",
       "Panasonic                       5\n",
       "Sony                            3\n",
       "Intel                           2\n",
       "Chuwi                           2\n",
       "Dell Inc.                       2\n",
       "Alienware                       2\n",
       "Google                          2\n",
       "GIGABYTE                        2\n",
       "Ruggon                          1\n",
       "Dell Commercial                 1\n",
       "Lenovo Idea                     1\n",
       "HP Commercial Remarketing       1\n",
       "Dell Latitude                   1\n",
       "Microsoft Surface               1\n",
       "Hewlett Packard                 1\n",
       "AVITA                           1\n",
       "AORUS                           1\n",
       "ThinkPad                        1\n",
       "Sager                           1\n",
       "Eurocom                         1\n",
       "Dell gaming games game          1\n",
       "ByteSpeed                       1\n",
       "VAIO                            1\n",
       "Unbranded                       1\n",
       "acer                            1\n",
       "Getac                           1\n",
       "Huawei                          1\n",
       "LG Electronics                  1\n",
       "Geo                             1\n",
       "SAMSUNG                         1\n",
       "Name: count, dtype: int64"
      ]
     },
     "execution_count": 16,
     "metadata": {},
     "output_type": "execute_result"
    }
   ],
   "source": [
    "reg_df['Brand'].value_counts()"
   ]
  },
  {
   "cell_type": "code",
   "execution_count": 17,
   "id": "9a83b668-e555-46d4-ac14-57c3c4f16257",
   "metadata": {
    "scrolled": true
   },
   "outputs": [
    {
     "data": {
      "text/plain": [
       "Brand\n",
       "dell                         1562\n",
       "lenovo                        808\n",
       "hp                            776\n",
       "microsoft                     231\n",
       "asus                          179\n",
       "acer                          132\n",
       "samsung                        73\n",
       "msi                            68\n",
       "lg                             49\n",
       "gateway                        18\n",
       "apple                           8\n",
       "razer                           5\n",
       "panasonic                       5\n",
       "sony                            3\n",
       "dell inc.                       2\n",
       "intel                           2\n",
       "alienware                       2\n",
       "gigabyte                        2\n",
       "chuwi                           2\n",
       "google                          2\n",
       "thinkpad                        1\n",
       "avita                           1\n",
       "aorus                           1\n",
       "lenovo idea                     1\n",
       "ruggon                          1\n",
       "dell commercial                 1\n",
       "hp commercial remarketing       1\n",
       "dell latitude                   1\n",
       "geo                             1\n",
       "hewlett packard                 1\n",
       "lg electronics                  1\n",
       "huawei                          1\n",
       "sager                           1\n",
       "eurocom                         1\n",
       "dell gaming games game          1\n",
       "bytespeed                       1\n",
       "vaio                            1\n",
       "unbranded                       1\n",
       "getac                           1\n",
       "microsoft surface               1\n",
       "Name: count, dtype: int64"
      ]
     },
     "execution_count": 17,
     "metadata": {},
     "output_type": "execute_result"
    }
   ],
   "source": [
    "reg_df['Brand'].str.lower().value_counts()"
   ]
  },
  {
   "cell_type": "code",
   "execution_count": 18,
   "id": "524d2d06-da52-4439-972c-26cf3234dd27",
   "metadata": {},
   "outputs": [],
   "source": [
    "brands_mapper = {\n",
    "    'dell inc.': 'dell',\n",
    "    'lenovo idea': 'lenovo',\n",
    "    'dell commercial': 'dell',\n",
    "    'dell latitude': 'dell',\n",
    "    'hp commercial remarketing': 'hp',\n",
    "    'hewlett packard': 'hp',\n",
    "    'lg electronics': 'lg',\n",
    "    'dell gaming games game': 'dell',\n",
    "    'microsoft surface': 'microsoft'\n",
    "}\n",
    "\n",
    "reg_df['Brand'] = reg_df['Brand'].str.lower().map(lambda br: brands_mapper.get(br, br))  # pd.Series.map / pd.Series.apply\n",
    "# reg_df['Brand'] = reg_df['Brand'].str.lower().apply(lambda br: brands_mapper.get(br, br))\n",
    "# pd.DataFrame.apply -> применяет map к всем pd.Series, которые в нем находятся"
   ]
  },
  {
   "cell_type": "code",
   "execution_count": 19,
   "id": "b4337b8c-2197-4ab8-86bb-06a456be1d5e",
   "metadata": {
    "scrolled": true
   },
   "outputs": [
    {
     "data": {
      "text/plain": [
       "Brand\n",
       "dell         1567\n",
       "lenovo        809\n",
       "hp            778\n",
       "microsoft     232\n",
       "asus          179\n",
       "acer          132\n",
       "samsung        73\n",
       "msi            68\n",
       "lg             50\n",
       "gateway        18\n",
       "apple           8\n",
       "panasonic       5\n",
       "razer           5\n",
       "sony            3\n",
       "intel           2\n",
       "google          2\n",
       "chuwi           2\n",
       "alienware       2\n",
       "gigabyte        2\n",
       "eurocom         1\n",
       "ruggon          1\n",
       "avita           1\n",
       "sager           1\n",
       "getac           1\n",
       "bytespeed       1\n",
       "vaio            1\n",
       "unbranded       1\n",
       "thinkpad        1\n",
       "huawei          1\n",
       "geo             1\n",
       "aorus           1\n",
       "Name: count, dtype: int64"
      ]
     },
     "execution_count": 19,
     "metadata": {},
     "output_type": "execute_result"
    }
   ],
   "source": [
    "brand_counts = reg_df['Brand'].value_counts()\n",
    "brand_counts"
   ]
  },
  {
   "cell_type": "code",
   "execution_count": 20,
   "id": "6411df36-46c3-46af-bb49-f3d1f389b01c",
   "metadata": {},
   "outputs": [],
   "source": [
    "brands_to_mark_other = brand_counts.index[brand_counts.values < 20]\n",
    "reg_df.loc[reg_df['Brand'].isin(brands_to_mark_other), 'Brand'] = 'other'"
   ]
  },
  {
   "cell_type": "code",
   "execution_count": 21,
   "id": "427268a1-fcc2-4918-9f9a-af704cee5efa",
   "metadata": {},
   "outputs": [
    {
     "data": {
      "text/plain": [
       "Brand\n",
       "dell         1567\n",
       "lenovo        809\n",
       "hp            778\n",
       "microsoft     232\n",
       "asus          179\n",
       "acer          132\n",
       "samsung        73\n",
       "msi            68\n",
       "other          61\n",
       "lg             50\n",
       "NaN            32\n",
       "Name: count, dtype: int64"
      ]
     },
     "execution_count": 21,
     "metadata": {},
     "output_type": "execute_result"
    }
   ],
   "source": [
    "reg_df['Brand'].value_counts(dropna=False)"
   ]
  },
  {
   "cell_type": "code",
   "execution_count": 22,
   "id": "193488ae-5d3f-4bdb-a30e-eb533b91af5f",
   "metadata": {},
   "outputs": [],
   "source": [
    "# в колонке Brand остались пропущенные значения. Лучше всего было бы достать название бренда из описания"
   ]
  },
  {
   "cell_type": "markdown",
   "id": "a54dac4d-92e1-435a-81a5-37ad5894b9ce",
   "metadata": {},
   "source": [
    "`Screen_Size`"
   ]
  },
  {
   "cell_type": "code",
   "execution_count": 23,
   "id": "0c482752-d4c8-42d6-9c68-c119ae2ded7a",
   "metadata": {},
   "outputs": [
    {
     "data": {
      "text/html": [
       "<div>\n",
       "<style scoped>\n",
       "    .dataframe tbody tr th:only-of-type {\n",
       "        vertical-align: middle;\n",
       "    }\n",
       "\n",
       "    .dataframe tbody tr th {\n",
       "        vertical-align: top;\n",
       "    }\n",
       "\n",
       "    .dataframe thead th {\n",
       "        text-align: right;\n",
       "    }\n",
       "</style>\n",
       "<table border=\"1\" class=\"dataframe\">\n",
       "  <thead>\n",
       "    <tr style=\"text-align: right;\">\n",
       "      <th></th>\n",
       "      <th>Brand</th>\n",
       "      <th>Product_Description</th>\n",
       "      <th>Screen_Size</th>\n",
       "      <th>RAM</th>\n",
       "      <th>Processor</th>\n",
       "      <th>GPU</th>\n",
       "      <th>GPU_Type</th>\n",
       "      <th>Resolution</th>\n",
       "      <th>Condition</th>\n",
       "      <th>Price</th>\n",
       "    </tr>\n",
       "  </thead>\n",
       "  <tbody>\n",
       "    <tr>\n",
       "      <th>0</th>\n",
       "      <td>lenovo</td>\n",
       "      <td>Lenovo ThinkPad L15 Gen 2 15.6” FHD Laptop Cor...</td>\n",
       "      <td>15.6</td>\n",
       "      <td>16</td>\n",
       "      <td>Intel Core i5-1135G7</td>\n",
       "      <td>Intel Iris Xe Graphics</td>\n",
       "      <td>Integrated/On-Board Graphics</td>\n",
       "      <td>1920 x 1080</td>\n",
       "      <td>Very Good - Refurbished</td>\n",
       "      <td>344.99</td>\n",
       "    </tr>\n",
       "    <tr>\n",
       "      <th>1</th>\n",
       "      <td>lenovo</td>\n",
       "      <td>Lenovo ThinkPad 14” HD Laptop PC Computer Core...</td>\n",
       "      <td>14</td>\n",
       "      <td>16</td>\n",
       "      <td>Intel Core i5 7th Gen.</td>\n",
       "      <td>Intel HD Graphics 520</td>\n",
       "      <td>Integrated/On-Board Graphics</td>\n",
       "      <td>NaN</td>\n",
       "      <td>Very Good - Refurbished</td>\n",
       "      <td>189.99</td>\n",
       "    </tr>\n",
       "    <tr>\n",
       "      <th>2</th>\n",
       "      <td>lenovo</td>\n",
       "      <td>Lenovo ThinkPad E14 14\" Laptop Core i5 11th Ge...</td>\n",
       "      <td>14</td>\n",
       "      <td>16</td>\n",
       "      <td>Intel Core i5-1135G7</td>\n",
       "      <td>Intel Iris Xe Graphics</td>\n",
       "      <td>Integrated/On-Board Graphics</td>\n",
       "      <td>1920 x 1080p</td>\n",
       "      <td>Good - Refurbished</td>\n",
       "      <td>289.99</td>\n",
       "    </tr>\n",
       "    <tr>\n",
       "      <th>3</th>\n",
       "      <td>dell</td>\n",
       "      <td>Dell Latitude 15.6\" Laptop Intel Core i5 64GB ...</td>\n",
       "      <td>NaN</td>\n",
       "      <td>NaN</td>\n",
       "      <td>Intel Core i5 8th Gen.</td>\n",
       "      <td>Intel UHD Graphics 620</td>\n",
       "      <td>Integrated/On-Board Graphics</td>\n",
       "      <td>1920 x 1080</td>\n",
       "      <td>Very Good - Refurbished</td>\n",
       "      <td>349.99</td>\n",
       "    </tr>\n",
       "    <tr>\n",
       "      <th>4</th>\n",
       "      <td>asus</td>\n",
       "      <td>🔥NEW Asus Vivobook 15.6\" TouchScreen Laptop In...</td>\n",
       "      <td>15.6</td>\n",
       "      <td>16</td>\n",
       "      <td>Intel Core i7-1255U</td>\n",
       "      <td>Intel Iris Xe Graphics</td>\n",
       "      <td>NaN</td>\n",
       "      <td>1920 x 1080</td>\n",
       "      <td>New</td>\n",
       "      <td>538.95</td>\n",
       "    </tr>\n",
       "  </tbody>\n",
       "</table>\n",
       "</div>"
      ],
      "text/plain": [
       "    Brand                                Product_Description Screen_Size  RAM  \\\n",
       "0  lenovo  Lenovo ThinkPad L15 Gen 2 15.6” FHD Laptop Cor...        15.6   16   \n",
       "1  lenovo  Lenovo ThinkPad 14” HD Laptop PC Computer Core...          14   16   \n",
       "2  lenovo  Lenovo ThinkPad E14 14\" Laptop Core i5 11th Ge...          14   16   \n",
       "3    dell  Dell Latitude 15.6\" Laptop Intel Core i5 64GB ...         NaN  NaN   \n",
       "4    asus  🔥NEW Asus Vivobook 15.6\" TouchScreen Laptop In...        15.6   16   \n",
       "\n",
       "                Processor                     GPU  \\\n",
       "0    Intel Core i5-1135G7  Intel Iris Xe Graphics   \n",
       "1  Intel Core i5 7th Gen.   Intel HD Graphics 520   \n",
       "2    Intel Core i5-1135G7  Intel Iris Xe Graphics   \n",
       "3  Intel Core i5 8th Gen.  Intel UHD Graphics 620   \n",
       "4     Intel Core i7-1255U  Intel Iris Xe Graphics   \n",
       "\n",
       "                       GPU_Type    Resolution                Condition   Price  \n",
       "0  Integrated/On-Board Graphics   1920 x 1080  Very Good - Refurbished  344.99  \n",
       "1  Integrated/On-Board Graphics           NaN  Very Good - Refurbished  189.99  \n",
       "2  Integrated/On-Board Graphics  1920 x 1080p       Good - Refurbished  289.99  \n",
       "3  Integrated/On-Board Graphics   1920 x 1080  Very Good - Refurbished  349.99  \n",
       "4                           NaN   1920 x 1080                      New  538.95  "
      ]
     },
     "execution_count": 23,
     "metadata": {},
     "output_type": "execute_result"
    }
   ],
   "source": [
    "reg_df.head()"
   ]
  },
  {
   "cell_type": "code",
   "execution_count": 24,
   "id": "667caa5d-3510-4107-8c98-50d600e17866",
   "metadata": {},
   "outputs": [
    {
     "data": {
      "text/plain": [
       "196"
      ]
     },
     "execution_count": 24,
     "metadata": {},
     "output_type": "execute_result"
    }
   ],
   "source": [
    "reg_df['Screen_Size'].isna().sum()"
   ]
  },
  {
   "cell_type": "code",
   "execution_count": 25,
   "id": "25c2d160-d92d-42ee-adac-9aa65d100c64",
   "metadata": {},
   "outputs": [
    {
     "data": {
      "text/plain": [
       "64"
      ]
     },
     "execution_count": 25,
     "metadata": {},
     "output_type": "execute_result"
    }
   ],
   "source": [
    "reg_df['Screen_Size'].nunique(dropna=False)"
   ]
  },
  {
   "cell_type": "code",
   "execution_count": 26,
   "id": "ef2f284b-71a3-4fb2-a9ec-758bc9da51d7",
   "metadata": {},
   "outputs": [
    {
     "data": {
      "text/plain": [
       "64"
      ]
     },
     "execution_count": 26,
     "metadata": {},
     "output_type": "execute_result"
    }
   ],
   "source": [
    "reg_df['Screen_Size'].unique().size"
   ]
  },
  {
   "cell_type": "code",
   "execution_count": 27,
   "id": "4e834152-89a4-4fe3-b56d-f23ff83481fc",
   "metadata": {},
   "outputs": [
    {
     "data": {
      "text/plain": [
       "64"
      ]
     },
     "execution_count": 27,
     "metadata": {},
     "output_type": "execute_result"
    }
   ],
   "source": [
    "len(reg_df['Screen_Size'].unique())"
   ]
  },
  {
   "cell_type": "code",
   "execution_count": 28,
   "id": "ac1e3afe-daff-4360-b459-7bae8e28c10f",
   "metadata": {
    "scrolled": true
   },
   "outputs": [
    {
     "ename": "ValueError",
     "evalue": "could not convert string to float: '14\"'",
     "output_type": "error",
     "traceback": [
      "\u001b[0;31m---------------------------------------------------------------------------\u001b[0m",
      "\u001b[0;31mValueError\u001b[0m                                Traceback (most recent call last)",
      "Cell \u001b[0;32mIn[28], line 1\u001b[0m\n\u001b[0;32m----> 1\u001b[0m \u001b[43mreg_df\u001b[49m\u001b[43m[\u001b[49m\u001b[38;5;124;43m'\u001b[39;49m\u001b[38;5;124;43mScreen_Size\u001b[39;49m\u001b[38;5;124;43m'\u001b[39;49m\u001b[43m]\u001b[49m\u001b[38;5;241;43m.\u001b[39;49m\u001b[43mastype\u001b[49m\u001b[43m(\u001b[49m\u001b[38;5;28;43mfloat\u001b[39;49m\u001b[43m)\u001b[49m  \u001b[38;5;66;03m# 14.6\"\u001b[39;00m\n",
      "File \u001b[0;32m~/teaching/lib/python3.11/site-packages/pandas/core/generic.py:6643\u001b[0m, in \u001b[0;36mNDFrame.astype\u001b[0;34m(self, dtype, copy, errors)\u001b[0m\n\u001b[1;32m   6637\u001b[0m     results \u001b[38;5;241m=\u001b[39m [\n\u001b[1;32m   6638\u001b[0m         ser\u001b[38;5;241m.\u001b[39mastype(dtype, copy\u001b[38;5;241m=\u001b[39mcopy, errors\u001b[38;5;241m=\u001b[39merrors) \u001b[38;5;28;01mfor\u001b[39;00m _, ser \u001b[38;5;129;01min\u001b[39;00m \u001b[38;5;28mself\u001b[39m\u001b[38;5;241m.\u001b[39mitems()\n\u001b[1;32m   6639\u001b[0m     ]\n\u001b[1;32m   6641\u001b[0m \u001b[38;5;28;01melse\u001b[39;00m:\n\u001b[1;32m   6642\u001b[0m     \u001b[38;5;66;03m# else, only a single dtype is given\u001b[39;00m\n\u001b[0;32m-> 6643\u001b[0m     new_data \u001b[38;5;241m=\u001b[39m \u001b[38;5;28;43mself\u001b[39;49m\u001b[38;5;241;43m.\u001b[39;49m\u001b[43m_mgr\u001b[49m\u001b[38;5;241;43m.\u001b[39;49m\u001b[43mastype\u001b[49m\u001b[43m(\u001b[49m\u001b[43mdtype\u001b[49m\u001b[38;5;241;43m=\u001b[39;49m\u001b[43mdtype\u001b[49m\u001b[43m,\u001b[49m\u001b[43m \u001b[49m\u001b[43mcopy\u001b[49m\u001b[38;5;241;43m=\u001b[39;49m\u001b[43mcopy\u001b[49m\u001b[43m,\u001b[49m\u001b[43m \u001b[49m\u001b[43merrors\u001b[49m\u001b[38;5;241;43m=\u001b[39;49m\u001b[43merrors\u001b[49m\u001b[43m)\u001b[49m\n\u001b[1;32m   6644\u001b[0m     res \u001b[38;5;241m=\u001b[39m \u001b[38;5;28mself\u001b[39m\u001b[38;5;241m.\u001b[39m_constructor_from_mgr(new_data, axes\u001b[38;5;241m=\u001b[39mnew_data\u001b[38;5;241m.\u001b[39maxes)\n\u001b[1;32m   6645\u001b[0m     \u001b[38;5;28;01mreturn\u001b[39;00m res\u001b[38;5;241m.\u001b[39m__finalize__(\u001b[38;5;28mself\u001b[39m, method\u001b[38;5;241m=\u001b[39m\u001b[38;5;124m\"\u001b[39m\u001b[38;5;124mastype\u001b[39m\u001b[38;5;124m\"\u001b[39m)\n",
      "File \u001b[0;32m~/teaching/lib/python3.11/site-packages/pandas/core/internals/managers.py:430\u001b[0m, in \u001b[0;36mBaseBlockManager.astype\u001b[0;34m(self, dtype, copy, errors)\u001b[0m\n\u001b[1;32m    427\u001b[0m \u001b[38;5;28;01melif\u001b[39;00m using_copy_on_write():\n\u001b[1;32m    428\u001b[0m     copy \u001b[38;5;241m=\u001b[39m \u001b[38;5;28;01mFalse\u001b[39;00m\n\u001b[0;32m--> 430\u001b[0m \u001b[38;5;28;01mreturn\u001b[39;00m \u001b[38;5;28;43mself\u001b[39;49m\u001b[38;5;241;43m.\u001b[39;49m\u001b[43mapply\u001b[49m\u001b[43m(\u001b[49m\n\u001b[1;32m    431\u001b[0m \u001b[43m    \u001b[49m\u001b[38;5;124;43m\"\u001b[39;49m\u001b[38;5;124;43mastype\u001b[39;49m\u001b[38;5;124;43m\"\u001b[39;49m\u001b[43m,\u001b[49m\n\u001b[1;32m    432\u001b[0m \u001b[43m    \u001b[49m\u001b[43mdtype\u001b[49m\u001b[38;5;241;43m=\u001b[39;49m\u001b[43mdtype\u001b[49m\u001b[43m,\u001b[49m\n\u001b[1;32m    433\u001b[0m \u001b[43m    \u001b[49m\u001b[43mcopy\u001b[49m\u001b[38;5;241;43m=\u001b[39;49m\u001b[43mcopy\u001b[49m\u001b[43m,\u001b[49m\n\u001b[1;32m    434\u001b[0m \u001b[43m    \u001b[49m\u001b[43merrors\u001b[49m\u001b[38;5;241;43m=\u001b[39;49m\u001b[43merrors\u001b[49m\u001b[43m,\u001b[49m\n\u001b[1;32m    435\u001b[0m \u001b[43m    \u001b[49m\u001b[43musing_cow\u001b[49m\u001b[38;5;241;43m=\u001b[39;49m\u001b[43musing_copy_on_write\u001b[49m\u001b[43m(\u001b[49m\u001b[43m)\u001b[49m\u001b[43m,\u001b[49m\n\u001b[1;32m    436\u001b[0m \u001b[43m\u001b[49m\u001b[43m)\u001b[49m\n",
      "File \u001b[0;32m~/teaching/lib/python3.11/site-packages/pandas/core/internals/managers.py:363\u001b[0m, in \u001b[0;36mBaseBlockManager.apply\u001b[0;34m(self, f, align_keys, **kwargs)\u001b[0m\n\u001b[1;32m    361\u001b[0m         applied \u001b[38;5;241m=\u001b[39m b\u001b[38;5;241m.\u001b[39mapply(f, \u001b[38;5;241m*\u001b[39m\u001b[38;5;241m*\u001b[39mkwargs)\n\u001b[1;32m    362\u001b[0m     \u001b[38;5;28;01melse\u001b[39;00m:\n\u001b[0;32m--> 363\u001b[0m         applied \u001b[38;5;241m=\u001b[39m \u001b[38;5;28;43mgetattr\u001b[39;49m\u001b[43m(\u001b[49m\u001b[43mb\u001b[49m\u001b[43m,\u001b[49m\u001b[43m \u001b[49m\u001b[43mf\u001b[49m\u001b[43m)\u001b[49m\u001b[43m(\u001b[49m\u001b[38;5;241;43m*\u001b[39;49m\u001b[38;5;241;43m*\u001b[39;49m\u001b[43mkwargs\u001b[49m\u001b[43m)\u001b[49m\n\u001b[1;32m    364\u001b[0m     result_blocks \u001b[38;5;241m=\u001b[39m extend_blocks(applied, result_blocks)\n\u001b[1;32m    366\u001b[0m out \u001b[38;5;241m=\u001b[39m \u001b[38;5;28mtype\u001b[39m(\u001b[38;5;28mself\u001b[39m)\u001b[38;5;241m.\u001b[39mfrom_blocks(result_blocks, \u001b[38;5;28mself\u001b[39m\u001b[38;5;241m.\u001b[39maxes)\n",
      "File \u001b[0;32m~/teaching/lib/python3.11/site-packages/pandas/core/internals/blocks.py:758\u001b[0m, in \u001b[0;36mBlock.astype\u001b[0;34m(self, dtype, copy, errors, using_cow, squeeze)\u001b[0m\n\u001b[1;32m    755\u001b[0m         \u001b[38;5;28;01mraise\u001b[39;00m \u001b[38;5;167;01mValueError\u001b[39;00m(\u001b[38;5;124m\"\u001b[39m\u001b[38;5;124mCan not squeeze with more than one column.\u001b[39m\u001b[38;5;124m\"\u001b[39m)\n\u001b[1;32m    756\u001b[0m     values \u001b[38;5;241m=\u001b[39m values[\u001b[38;5;241m0\u001b[39m, :]  \u001b[38;5;66;03m# type: ignore[call-overload]\u001b[39;00m\n\u001b[0;32m--> 758\u001b[0m new_values \u001b[38;5;241m=\u001b[39m \u001b[43mastype_array_safe\u001b[49m\u001b[43m(\u001b[49m\u001b[43mvalues\u001b[49m\u001b[43m,\u001b[49m\u001b[43m \u001b[49m\u001b[43mdtype\u001b[49m\u001b[43m,\u001b[49m\u001b[43m \u001b[49m\u001b[43mcopy\u001b[49m\u001b[38;5;241;43m=\u001b[39;49m\u001b[43mcopy\u001b[49m\u001b[43m,\u001b[49m\u001b[43m \u001b[49m\u001b[43merrors\u001b[49m\u001b[38;5;241;43m=\u001b[39;49m\u001b[43merrors\u001b[49m\u001b[43m)\u001b[49m\n\u001b[1;32m    760\u001b[0m new_values \u001b[38;5;241m=\u001b[39m maybe_coerce_values(new_values)\n\u001b[1;32m    762\u001b[0m refs \u001b[38;5;241m=\u001b[39m \u001b[38;5;28;01mNone\u001b[39;00m\n",
      "File \u001b[0;32m~/teaching/lib/python3.11/site-packages/pandas/core/dtypes/astype.py:237\u001b[0m, in \u001b[0;36mastype_array_safe\u001b[0;34m(values, dtype, copy, errors)\u001b[0m\n\u001b[1;32m    234\u001b[0m     dtype \u001b[38;5;241m=\u001b[39m dtype\u001b[38;5;241m.\u001b[39mnumpy_dtype\n\u001b[1;32m    236\u001b[0m \u001b[38;5;28;01mtry\u001b[39;00m:\n\u001b[0;32m--> 237\u001b[0m     new_values \u001b[38;5;241m=\u001b[39m \u001b[43mastype_array\u001b[49m\u001b[43m(\u001b[49m\u001b[43mvalues\u001b[49m\u001b[43m,\u001b[49m\u001b[43m \u001b[49m\u001b[43mdtype\u001b[49m\u001b[43m,\u001b[49m\u001b[43m \u001b[49m\u001b[43mcopy\u001b[49m\u001b[38;5;241;43m=\u001b[39;49m\u001b[43mcopy\u001b[49m\u001b[43m)\u001b[49m\n\u001b[1;32m    238\u001b[0m \u001b[38;5;28;01mexcept\u001b[39;00m (\u001b[38;5;167;01mValueError\u001b[39;00m, \u001b[38;5;167;01mTypeError\u001b[39;00m):\n\u001b[1;32m    239\u001b[0m     \u001b[38;5;66;03m# e.g. _astype_nansafe can fail on object-dtype of strings\u001b[39;00m\n\u001b[1;32m    240\u001b[0m     \u001b[38;5;66;03m#  trying to convert to float\u001b[39;00m\n\u001b[1;32m    241\u001b[0m     \u001b[38;5;28;01mif\u001b[39;00m errors \u001b[38;5;241m==\u001b[39m \u001b[38;5;124m\"\u001b[39m\u001b[38;5;124mignore\u001b[39m\u001b[38;5;124m\"\u001b[39m:\n",
      "File \u001b[0;32m~/teaching/lib/python3.11/site-packages/pandas/core/dtypes/astype.py:182\u001b[0m, in \u001b[0;36mastype_array\u001b[0;34m(values, dtype, copy)\u001b[0m\n\u001b[1;32m    179\u001b[0m     values \u001b[38;5;241m=\u001b[39m values\u001b[38;5;241m.\u001b[39mastype(dtype, copy\u001b[38;5;241m=\u001b[39mcopy)\n\u001b[1;32m    181\u001b[0m \u001b[38;5;28;01melse\u001b[39;00m:\n\u001b[0;32m--> 182\u001b[0m     values \u001b[38;5;241m=\u001b[39m \u001b[43m_astype_nansafe\u001b[49m\u001b[43m(\u001b[49m\u001b[43mvalues\u001b[49m\u001b[43m,\u001b[49m\u001b[43m \u001b[49m\u001b[43mdtype\u001b[49m\u001b[43m,\u001b[49m\u001b[43m \u001b[49m\u001b[43mcopy\u001b[49m\u001b[38;5;241;43m=\u001b[39;49m\u001b[43mcopy\u001b[49m\u001b[43m)\u001b[49m\n\u001b[1;32m    184\u001b[0m \u001b[38;5;66;03m# in pandas we don't store numpy str dtypes, so convert to object\u001b[39;00m\n\u001b[1;32m    185\u001b[0m \u001b[38;5;28;01mif\u001b[39;00m \u001b[38;5;28misinstance\u001b[39m(dtype, np\u001b[38;5;241m.\u001b[39mdtype) \u001b[38;5;129;01mand\u001b[39;00m \u001b[38;5;28missubclass\u001b[39m(values\u001b[38;5;241m.\u001b[39mdtype\u001b[38;5;241m.\u001b[39mtype, \u001b[38;5;28mstr\u001b[39m):\n",
      "File \u001b[0;32m~/teaching/lib/python3.11/site-packages/pandas/core/dtypes/astype.py:133\u001b[0m, in \u001b[0;36m_astype_nansafe\u001b[0;34m(arr, dtype, copy, skipna)\u001b[0m\n\u001b[1;32m    129\u001b[0m     \u001b[38;5;28;01mraise\u001b[39;00m \u001b[38;5;167;01mValueError\u001b[39;00m(msg)\n\u001b[1;32m    131\u001b[0m \u001b[38;5;28;01mif\u001b[39;00m copy \u001b[38;5;129;01mor\u001b[39;00m arr\u001b[38;5;241m.\u001b[39mdtype \u001b[38;5;241m==\u001b[39m \u001b[38;5;28mobject\u001b[39m \u001b[38;5;129;01mor\u001b[39;00m dtype \u001b[38;5;241m==\u001b[39m \u001b[38;5;28mobject\u001b[39m:\n\u001b[1;32m    132\u001b[0m     \u001b[38;5;66;03m# Explicit copy, or required since NumPy can't view from / to object.\u001b[39;00m\n\u001b[0;32m--> 133\u001b[0m     \u001b[38;5;28;01mreturn\u001b[39;00m \u001b[43marr\u001b[49m\u001b[38;5;241;43m.\u001b[39;49m\u001b[43mastype\u001b[49m\u001b[43m(\u001b[49m\u001b[43mdtype\u001b[49m\u001b[43m,\u001b[49m\u001b[43m \u001b[49m\u001b[43mcopy\u001b[49m\u001b[38;5;241;43m=\u001b[39;49m\u001b[38;5;28;43;01mTrue\u001b[39;49;00m\u001b[43m)\u001b[49m\n\u001b[1;32m    135\u001b[0m \u001b[38;5;28;01mreturn\u001b[39;00m arr\u001b[38;5;241m.\u001b[39mastype(dtype, copy\u001b[38;5;241m=\u001b[39mcopy)\n",
      "\u001b[0;31mValueError\u001b[0m: could not convert string to float: '14\"'"
     ]
    }
   ],
   "source": [
    "reg_df['Screen_Size'].astype(float)  # 14.6\""
   ]
  },
  {
   "cell_type": "code",
   "execution_count": 29,
   "id": "f3812c50-d56f-4baa-ae1c-d17d2b62000f",
   "metadata": {},
   "outputs": [],
   "source": [
    "def process_screen_size(value: Union[float|str]) -> float:  # typing кое-где считается хорошим тоном\n",
    "    if type(value) == float:\n",
    "        return value\n",
    "\n",
    "    regexp_result = FLOAT_REGEXP.search(value)\n",
    "\n",
    "    if regexp_result is None:\n",
    "        return None\n",
    "    else:\n",
    "        return float(regexp_result.group())\n",
    "\n",
    "def extract_screen_size(description: str) -> str:\n",
    "    if pd.isna(description):\n",
    "        return None\n",
    "    \n",
    "    regexp_result = SCREEN_SIZE_REGEXP.search(description)\n",
    "\n",
    "    if regexp_result is None:\n",
    "        return None\n",
    "        \n",
    "    return regexp_result.group()[:-1]\n",
    "\n",
    "\n",
    "reg_df['Screen_Size'] = reg_df['Screen_Size'].apply(lambda val: process_screen_size(val))\n",
    "screen_size = pd.Series([extract_screen_size(description) for description in reg_df['Product_Description'].tolist()]).astype(float)\n",
    "\n",
    "reg_df.loc[reg_df['Screen_Size'].isna(), 'Screen_Size'] = screen_size[reg_df['Screen_Size'].isna()]"
   ]
  },
  {
   "cell_type": "code",
   "execution_count": 30,
   "id": "5b03587d-37e2-4152-964b-23d0058cbb50",
   "metadata": {},
   "outputs": [
    {
     "data": {
      "text/plain": [
       "80"
      ]
     },
     "execution_count": 30,
     "metadata": {},
     "output_type": "execute_result"
    }
   ],
   "source": [
    "reg_df['Screen_Size'].isna().sum()"
   ]
  },
  {
   "cell_type": "code",
   "execution_count": 31,
   "id": "d4a99488-0b7c-46c3-8ff7-c6263bcdff03",
   "metadata": {},
   "outputs": [
    {
     "data": {
      "text/plain": [
       "count    3901.000000\n",
       "mean       14.600500\n",
       "std         1.282368\n",
       "min         0.000000\n",
       "25%        14.000000\n",
       "50%        14.000000\n",
       "75%        15.600000\n",
       "max        39.600000\n",
       "Name: Screen_Size, dtype: float64"
      ]
     },
     "execution_count": 31,
     "metadata": {},
     "output_type": "execute_result"
    }
   ],
   "source": [
    "reg_df['Screen_Size'].describe()"
   ]
  },
  {
   "cell_type": "code",
   "execution_count": 32,
   "id": "9d2d5960-5d74-4b2f-9ec1-ab7611e81853",
   "metadata": {},
   "outputs": [
    {
     "data": {
      "image/png": "[encoded data removed]",
      "text/plain": [
       "<Figure size 640x480 with 1 Axes>"
      ]
     },
     "metadata": {},
     "output_type": "display_data"
    }
   ],
   "source": [
    "reg_df['Screen_Size'].hist(bins=20, edgecolor='black');"
   ]
  },
  {
   "cell_type": "code",
   "execution_count": 33,
   "id": "7ddf1317-3813-41a8-b4c2-14986d240a5d",
   "metadata": {},
   "outputs": [
    {
     "data": {
      "image/png": "[encoded data removed]",
      "text/plain": [
       "<Figure size 640x480 with 1 Axes>"
      ]
     },
     "metadata": {},
     "output_type": "display_data"
    }
   ],
   "source": [
    "reg_df['Screen_Size'].plot.box();"
   ]
  },
  {
   "cell_type": "code",
   "execution_count": 34,
   "id": "f0dc2ae1-cf15-46c6-8baa-e09368ba83bc",
   "metadata": {},
   "outputs": [],
   "source": [
    "Q1 = reg_df['Screen_Size'].quantile(0.25)\n",
    "Q3 = reg_df['Screen_Size'].quantile(0.75)\n",
    "IQR = Q3 - Q1\n",
    "\n",
    "right_limit = Q3 + 1.5 * IQR\n",
    "left_limit = 5\n",
    "# left_limit = Q1 - 1.5 * IQR\n",
    "\n",
    "screen_size_filter = (reg_df['Screen_Size'].values >= left_limit) & (reg_df['Screen_Size'].values <= right_limit)"
   ]
  },
  {
   "cell_type": "markdown",
   "id": "1675fa01-1e91-4adb-bc02-793727b58c12",
   "metadata": {},
   "source": [
    "![](https://i2.wp.com/miro.medium.com/1*Xb0RiyFI-8LQ4gysW1YP1w.png)\n",
    "`RAM`"
   ]
  },
  {
   "cell_type": "code",
   "execution_count": 35,
   "id": "8650fc8d-2dfd-4f9a-83a1-f5b2f12d90cd",
   "metadata": {},
   "outputs": [
    {
     "data": {
      "text/html": [
       "<div>\n",
       "<style scoped>\n",
       "    .dataframe tbody tr th:only-of-type {\n",
       "        vertical-align: middle;\n",
       "    }\n",
       "\n",
       "    .dataframe tbody tr th {\n",
       "        vertical-align: top;\n",
       "    }\n",
       "\n",
       "    .dataframe thead th {\n",
       "        text-align: right;\n",
       "    }\n",
       "</style>\n",
       "<table border=\"1\" class=\"dataframe\">\n",
       "  <thead>\n",
       "    <tr style=\"text-align: right;\">\n",
       "      <th></th>\n",
       "      <th>Brand</th>\n",
       "      <th>Product_Description</th>\n",
       "      <th>Screen_Size</th>\n",
       "      <th>RAM</th>\n",
       "      <th>Processor</th>\n",
       "      <th>GPU</th>\n",
       "      <th>GPU_Type</th>\n",
       "      <th>Resolution</th>\n",
       "      <th>Condition</th>\n",
       "      <th>Price</th>\n",
       "    </tr>\n",
       "  </thead>\n",
       "  <tbody>\n",
       "    <tr>\n",
       "      <th>0</th>\n",
       "      <td>lenovo</td>\n",
       "      <td>Lenovo ThinkPad L15 Gen 2 15.6” FHD Laptop Cor...</td>\n",
       "      <td>15.6</td>\n",
       "      <td>16</td>\n",
       "      <td>Intel Core i5-1135G7</td>\n",
       "      <td>Intel Iris Xe Graphics</td>\n",
       "      <td>Integrated/On-Board Graphics</td>\n",
       "      <td>1920 x 1080</td>\n",
       "      <td>Very Good - Refurbished</td>\n",
       "      <td>344.99</td>\n",
       "    </tr>\n",
       "    <tr>\n",
       "      <th>1</th>\n",
       "      <td>lenovo</td>\n",
       "      <td>Lenovo ThinkPad 14” HD Laptop PC Computer Core...</td>\n",
       "      <td>14.0</td>\n",
       "      <td>16</td>\n",
       "      <td>Intel Core i5 7th Gen.</td>\n",
       "      <td>Intel HD Graphics 520</td>\n",
       "      <td>Integrated/On-Board Graphics</td>\n",
       "      <td>NaN</td>\n",
       "      <td>Very Good - Refurbished</td>\n",
       "      <td>189.99</td>\n",
       "    </tr>\n",
       "    <tr>\n",
       "      <th>2</th>\n",
       "      <td>lenovo</td>\n",
       "      <td>Lenovo ThinkPad E14 14\" Laptop Core i5 11th Ge...</td>\n",
       "      <td>14.0</td>\n",
       "      <td>16</td>\n",
       "      <td>Intel Core i5-1135G7</td>\n",
       "      <td>Intel Iris Xe Graphics</td>\n",
       "      <td>Integrated/On-Board Graphics</td>\n",
       "      <td>1920 x 1080p</td>\n",
       "      <td>Good - Refurbished</td>\n",
       "      <td>289.99</td>\n",
       "    </tr>\n",
       "    <tr>\n",
       "      <th>3</th>\n",
       "      <td>dell</td>\n",
       "      <td>Dell Latitude 15.6\" Laptop Intel Core i5 64GB ...</td>\n",
       "      <td>15.6</td>\n",
       "      <td>NaN</td>\n",
       "      <td>Intel Core i5 8th Gen.</td>\n",
       "      <td>Intel UHD Graphics 620</td>\n",
       "      <td>Integrated/On-Board Graphics</td>\n",
       "      <td>1920 x 1080</td>\n",
       "      <td>Very Good - Refurbished</td>\n",
       "      <td>349.99</td>\n",
       "    </tr>\n",
       "    <tr>\n",
       "      <th>4</th>\n",
       "      <td>asus</td>\n",
       "      <td>🔥NEW Asus Vivobook 15.6\" TouchScreen Laptop In...</td>\n",
       "      <td>15.6</td>\n",
       "      <td>16</td>\n",
       "      <td>Intel Core i7-1255U</td>\n",
       "      <td>Intel Iris Xe Graphics</td>\n",
       "      <td>NaN</td>\n",
       "      <td>1920 x 1080</td>\n",
       "      <td>New</td>\n",
       "      <td>538.95</td>\n",
       "    </tr>\n",
       "  </tbody>\n",
       "</table>\n",
       "</div>"
      ],
      "text/plain": [
       "    Brand                                Product_Description  Screen_Size  \\\n",
       "0  lenovo  Lenovo ThinkPad L15 Gen 2 15.6” FHD Laptop Cor...         15.6   \n",
       "1  lenovo  Lenovo ThinkPad 14” HD Laptop PC Computer Core...         14.0   \n",
       "2  lenovo  Lenovo ThinkPad E14 14\" Laptop Core i5 11th Ge...         14.0   \n",
       "3    dell  Dell Latitude 15.6\" Laptop Intel Core i5 64GB ...         15.6   \n",
       "4    asus  🔥NEW Asus Vivobook 15.6\" TouchScreen Laptop In...         15.6   \n",
       "\n",
       "   RAM               Processor                     GPU  \\\n",
       "0   16    Intel Core i5-1135G7  Intel Iris Xe Graphics   \n",
       "1   16  Intel Core i5 7th Gen.   Intel HD Graphics 520   \n",
       "2   16    Intel Core i5-1135G7  Intel Iris Xe Graphics   \n",
       "3  NaN  Intel Core i5 8th Gen.  Intel UHD Graphics 620   \n",
       "4   16     Intel Core i7-1255U  Intel Iris Xe Graphics   \n",
       "\n",
       "                       GPU_Type    Resolution                Condition   Price  \n",
       "0  Integrated/On-Board Graphics   1920 x 1080  Very Good - Refurbished  344.99  \n",
       "1  Integrated/On-Board Graphics           NaN  Very Good - Refurbished  189.99  \n",
       "2  Integrated/On-Board Graphics  1920 x 1080p       Good - Refurbished  289.99  \n",
       "3  Integrated/On-Board Graphics   1920 x 1080  Very Good - Refurbished  349.99  \n",
       "4                           NaN   1920 x 1080                      New  538.95  "
      ]
     },
     "execution_count": 35,
     "metadata": {},
     "output_type": "execute_result"
    }
   ],
   "source": [
    "reg_df.head()"
   ]
  },
  {
   "cell_type": "code",
   "execution_count": 36,
   "id": "27f8c22f-0c27-485b-b48c-540f35f0927b",
   "metadata": {},
   "outputs": [
    {
     "data": {
      "text/plain": [
       "RAM\n",
       "16       1614\n",
       "8        1464\n",
       "32        333\n",
       "NaN       251\n",
       "4         186\n",
       "64         51\n",
       "12         12\n",
       "8GB        11\n",
       "16GB        8\n",
       "up          6\n",
       "16gb        6\n",
       "40          4\n",
       "128         4\n",
       "4GB         4\n",
       "24          4\n",
       "8gb         4\n",
       "Up          4\n",
       "8GB,        3\n",
       "32gb        2\n",
       "512         2\n",
       "32GB        1\n",
       "4GB,        1\n",
       "64gb        1\n",
       "2050        1\n",
       "upto        1\n",
       "20          1\n",
       "256         1\n",
       "16GB,       1\n",
       "Name: count, dtype: int64"
      ]
     },
     "execution_count": 36,
     "metadata": {},
     "output_type": "execute_result"
    }
   ],
   "source": [
    "reg_df['RAM'].value_counts(dropna=False)"
   ]
  },
  {
   "cell_type": "code",
   "execution_count": 37,
   "id": "5d720bb3-30bd-463a-92e2-13e610277a1b",
   "metadata": {},
   "outputs": [],
   "source": [
    "def process_ram(value: Union[int|float|str]) -> str:\n",
    "    if pd.isna(value):\n",
    "        return pd.NA\n",
    "    \n",
    "    regexp_result = INT_REGEXP.search(value)\n",
    "\n",
    "    if regexp_result is None:\n",
    "        return pd.NA\n",
    "\n",
    "    ram_int = int(regexp_result.group())\n",
    "\n",
    "    if ram_int > 128:\n",
    "        return pd.NA\n",
    "\n",
    "    return str(ram_int)\n",
    "\n",
    "reg_df['RAM'] = reg_df['RAM'].map(lambda val: process_ram(val))"
   ]
  },
  {
   "cell_type": "code",
   "execution_count": 38,
   "id": "77903e0c-547a-4bb0-8d35-7127cd050628",
   "metadata": {},
   "outputs": [
    {
     "data": {
      "text/plain": [
       "RAM\n",
       "16     1629\n",
       "8      1482\n",
       "32      336\n",
       "4       191\n",
       "64       52\n",
       "12       12\n",
       "24        4\n",
       "40        4\n",
       "128       4\n",
       "20        1\n",
       "Name: count, dtype: int64"
      ]
     },
     "execution_count": 38,
     "metadata": {},
     "output_type": "execute_result"
    }
   ],
   "source": [
    "ram_counts = reg_df['RAM'].value_counts()\n",
    "ram_counts"
   ]
  },
  {
   "cell_type": "code",
   "execution_count": 39,
   "id": "dc7e2239-db36-43cc-aa1f-32d60ca13940",
   "metadata": {},
   "outputs": [],
   "source": [
    "ram_filter = reg_df['RAM'].isin(ram_counts.index[ram_counts.values >= 20]) & reg_df['RAM'].notna()\n",
    "# можно попробовать достать, но сейчас не будем: важен принцип"
   ]
  },
  {
   "cell_type": "markdown",
   "id": "ad9f95cd-4ecb-460d-aa1b-60b0b15e5fd1",
   "metadata": {},
   "source": [
    "`Processor`"
   ]
  },
  {
   "cell_type": "code",
   "execution_count": 40,
   "id": "47f58615-f0a7-40ad-aa2e-54bd224dc859",
   "metadata": {},
   "outputs": [
    {
     "data": {
      "text/html": [
       "<div>\n",
       "<style scoped>\n",
       "    .dataframe tbody tr th:only-of-type {\n",
       "        vertical-align: middle;\n",
       "    }\n",
       "\n",
       "    .dataframe tbody tr th {\n",
       "        vertical-align: top;\n",
       "    }\n",
       "\n",
       "    .dataframe thead th {\n",
       "        text-align: right;\n",
       "    }\n",
       "</style>\n",
       "<table border=\"1\" class=\"dataframe\">\n",
       "  <thead>\n",
       "    <tr style=\"text-align: right;\">\n",
       "      <th></th>\n",
       "      <th>Brand</th>\n",
       "      <th>Product_Description</th>\n",
       "      <th>Screen_Size</th>\n",
       "      <th>RAM</th>\n",
       "      <th>Processor</th>\n",
       "      <th>GPU</th>\n",
       "      <th>GPU_Type</th>\n",
       "      <th>Resolution</th>\n",
       "      <th>Condition</th>\n",
       "      <th>Price</th>\n",
       "    </tr>\n",
       "  </thead>\n",
       "  <tbody>\n",
       "    <tr>\n",
       "      <th>0</th>\n",
       "      <td>lenovo</td>\n",
       "      <td>Lenovo ThinkPad L15 Gen 2 15.6” FHD Laptop Cor...</td>\n",
       "      <td>15.6</td>\n",
       "      <td>16</td>\n",
       "      <td>Intel Core i5-1135G7</td>\n",
       "      <td>Intel Iris Xe Graphics</td>\n",
       "      <td>Integrated/On-Board Graphics</td>\n",
       "      <td>1920 x 1080</td>\n",
       "      <td>Very Good - Refurbished</td>\n",
       "      <td>344.99</td>\n",
       "    </tr>\n",
       "    <tr>\n",
       "      <th>1</th>\n",
       "      <td>lenovo</td>\n",
       "      <td>Lenovo ThinkPad 14” HD Laptop PC Computer Core...</td>\n",
       "      <td>14.0</td>\n",
       "      <td>16</td>\n",
       "      <td>Intel Core i5 7th Gen.</td>\n",
       "      <td>Intel HD Graphics 520</td>\n",
       "      <td>Integrated/On-Board Graphics</td>\n",
       "      <td>NaN</td>\n",
       "      <td>Very Good - Refurbished</td>\n",
       "      <td>189.99</td>\n",
       "    </tr>\n",
       "    <tr>\n",
       "      <th>2</th>\n",
       "      <td>lenovo</td>\n",
       "      <td>Lenovo ThinkPad E14 14\" Laptop Core i5 11th Ge...</td>\n",
       "      <td>14.0</td>\n",
       "      <td>16</td>\n",
       "      <td>Intel Core i5-1135G7</td>\n",
       "      <td>Intel Iris Xe Graphics</td>\n",
       "      <td>Integrated/On-Board Graphics</td>\n",
       "      <td>1920 x 1080p</td>\n",
       "      <td>Good - Refurbished</td>\n",
       "      <td>289.99</td>\n",
       "    </tr>\n",
       "    <tr>\n",
       "      <th>3</th>\n",
       "      <td>dell</td>\n",
       "      <td>Dell Latitude 15.6\" Laptop Intel Core i5 64GB ...</td>\n",
       "      <td>15.6</td>\n",
       "      <td>&lt;NA&gt;</td>\n",
       "      <td>Intel Core i5 8th Gen.</td>\n",
       "      <td>Intel UHD Graphics 620</td>\n",
       "      <td>Integrated/On-Board Graphics</td>\n",
       "      <td>1920 x 1080</td>\n",
       "      <td>Very Good - Refurbished</td>\n",
       "      <td>349.99</td>\n",
       "    </tr>\n",
       "    <tr>\n",
       "      <th>4</th>\n",
       "      <td>asus</td>\n",
       "      <td>🔥NEW Asus Vivobook 15.6\" TouchScreen Laptop In...</td>\n",
       "      <td>15.6</td>\n",
       "      <td>16</td>\n",
       "      <td>Intel Core i7-1255U</td>\n",
       "      <td>Intel Iris Xe Graphics</td>\n",
       "      <td>NaN</td>\n",
       "      <td>1920 x 1080</td>\n",
       "      <td>New</td>\n",
       "      <td>538.95</td>\n",
       "    </tr>\n",
       "  </tbody>\n",
       "</table>\n",
       "</div>"
      ],
      "text/plain": [
       "    Brand                                Product_Description  Screen_Size  \\\n",
       "0  lenovo  Lenovo ThinkPad L15 Gen 2 15.6” FHD Laptop Cor...         15.6   \n",
       "1  lenovo  Lenovo ThinkPad 14” HD Laptop PC Computer Core...         14.0   \n",
       "2  lenovo  Lenovo ThinkPad E14 14\" Laptop Core i5 11th Ge...         14.0   \n",
       "3    dell  Dell Latitude 15.6\" Laptop Intel Core i5 64GB ...         15.6   \n",
       "4    asus  🔥NEW Asus Vivobook 15.6\" TouchScreen Laptop In...         15.6   \n",
       "\n",
       "    RAM               Processor                     GPU  \\\n",
       "0    16    Intel Core i5-1135G7  Intel Iris Xe Graphics   \n",
       "1    16  Intel Core i5 7th Gen.   Intel HD Graphics 520   \n",
       "2    16    Intel Core i5-1135G7  Intel Iris Xe Graphics   \n",
       "3  <NA>  Intel Core i5 8th Gen.  Intel UHD Graphics 620   \n",
       "4    16     Intel Core i7-1255U  Intel Iris Xe Graphics   \n",
       "\n",
       "                       GPU_Type    Resolution                Condition   Price  \n",
       "0  Integrated/On-Board Graphics   1920 x 1080  Very Good - Refurbished  344.99  \n",
       "1  Integrated/On-Board Graphics           NaN  Very Good - Refurbished  189.99  \n",
       "2  Integrated/On-Board Graphics  1920 x 1080p       Good - Refurbished  289.99  \n",
       "3  Integrated/On-Board Graphics   1920 x 1080  Very Good - Refurbished  349.99  \n",
       "4                           NaN   1920 x 1080                      New  538.95  "
      ]
     },
     "execution_count": 40,
     "metadata": {},
     "output_type": "execute_result"
    }
   ],
   "source": [
    "reg_df.head()"
   ]
  },
  {
   "cell_type": "code",
   "execution_count": 41,
   "id": "d578f9ce-045c-4b4d-ae2a-288d0348a684",
   "metadata": {},
   "outputs": [
    {
     "data": {
      "text/html": [
       "<div>\n",
       "<style scoped>\n",
       "    .dataframe tbody tr th:only-of-type {\n",
       "        vertical-align: middle;\n",
       "    }\n",
       "\n",
       "    .dataframe tbody tr th {\n",
       "        vertical-align: top;\n",
       "    }\n",
       "\n",
       "    .dataframe thead th {\n",
       "        text-align: right;\n",
       "    }\n",
       "</style>\n",
       "<table border=\"1\" class=\"dataframe\">\n",
       "  <thead>\n",
       "    <tr style=\"text-align: right;\">\n",
       "      <th></th>\n",
       "      <th>Brand</th>\n",
       "      <th>Product_Description</th>\n",
       "      <th>Screen_Size</th>\n",
       "      <th>RAM</th>\n",
       "      <th>Processor</th>\n",
       "      <th>GPU</th>\n",
       "      <th>GPU_Type</th>\n",
       "      <th>Resolution</th>\n",
       "      <th>Condition</th>\n",
       "      <th>Price</th>\n",
       "    </tr>\n",
       "  </thead>\n",
       "  <tbody>\n",
       "    <tr>\n",
       "      <th>3335</th>\n",
       "      <td>dell</td>\n",
       "      <td>Dell Ultrabook E7450 Core i7-5600u 2.6GHz 16GB...</td>\n",
       "      <td>14.0</td>\n",
       "      <td>16</td>\n",
       "      <td>Intel Core i7 5th Gen.</td>\n",
       "      <td>Intel HD Graphics 5500</td>\n",
       "      <td>Integrated/On-Board Graphics</td>\n",
       "      <td>1920x1080</td>\n",
       "      <td>Good - Refurbished</td>\n",
       "      <td>280.00</td>\n",
       "    </tr>\n",
       "    <tr>\n",
       "      <th>3297</th>\n",
       "      <td>lenovo</td>\n",
       "      <td>Lenovo X13 2nd Gen 14\" FHD+ I5-1145G7 512GB SS...</td>\n",
       "      <td>14.0</td>\n",
       "      <td>16</td>\n",
       "      <td>Intel Core i5 11th Gen.</td>\n",
       "      <td>Intel(R) Iris(R) Xe Graphics</td>\n",
       "      <td>Integrated/On-Board Graphics</td>\n",
       "      <td>1920 x 1200</td>\n",
       "      <td>Very Good - Refurbished</td>\n",
       "      <td>457.99</td>\n",
       "    </tr>\n",
       "    <tr>\n",
       "      <th>2505</th>\n",
       "      <td>hp</td>\n",
       "      <td>HP Pavilion x360 14m-dy0023dx 14\" Touchscreen ...</td>\n",
       "      <td>14.0</td>\n",
       "      <td>8</td>\n",
       "      <td>Intel Core i5 11th Gen.</td>\n",
       "      <td>Intel Iris Xe Graphics</td>\n",
       "      <td>Integrated/On-Board Graphics</td>\n",
       "      <td>1920 x 1080</td>\n",
       "      <td>New</td>\n",
       "      <td>439.00</td>\n",
       "    </tr>\n",
       "    <tr>\n",
       "      <th>336</th>\n",
       "      <td>asus</td>\n",
       "      <td>New Asus Vivobook F15 15.6\" FHD Touch i7-1255U...</td>\n",
       "      <td>15.6</td>\n",
       "      <td>16</td>\n",
       "      <td>Intel Core i7 12th Gen.</td>\n",
       "      <td>Intel Iris Xe Graphic</td>\n",
       "      <td>Integrated/On-Board Graphics</td>\n",
       "      <td>1920 x 1080</td>\n",
       "      <td>New</td>\n",
       "      <td>581.99</td>\n",
       "    </tr>\n",
       "    <tr>\n",
       "      <th>3764</th>\n",
       "      <td>microsoft</td>\n",
       "      <td>Microsoft 8VC-00001 Surface Go 3 10.5\" Intel i...</td>\n",
       "      <td>10.5</td>\n",
       "      <td>8</td>\n",
       "      <td>Intel Core i3 10th Gen.</td>\n",
       "      <td>Intel UHD Graphics 615</td>\n",
       "      <td>Integrated/On-Board Graphics</td>\n",
       "      <td>1920 x 1280</td>\n",
       "      <td>Open box</td>\n",
       "      <td>659.98</td>\n",
       "    </tr>\n",
       "  </tbody>\n",
       "</table>\n",
       "</div>"
      ],
      "text/plain": [
       "          Brand                                Product_Description  \\\n",
       "3335       dell  Dell Ultrabook E7450 Core i7-5600u 2.6GHz 16GB...   \n",
       "3297     lenovo  Lenovo X13 2nd Gen 14\" FHD+ I5-1145G7 512GB SS...   \n",
       "2505         hp  HP Pavilion x360 14m-dy0023dx 14\" Touchscreen ...   \n",
       "336        asus  New Asus Vivobook F15 15.6\" FHD Touch i7-1255U...   \n",
       "3764  microsoft  Microsoft 8VC-00001 Surface Go 3 10.5\" Intel i...   \n",
       "\n",
       "      Screen_Size RAM                Processor                           GPU  \\\n",
       "3335         14.0  16   Intel Core i7 5th Gen.        Intel HD Graphics 5500   \n",
       "3297         14.0  16  Intel Core i5 11th Gen.  Intel(R) Iris(R) Xe Graphics   \n",
       "2505         14.0   8  Intel Core i5 11th Gen.        Intel Iris Xe Graphics   \n",
       "336          15.6  16  Intel Core i7 12th Gen.         Intel Iris Xe Graphic   \n",
       "3764         10.5   8  Intel Core i3 10th Gen.        Intel UHD Graphics 615   \n",
       "\n",
       "                          GPU_Type   Resolution                Condition  \\\n",
       "3335  Integrated/On-Board Graphics    1920x1080       Good - Refurbished   \n",
       "3297  Integrated/On-Board Graphics  1920 x 1200  Very Good - Refurbished   \n",
       "2505  Integrated/On-Board Graphics  1920 x 1080                      New   \n",
       "336   Integrated/On-Board Graphics  1920 x 1080                      New   \n",
       "3764  Integrated/On-Board Graphics  1920 x 1280                 Open box   \n",
       "\n",
       "       Price  \n",
       "3335  280.00  \n",
       "3297  457.99  \n",
       "2505  439.00  \n",
       "336   581.99  \n",
       "3764  659.98  "
      ]
     },
     "execution_count": 41,
     "metadata": {},
     "output_type": "execute_result"
    }
   ],
   "source": [
    "reg_df.sample(5)"
   ]
  },
  {
   "cell_type": "code",
   "execution_count": 42,
   "id": "ed14223a-15fc-42cf-a245-2ccfb032a93b",
   "metadata": {},
   "outputs": [
    {
     "data": {
      "text/plain": [
       "3425"
      ]
     },
     "execution_count": 42,
     "metadata": {},
     "output_type": "execute_result"
    }
   ],
   "source": [
    "reg_df['Processor'].str.contains('Intel').sum()"
   ]
  },
  {
   "cell_type": "code",
   "execution_count": 43,
   "id": "1b715572-4daa-4dfd-a2ff-70c346ecc436",
   "metadata": {},
   "outputs": [
    {
     "data": {
      "text/plain": [
       "122"
      ]
     },
     "execution_count": 43,
     "metadata": {},
     "output_type": "execute_result"
    }
   ],
   "source": [
    "reg_df['Processor'].str.contains('AMD').sum()"
   ]
  },
  {
   "cell_type": "code",
   "execution_count": 44,
   "id": "4648ea65-22b3-4c1d-9b48-9282c9da9f37",
   "metadata": {},
   "outputs": [
    {
     "data": {
      "text/plain": [
       "3981"
      ]
     },
     "execution_count": 44,
     "metadata": {},
     "output_type": "execute_result"
    }
   ],
   "source": [
    "reg_df['Processor'].size"
   ]
  },
  {
   "cell_type": "code",
   "execution_count": 45,
   "id": "26d7d789-13d3-4f46-96e7-ec44583d76f9",
   "metadata": {},
   "outputs": [
    {
     "data": {
      "text/html": [
       "<div>\n",
       "<style scoped>\n",
       "    .dataframe tbody tr th:only-of-type {\n",
       "        vertical-align: middle;\n",
       "    }\n",
       "\n",
       "    .dataframe tbody tr th {\n",
       "        vertical-align: top;\n",
       "    }\n",
       "\n",
       "    .dataframe thead th {\n",
       "        text-align: right;\n",
       "    }\n",
       "</style>\n",
       "<table border=\"1\" class=\"dataframe\">\n",
       "  <thead>\n",
       "    <tr style=\"text-align: right;\">\n",
       "      <th></th>\n",
       "      <th>Brand</th>\n",
       "      <th>Product_Description</th>\n",
       "      <th>Screen_Size</th>\n",
       "      <th>RAM</th>\n",
       "      <th>Processor</th>\n",
       "      <th>GPU</th>\n",
       "      <th>GPU_Type</th>\n",
       "      <th>Resolution</th>\n",
       "      <th>Condition</th>\n",
       "      <th>Price</th>\n",
       "    </tr>\n",
       "  </thead>\n",
       "  <tbody>\n",
       "    <tr>\n",
       "      <th>7</th>\n",
       "      <td>acer</td>\n",
       "      <td>Acer Spin 14\" Touchscreen Laptop Intel Core i3...</td>\n",
       "      <td>14.0</td>\n",
       "      <td>8</td>\n",
       "      <td>i3-1215U</td>\n",
       "      <td>NaN</td>\n",
       "      <td>NaN</td>\n",
       "      <td>1920 x 1080</td>\n",
       "      <td>New</td>\n",
       "      <td>309.00</td>\n",
       "    </tr>\n",
       "    <tr>\n",
       "      <th>15</th>\n",
       "      <td>lenovo</td>\n",
       "      <td>Lenovo ThinkPad L13 13.3\" Laptop Intel Core 10...</td>\n",
       "      <td>13.3</td>\n",
       "      <td>&lt;NA&gt;</td>\n",
       "      <td>NaN</td>\n",
       "      <td>Intel UHD Graphics</td>\n",
       "      <td>Integrated/On-Board Graphics</td>\n",
       "      <td>1920 x 1080</td>\n",
       "      <td>Very Good - Refurbished</td>\n",
       "      <td>202.45</td>\n",
       "    </tr>\n",
       "    <tr>\n",
       "      <th>19</th>\n",
       "      <td>lenovo</td>\n",
       "      <td>Lenovo Flex 5i 14\" Touch Laptop i5-1235U 8GB R...</td>\n",
       "      <td>14.0</td>\n",
       "      <td>8</td>\n",
       "      <td>i5-1235U</td>\n",
       "      <td>Intel Integrated Iris Xe Graphics</td>\n",
       "      <td>Integrated/On-Board Graphics</td>\n",
       "      <td>1920 x 1200</td>\n",
       "      <td>New</td>\n",
       "      <td>419.00</td>\n",
       "    </tr>\n",
       "    <tr>\n",
       "      <th>43</th>\n",
       "      <td>dell</td>\n",
       "      <td>Dell Latitude 5490 Laptop (Choose Specs + Cond...</td>\n",
       "      <td>14.0</td>\n",
       "      <td>16</td>\n",
       "      <td>i5-8350U</td>\n",
       "      <td>Intel HD Graphics 620</td>\n",
       "      <td>Integrated/On-Board Graphics</td>\n",
       "      <td>1366 x 768</td>\n",
       "      <td>Open box</td>\n",
       "      <td>149.99</td>\n",
       "    </tr>\n",
       "    <tr>\n",
       "      <th>159</th>\n",
       "      <td>msi</td>\n",
       "      <td>MSI Summit E13FlipEvo A13MT-243US - 13.4\" Touc...</td>\n",
       "      <td>13.4</td>\n",
       "      <td>16</td>\n",
       "      <td>i7</td>\n",
       "      <td>Intel Iris Xe Graphics</td>\n",
       "      <td>NaN</td>\n",
       "      <td>1920 x 1200</td>\n",
       "      <td>New</td>\n",
       "      <td>834.95</td>\n",
       "    </tr>\n",
       "    <tr>\n",
       "      <th>...</th>\n",
       "      <td>...</td>\n",
       "      <td>...</td>\n",
       "      <td>...</td>\n",
       "      <td>...</td>\n",
       "      <td>...</td>\n",
       "      <td>...</td>\n",
       "      <td>...</td>\n",
       "      <td>...</td>\n",
       "      <td>...</td>\n",
       "      <td>...</td>\n",
       "    </tr>\n",
       "    <tr>\n",
       "      <th>3975</th>\n",
       "      <td>dell</td>\n",
       "      <td>Dell Latitude 9420 Business 14 Ultrabook 2in1 ...</td>\n",
       "      <td>14.0</td>\n",
       "      <td>16</td>\n",
       "      <td>i5-1145G7</td>\n",
       "      <td>Integrated Graphics</td>\n",
       "      <td>NaN</td>\n",
       "      <td>1920 x 1200</td>\n",
       "      <td>Excellent - Refurbished</td>\n",
       "      <td>792.76</td>\n",
       "    </tr>\n",
       "    <tr>\n",
       "      <th>3976</th>\n",
       "      <td>dell</td>\n",
       "      <td>Dell Latitude Rugged 5424 Business 14 Laptop C...</td>\n",
       "      <td>14.0</td>\n",
       "      <td>16</td>\n",
       "      <td>i7-8650U</td>\n",
       "      <td>AMD RADEON RX 540</td>\n",
       "      <td>NaN</td>\n",
       "      <td>1920 x 1080</td>\n",
       "      <td>Excellent - Refurbished</td>\n",
       "      <td>527.21</td>\n",
       "    </tr>\n",
       "    <tr>\n",
       "      <th>3977</th>\n",
       "      <td>dell</td>\n",
       "      <td>Dell Precision 3560 Workstation 15 15.6 Laptop...</td>\n",
       "      <td>15.6</td>\n",
       "      <td>32</td>\n",
       "      <td>i7-1165G7</td>\n",
       "      <td>Integrated Graphics</td>\n",
       "      <td>NaN</td>\n",
       "      <td>1920 x 1080</td>\n",
       "      <td>Excellent - Refurbished</td>\n",
       "      <td>610.86</td>\n",
       "    </tr>\n",
       "    <tr>\n",
       "      <th>3978</th>\n",
       "      <td>dell</td>\n",
       "      <td>Dell XPS 9320 PLUS 13 13.4 Laptop Core i7 4k u...</td>\n",
       "      <td>13.4</td>\n",
       "      <td>16</td>\n",
       "      <td>i7-1260P</td>\n",
       "      <td>Integrated Graphics</td>\n",
       "      <td>NaN</td>\n",
       "      <td>3456 x 2160</td>\n",
       "      <td>Excellent - Refurbished</td>\n",
       "      <td>628.30</td>\n",
       "    </tr>\n",
       "    <tr>\n",
       "      <th>3980</th>\n",
       "      <td>hp</td>\n",
       "      <td>HP 840 G6 14•8365U•1920 x 1080 Full HD•Silver•...</td>\n",
       "      <td>14.0</td>\n",
       "      <td>32</td>\n",
       "      <td>NaN</td>\n",
       "      <td>NaN</td>\n",
       "      <td>Integrated/On-Board Graphics</td>\n",
       "      <td>1920 x 1080</td>\n",
       "      <td>Very Good - Refurbished</td>\n",
       "      <td>722.89</td>\n",
       "    </tr>\n",
       "  </tbody>\n",
       "</table>\n",
       "<p>434 rows × 10 columns</p>\n",
       "</div>"
      ],
      "text/plain": [
       "       Brand                                Product_Description  Screen_Size  \\\n",
       "7       acer  Acer Spin 14\" Touchscreen Laptop Intel Core i3...         14.0   \n",
       "15    lenovo  Lenovo ThinkPad L13 13.3\" Laptop Intel Core 10...         13.3   \n",
       "19    lenovo  Lenovo Flex 5i 14\" Touch Laptop i5-1235U 8GB R...         14.0   \n",
       "43      dell  Dell Latitude 5490 Laptop (Choose Specs + Cond...         14.0   \n",
       "159      msi  MSI Summit E13FlipEvo A13MT-243US - 13.4\" Touc...         13.4   \n",
       "...      ...                                                ...          ...   \n",
       "3975    dell  Dell Latitude 9420 Business 14 Ultrabook 2in1 ...         14.0   \n",
       "3976    dell  Dell Latitude Rugged 5424 Business 14 Laptop C...         14.0   \n",
       "3977    dell  Dell Precision 3560 Workstation 15 15.6 Laptop...         15.6   \n",
       "3978    dell  Dell XPS 9320 PLUS 13 13.4 Laptop Core i7 4k u...         13.4   \n",
       "3980      hp  HP 840 G6 14•8365U•1920 x 1080 Full HD•Silver•...         14.0   \n",
       "\n",
       "       RAM  Processor                                GPU  \\\n",
       "7        8   i3-1215U                                NaN   \n",
       "15    <NA>        NaN                 Intel UHD Graphics   \n",
       "19       8   i5-1235U  Intel Integrated Iris Xe Graphics   \n",
       "43      16   i5-8350U              Intel HD Graphics 620   \n",
       "159     16         i7             Intel Iris Xe Graphics   \n",
       "...    ...        ...                                ...   \n",
       "3975    16  i5-1145G7                Integrated Graphics   \n",
       "3976    16   i7-8650U                  AMD RADEON RX 540   \n",
       "3977    32  i7-1165G7                Integrated Graphics   \n",
       "3978    16   i7-1260P                Integrated Graphics   \n",
       "3980    32        NaN                                NaN   \n",
       "\n",
       "                          GPU_Type   Resolution                Condition  \\\n",
       "7                              NaN  1920 x 1080                      New   \n",
       "15    Integrated/On-Board Graphics  1920 x 1080  Very Good - Refurbished   \n",
       "19    Integrated/On-Board Graphics  1920 x 1200                      New   \n",
       "43    Integrated/On-Board Graphics   1366 x 768                 Open box   \n",
       "159                            NaN  1920 x 1200                      New   \n",
       "...                            ...          ...                      ...   \n",
       "3975                           NaN  1920 x 1200  Excellent - Refurbished   \n",
       "3976                           NaN  1920 x 1080  Excellent - Refurbished   \n",
       "3977                           NaN  1920 x 1080  Excellent - Refurbished   \n",
       "3978                           NaN  3456 x 2160  Excellent - Refurbished   \n",
       "3980  Integrated/On-Board Graphics  1920 x 1080  Very Good - Refurbished   \n",
       "\n",
       "       Price  \n",
       "7     309.00  \n",
       "15    202.45  \n",
       "19    419.00  \n",
       "43    149.99  \n",
       "159   834.95  \n",
       "...      ...  \n",
       "3975  792.76  \n",
       "3976  527.21  \n",
       "3977  610.86  \n",
       "3978  628.30  \n",
       "3980  722.89  \n",
       "\n",
       "[434 rows x 10 columns]"
      ]
     },
     "execution_count": 45,
     "metadata": {},
     "output_type": "execute_result"
    }
   ],
   "source": [
    "reg_df.loc[~(reg_df['Processor'].str.contains('Intel') | reg_df['Processor'].str.contains('AMD')), :]"
   ]
  },
  {
   "cell_type": "code",
   "execution_count": 46,
   "id": "b5cbb850-baec-4fb1-8153-5e74bdbcaf12",
   "metadata": {},
   "outputs": [
    {
     "data": {
      "text/plain": [
       "0           Intel\n",
       "1           Intel\n",
       "2           Intel\n",
       "3           Intel\n",
       "4           Intel\n",
       "          ...    \n",
       "3976     i7-8650U\n",
       "3977    i7-1165G7\n",
       "3978     i7-1260P\n",
       "3979        Intel\n",
       "3980          NaN\n",
       "Name: Processor, Length: 3981, dtype: object"
      ]
     },
     "execution_count": 46,
     "metadata": {},
     "output_type": "execute_result"
    }
   ],
   "source": [
    "caselist = [\n",
    "    (reg_df['Processor'].fillna('Unknown').str.lower().str.contains('intel'), 'Intel'),\n",
    "    (reg_df['Processor'].fillna('Unknown').str.lower().str.contains('amd'), 'AMD'),\n",
    "]\n",
    "\n",
    "reg_df['Processor'].case_when(caselist=caselist)"
   ]
  },
  {
   "cell_type": "code",
   "execution_count": 47,
   "id": "1886c56e-bdc3-4624-9b43-d9d69c53c858",
   "metadata": {},
   "outputs": [
    {
     "name": "stderr",
     "output_type": "stream",
     "text": [
      "/var/folders/h6/lv17v1r10lz21g745pd6774h0tgc4z/T/ipykernel_18505/4079246552.py:1: FutureWarning: Downcasting object dtype arrays on .fillna, .ffill, .bfill is deprecated and will change in a future version. Call result.infer_objects(copy=False) instead. To opt-in to the future behavior, set `pd.set_option('future.no_silent_downcasting', True)`\n",
      "  intel_mask = reg_df['Processor'].str.lower().str.contains('intel').fillna(False)\n",
      "/var/folders/h6/lv17v1r10lz21g745pd6774h0tgc4z/T/ipykernel_18505/4079246552.py:2: FutureWarning: Downcasting object dtype arrays on .fillna, .ffill, .bfill is deprecated and will change in a future version. Call result.infer_objects(copy=False) instead. To opt-in to the future behavior, set `pd.set_option('future.no_silent_downcasting', True)`\n",
      "  amd_mask = reg_df['Processor'].str.lower().str.contains('amd').fillna(False)\n"
     ]
    }
   ],
   "source": [
    "intel_mask = reg_df['Processor'].str.lower().str.contains('intel').fillna(False)\n",
    "amd_mask = reg_df['Processor'].str.lower().str.contains('amd').fillna(False)\n",
    "unknown_mask = ~(intel_mask | amd_mask)\n",
    "\n",
    "reg_df.loc[intel_mask, 'Processor'] = 'Intel'\n",
    "reg_df.loc[amd_mask, 'Processor'] = 'AMD'\n",
    "reg_df.loc[unknown_mask, 'Processor'] = 'Unknown'"
   ]
  },
  {
   "cell_type": "code",
   "execution_count": 48,
   "id": "68ad13fa-0466-4cc2-82de-b3532483f8b0",
   "metadata": {},
   "outputs": [
    {
     "data": {
      "text/plain": [
       "Processor\n",
       "Intel      3433\n",
       "Unknown     426\n",
       "AMD         122\n",
       "Name: count, dtype: int64"
      ]
     },
     "execution_count": 48,
     "metadata": {},
     "output_type": "execute_result"
    }
   ],
   "source": [
    "reg_df['Processor'].value_counts()"
   ]
  },
  {
   "cell_type": "markdown",
   "id": "0f1b3853-fb28-40b8-80aa-2371a69bb11f",
   "metadata": {},
   "source": [
    "`GPU`"
   ]
  },
  {
   "cell_type": "code",
   "execution_count": 49,
   "id": "366b4adb-fa54-40cc-8808-3ad6d493648a",
   "metadata": {},
   "outputs": [
    {
     "data": {
      "text/html": [
       "<div>\n",
       "<style scoped>\n",
       "    .dataframe tbody tr th:only-of-type {\n",
       "        vertical-align: middle;\n",
       "    }\n",
       "\n",
       "    .dataframe tbody tr th {\n",
       "        vertical-align: top;\n",
       "    }\n",
       "\n",
       "    .dataframe thead th {\n",
       "        text-align: right;\n",
       "    }\n",
       "</style>\n",
       "<table border=\"1\" class=\"dataframe\">\n",
       "  <thead>\n",
       "    <tr style=\"text-align: right;\">\n",
       "      <th></th>\n",
       "      <th>Brand</th>\n",
       "      <th>Product_Description</th>\n",
       "      <th>Screen_Size</th>\n",
       "      <th>RAM</th>\n",
       "      <th>Processor</th>\n",
       "      <th>GPU</th>\n",
       "      <th>GPU_Type</th>\n",
       "      <th>Resolution</th>\n",
       "      <th>Condition</th>\n",
       "      <th>Price</th>\n",
       "    </tr>\n",
       "  </thead>\n",
       "  <tbody>\n",
       "    <tr>\n",
       "      <th>0</th>\n",
       "      <td>lenovo</td>\n",
       "      <td>Lenovo ThinkPad L15 Gen 2 15.6” FHD Laptop Cor...</td>\n",
       "      <td>15.6</td>\n",
       "      <td>16</td>\n",
       "      <td>Intel</td>\n",
       "      <td>Intel Iris Xe Graphics</td>\n",
       "      <td>Integrated/On-Board Graphics</td>\n",
       "      <td>1920 x 1080</td>\n",
       "      <td>Very Good - Refurbished</td>\n",
       "      <td>344.99</td>\n",
       "    </tr>\n",
       "    <tr>\n",
       "      <th>1</th>\n",
       "      <td>lenovo</td>\n",
       "      <td>Lenovo ThinkPad 14” HD Laptop PC Computer Core...</td>\n",
       "      <td>14.0</td>\n",
       "      <td>16</td>\n",
       "      <td>Intel</td>\n",
       "      <td>Intel HD Graphics 520</td>\n",
       "      <td>Integrated/On-Board Graphics</td>\n",
       "      <td>NaN</td>\n",
       "      <td>Very Good - Refurbished</td>\n",
       "      <td>189.99</td>\n",
       "    </tr>\n",
       "    <tr>\n",
       "      <th>2</th>\n",
       "      <td>lenovo</td>\n",
       "      <td>Lenovo ThinkPad E14 14\" Laptop Core i5 11th Ge...</td>\n",
       "      <td>14.0</td>\n",
       "      <td>16</td>\n",
       "      <td>Intel</td>\n",
       "      <td>Intel Iris Xe Graphics</td>\n",
       "      <td>Integrated/On-Board Graphics</td>\n",
       "      <td>1920 x 1080p</td>\n",
       "      <td>Good - Refurbished</td>\n",
       "      <td>289.99</td>\n",
       "    </tr>\n",
       "    <tr>\n",
       "      <th>3</th>\n",
       "      <td>dell</td>\n",
       "      <td>Dell Latitude 15.6\" Laptop Intel Core i5 64GB ...</td>\n",
       "      <td>15.6</td>\n",
       "      <td>&lt;NA&gt;</td>\n",
       "      <td>Intel</td>\n",
       "      <td>Intel UHD Graphics 620</td>\n",
       "      <td>Integrated/On-Board Graphics</td>\n",
       "      <td>1920 x 1080</td>\n",
       "      <td>Very Good - Refurbished</td>\n",
       "      <td>349.99</td>\n",
       "    </tr>\n",
       "    <tr>\n",
       "      <th>4</th>\n",
       "      <td>asus</td>\n",
       "      <td>🔥NEW Asus Vivobook 15.6\" TouchScreen Laptop In...</td>\n",
       "      <td>15.6</td>\n",
       "      <td>16</td>\n",
       "      <td>Intel</td>\n",
       "      <td>Intel Iris Xe Graphics</td>\n",
       "      <td>NaN</td>\n",
       "      <td>1920 x 1080</td>\n",
       "      <td>New</td>\n",
       "      <td>538.95</td>\n",
       "    </tr>\n",
       "  </tbody>\n",
       "</table>\n",
       "</div>"
      ],
      "text/plain": [
       "    Brand                                Product_Description  Screen_Size  \\\n",
       "0  lenovo  Lenovo ThinkPad L15 Gen 2 15.6” FHD Laptop Cor...         15.6   \n",
       "1  lenovo  Lenovo ThinkPad 14” HD Laptop PC Computer Core...         14.0   \n",
       "2  lenovo  Lenovo ThinkPad E14 14\" Laptop Core i5 11th Ge...         14.0   \n",
       "3    dell  Dell Latitude 15.6\" Laptop Intel Core i5 64GB ...         15.6   \n",
       "4    asus  🔥NEW Asus Vivobook 15.6\" TouchScreen Laptop In...         15.6   \n",
       "\n",
       "    RAM Processor                     GPU                      GPU_Type  \\\n",
       "0    16     Intel  Intel Iris Xe Graphics  Integrated/On-Board Graphics   \n",
       "1    16     Intel   Intel HD Graphics 520  Integrated/On-Board Graphics   \n",
       "2    16     Intel  Intel Iris Xe Graphics  Integrated/On-Board Graphics   \n",
       "3  <NA>     Intel  Intel UHD Graphics 620  Integrated/On-Board Graphics   \n",
       "4    16     Intel  Intel Iris Xe Graphics                           NaN   \n",
       "\n",
       "     Resolution                Condition   Price  \n",
       "0   1920 x 1080  Very Good - Refurbished  344.99  \n",
       "1           NaN  Very Good - Refurbished  189.99  \n",
       "2  1920 x 1080p       Good - Refurbished  289.99  \n",
       "3   1920 x 1080  Very Good - Refurbished  349.99  \n",
       "4   1920 x 1080                      New  538.95  "
      ]
     },
     "execution_count": 49,
     "metadata": {},
     "output_type": "execute_result"
    }
   ],
   "source": [
    "reg_df.head()"
   ]
  },
  {
   "cell_type": "code",
   "execution_count": 50,
   "id": "a72772c9-d5ca-4b6e-b810-0c414cfa5f75",
   "metadata": {},
   "outputs": [
    {
     "data": {
      "text/html": [
       "<div>\n",
       "<style scoped>\n",
       "    .dataframe tbody tr th:only-of-type {\n",
       "        vertical-align: middle;\n",
       "    }\n",
       "\n",
       "    .dataframe tbody tr th {\n",
       "        vertical-align: top;\n",
       "    }\n",
       "\n",
       "    .dataframe thead th {\n",
       "        text-align: right;\n",
       "    }\n",
       "</style>\n",
       "<table border=\"1\" class=\"dataframe\">\n",
       "  <thead>\n",
       "    <tr style=\"text-align: right;\">\n",
       "      <th></th>\n",
       "      <th>Brand</th>\n",
       "      <th>Product_Description</th>\n",
       "      <th>Screen_Size</th>\n",
       "      <th>RAM</th>\n",
       "      <th>Processor</th>\n",
       "      <th>GPU</th>\n",
       "      <th>GPU_Type</th>\n",
       "      <th>Resolution</th>\n",
       "      <th>Condition</th>\n",
       "      <th>Price</th>\n",
       "    </tr>\n",
       "  </thead>\n",
       "  <tbody>\n",
       "    <tr>\n",
       "      <th>3891</th>\n",
       "      <td>dell</td>\n",
       "      <td>Windows 7 pro 64b i7 16GB RAM Dell 1000GB SSD ...</td>\n",
       "      <td>14.0</td>\n",
       "      <td>&lt;NA&gt;</td>\n",
       "      <td>Intel</td>\n",
       "      <td>NaN</td>\n",
       "      <td>Integrated/On-Board Graphics</td>\n",
       "      <td>NaN</td>\n",
       "      <td>New</td>\n",
       "      <td>999.00</td>\n",
       "    </tr>\n",
       "    <tr>\n",
       "      <th>218</th>\n",
       "      <td>hp</td>\n",
       "      <td>HP ZBook Fury 15 G7 FHD 15.6\" WS i7-10850H 2.7...</td>\n",
       "      <td>15.6</td>\n",
       "      <td>16</td>\n",
       "      <td>Intel</td>\n",
       "      <td>AMD Radeon Pro W5500M</td>\n",
       "      <td>Dedicated Graphics</td>\n",
       "      <td>1920 x 1080</td>\n",
       "      <td>Open box</td>\n",
       "      <td>599.00</td>\n",
       "    </tr>\n",
       "    <tr>\n",
       "      <th>1445</th>\n",
       "      <td>lenovo</td>\n",
       "      <td>Lenovo V14 IIL 14\" Intel Core i3 10th 8GB RAM ...</td>\n",
       "      <td>14.0</td>\n",
       "      <td>8</td>\n",
       "      <td>Intel</td>\n",
       "      <td>Intel UHD Graphics</td>\n",
       "      <td>Integrated/On-Board Graphics</td>\n",
       "      <td>1920 x 1080</td>\n",
       "      <td>Open box</td>\n",
       "      <td>300.00</td>\n",
       "    </tr>\n",
       "    <tr>\n",
       "      <th>1459</th>\n",
       "      <td>dell</td>\n",
       "      <td>15.6\" TOUCH Dell laptop Precision 5530 i7 8850...</td>\n",
       "      <td>15.6</td>\n",
       "      <td>32</td>\n",
       "      <td>Intel</td>\n",
       "      <td>Nvdia p2000</td>\n",
       "      <td>Integrated/On-Board Graphics</td>\n",
       "      <td>FHD</td>\n",
       "      <td>Excellent - Refurbished</td>\n",
       "      <td>549.99</td>\n",
       "    </tr>\n",
       "    <tr>\n",
       "      <th>3825</th>\n",
       "      <td>dell</td>\n",
       "      <td>Dell Inspiron 15 3593 Laptop 15.6\" Intel i3-10...</td>\n",
       "      <td>15.6</td>\n",
       "      <td>8</td>\n",
       "      <td>Intel</td>\n",
       "      <td>Intel UHD Graphics</td>\n",
       "      <td>Integrated/On-Board Graphics</td>\n",
       "      <td>1920 x 1080</td>\n",
       "      <td>New</td>\n",
       "      <td>599.99</td>\n",
       "    </tr>\n",
       "  </tbody>\n",
       "</table>\n",
       "</div>"
      ],
      "text/plain": [
       "       Brand                                Product_Description  Screen_Size  \\\n",
       "3891    dell  Windows 7 pro 64b i7 16GB RAM Dell 1000GB SSD ...         14.0   \n",
       "218       hp  HP ZBook Fury 15 G7 FHD 15.6\" WS i7-10850H 2.7...         15.6   \n",
       "1445  lenovo  Lenovo V14 IIL 14\" Intel Core i3 10th 8GB RAM ...         14.0   \n",
       "1459    dell  15.6\" TOUCH Dell laptop Precision 5530 i7 8850...         15.6   \n",
       "3825    dell  Dell Inspiron 15 3593 Laptop 15.6\" Intel i3-10...         15.6   \n",
       "\n",
       "       RAM Processor                    GPU                      GPU_Type  \\\n",
       "3891  <NA>     Intel                    NaN  Integrated/On-Board Graphics   \n",
       "218     16     Intel  AMD Radeon Pro W5500M            Dedicated Graphics   \n",
       "1445     8     Intel     Intel UHD Graphics  Integrated/On-Board Graphics   \n",
       "1459    32     Intel            Nvdia p2000  Integrated/On-Board Graphics   \n",
       "3825     8     Intel     Intel UHD Graphics  Integrated/On-Board Graphics   \n",
       "\n",
       "       Resolution                Condition   Price  \n",
       "3891          NaN                      New  999.00  \n",
       "218   1920 x 1080                 Open box  599.00  \n",
       "1445  1920 x 1080                 Open box  300.00  \n",
       "1459          FHD  Excellent - Refurbished  549.99  \n",
       "3825  1920 x 1080                      New  599.99  "
      ]
     },
     "execution_count": 50,
     "metadata": {},
     "output_type": "execute_result"
    }
   ],
   "source": [
    "reg_df.sample(5)"
   ]
  },
  {
   "cell_type": "code",
   "execution_count": 51,
   "id": "4fd58d54-2bcd-4812-923a-ef7a2ba27cd5",
   "metadata": {},
   "outputs": [
    {
     "name": "stderr",
     "output_type": "stream",
     "text": [
      "/var/folders/h6/lv17v1r10lz21g745pd6774h0tgc4z/T/ipykernel_18505/522825850.py:1: FutureWarning: Downcasting object dtype arrays on .fillna, .ffill, .bfill is deprecated and will change in a future version. Call result.infer_objects(copy=False) instead. To opt-in to the future behavior, set `pd.set_option('future.no_silent_downcasting', True)`\n",
      "  gpu_intel_mask = reg_df['GPU'].str.lower().str.contains('intel').fillna(False)\n",
      "/var/folders/h6/lv17v1r10lz21g745pd6774h0tgc4z/T/ipykernel_18505/522825850.py:2: FutureWarning: Downcasting object dtype arrays on .fillna, .ffill, .bfill is deprecated and will change in a future version. Call result.infer_objects(copy=False) instead. To opt-in to the future behavior, set `pd.set_option('future.no_silent_downcasting', True)`\n",
      "  gpu_amd_mask = reg_df['GPU'].str.lower().str.contains('amd').fillna(False)\n",
      "/var/folders/h6/lv17v1r10lz21g745pd6774h0tgc4z/T/ipykernel_18505/522825850.py:3: FutureWarning: Downcasting object dtype arrays on .fillna, .ffill, .bfill is deprecated and will change in a future version. Call result.infer_objects(copy=False) instead. To opt-in to the future behavior, set `pd.set_option('future.no_silent_downcasting', True)`\n",
      "  gpu_nvidia_mask = reg_df['GPU'].str.lower().str.contains('nvidia').fillna(False)\n"
     ]
    }
   ],
   "source": [
    "gpu_intel_mask = reg_df['GPU'].str.lower().str.contains('intel').fillna(False)\n",
    "gpu_amd_mask = reg_df['GPU'].str.lower().str.contains('amd').fillna(False)\n",
    "gpu_nvidia_mask = reg_df['GPU'].str.lower().str.contains('nvidia').fillna(False)\n",
    "gpu_unknown_mask = ~(gpu_intel_mask | gpu_amd_mask | gpu_nvidia_mask)\n",
    "\n",
    "reg_df.loc[gpu_intel_mask, 'GPU'] = 'Intel'\n",
    "reg_df.loc[gpu_amd_mask, 'GPU'] = 'AMD'\n",
    "reg_df.loc[gpu_nvidia_mask, 'GPU'] = 'Nvidia'\n",
    "reg_df.loc[gpu_unknown_mask, 'GPU'] = 'Unknown'"
   ]
  },
  {
   "cell_type": "code",
   "execution_count": 52,
   "id": "68933d84-054b-42fb-9baf-0c00ff4eaacd",
   "metadata": {},
   "outputs": [
    {
     "data": {
      "text/plain": [
       "GPU\n",
       "Intel      2446\n",
       "Unknown     912\n",
       "Nvidia      468\n",
       "AMD         155\n",
       "Name: count, dtype: int64"
      ]
     },
     "execution_count": 52,
     "metadata": {},
     "output_type": "execute_result"
    }
   ],
   "source": [
    "reg_df['GPU'].value_counts()"
   ]
  },
  {
   "cell_type": "markdown",
   "id": "9671390b-f8ff-4629-893a-a233d36dca5f",
   "metadata": {},
   "source": [
    "`GPU_Type`"
   ]
  },
  {
   "cell_type": "code",
   "execution_count": 53,
   "id": "66a1ae47-3df2-4829-ba8f-6de22805e5c1",
   "metadata": {
    "scrolled": true
   },
   "outputs": [
    {
     "data": {
      "text/plain": [
       "GPU_Type\n",
       "Integrated/On-Board Graphics                          2678\n",
       "Dedicated Graphics                                     534\n",
       "Intel Iris Xe                                           17\n",
       "Intel UHD Graphics                                       5\n",
       "Intel Iris Xe Graphics                                   4\n",
       "Integrated                                               3\n",
       "Integrated Graphics                                      3\n",
       "Iris Xe Graphics                                         2\n",
       "Not available                                            2\n",
       "Intergrated Intel UHD Graphics                           1\n",
       "Intel Arc A370M                                          1\n",
       "AMD Radeon(TM) 530 Graphics with 4G GDDR5 graphics       1\n",
       "NVIDIA Quadro M1200                                      1\n",
       "NVIDIA GeForce RTX 4080                                  1\n",
       "Intel® Iris Xe Graphics                                  1\n",
       "Intel® UHD Graphics                                      1\n",
       "Intel HD Graphics 520                                    1\n",
       "NVIDIA GeForce RTX4050                                   1\n",
       "Intel UHD Graphics 620                                   1\n",
       "Name: count, dtype: int64"
      ]
     },
     "execution_count": 53,
     "metadata": {},
     "output_type": "execute_result"
    }
   ],
   "source": [
    "reg_df['GPU_Type'].value_counts()"
   ]
  },
  {
   "cell_type": "code",
   "execution_count": 54,
   "id": "f5e840d3-1232-4cb6-9e1c-b51072894d44",
   "metadata": {},
   "outputs": [],
   "source": [
    "# не следует использовать, будет слишком сильно пересекаться с GPU"
   ]
  },
  {
   "cell_type": "markdown",
   "id": "f0f3ce27-67d4-4788-9cc7-7dba42821dcf",
   "metadata": {},
   "source": [
    "`Resolution`"
   ]
  },
  {
   "cell_type": "code",
   "execution_count": 55,
   "id": "925e4327-6e5b-4a52-ab3f-c55368452f8e",
   "metadata": {},
   "outputs": [
    {
     "data": {
      "text/plain": [
       "Resolution\n",
       "1920 x 1080                                   2002\n",
       "1920 x 1200                                    326\n",
       "1366 x 768                                     296\n",
       "2560 x 1600                                     88\n",
       "1920x1080                                       69\n",
       "                                              ... \n",
       "2240x1400                                        1\n",
       "FHD                                              1\n",
       "Touchscreen                                      1\n",
       "5K                                               1\n",
       "15.6\" UltraSharp FHD IPS Touch (1920x1080)       1\n",
       "Name: count, Length: 76, dtype: int64"
      ]
     },
     "execution_count": 55,
     "metadata": {},
     "output_type": "execute_result"
    }
   ],
   "source": [
    "reg_df['Resolution'].value_counts()"
   ]
  },
  {
   "cell_type": "code",
   "execution_count": 56,
   "id": "68c2ea18-3f48-44dd-bcee-48710d10d0fd",
   "metadata": {},
   "outputs": [],
   "source": [
    "def process_resolutuon(value: Union[int|float|str]) -> str:\n",
    "    if pd.isna(value):\n",
    "        return np.nan\n",
    "    \n",
    "    regexp_result = RESOLUTION_REGEXP.search(value)\n",
    "\n",
    "    if regexp_result is None:\n",
    "        return np.nan\n",
    "\n",
    "    x, y = regexp_result.group().split('x')\n",
    "\n",
    "    return float(x) * float(y)\n",
    "\n",
    "reg_df['Resolution'] = [process_resolutuon(string) for string in reg_df['Resolution'].str.replace(' ', '').tolist()]"
   ]
  },
  {
   "cell_type": "code",
   "execution_count": 57,
   "id": "1b993859-a08e-407e-971d-a421418258e2",
   "metadata": {},
   "outputs": [
    {
     "data": {
      "image/png": "[encoded data removed]",
      "text/plain": [
       "<Figure size 640x480 with 1 Axes>"
      ]
     },
     "metadata": {},
     "output_type": "display_data"
    }
   ],
   "source": [
    "reg_df['Resolution'].hist(bins=20, edgecolor='black');"
   ]
  },
  {
   "cell_type": "code",
   "execution_count": 58,
   "id": "66b8e98a-52ff-4138-b651-7bdf5d246c92",
   "metadata": {},
   "outputs": [
    {
     "data": {
      "image/png": "[encoded data removed]",
      "text/plain": [
       "<Figure size 640x480 with 1 Axes>"
      ]
     },
     "metadata": {},
     "output_type": "display_data"
    }
   ],
   "source": [
    "reg_df['Resolution'].plot.box();"
   ]
  },
  {
   "cell_type": "code",
   "execution_count": 59,
   "id": "3416b7d5-7b5c-43fe-a876-ceeebe972180",
   "metadata": {},
   "outputs": [],
   "source": [
    "reg_df['Resolution_log'] = np.log(reg_df['Resolution'].values)"
   ]
  },
  {
   "cell_type": "code",
   "execution_count": 60,
   "id": "d10f4d11-046e-4c9a-a396-ddbedd235c75",
   "metadata": {},
   "outputs": [],
   "source": [
    "# то, во сколько надо возвести 2, чтобы получить 8\n",
    "# log(8, основание=2) = 3"
   ]
  },
  {
   "cell_type": "code",
   "execution_count": 61,
   "id": "44ec8ad5-bb9f-4c74-86b2-8d2130ae1923",
   "metadata": {},
   "outputs": [
    {
     "data": {
      "image/png": "[encoded data removed]",
      "text/plain": [
       "<Figure size 640x480 with 1 Axes>"
      ]
     },
     "metadata": {},
     "output_type": "display_data"
    }
   ],
   "source": [
    "reg_df['Resolution_log'].plot.box();"
   ]
  },
  {
   "cell_type": "code",
   "execution_count": 62,
   "id": "862c2e9d-b2df-44b8-a2c2-9879acd60a9b",
   "metadata": {},
   "outputs": [],
   "source": [
    "# 4, 16, 64, ...\n",
    "\n",
    "# log(x, основание=4)\n",
    "# 1,  2,  3"
   ]
  },
  {
   "cell_type": "code",
   "execution_count": 63,
   "id": "c63f2396-48b5-4f97-ba09-b0baa2290e62",
   "metadata": {},
   "outputs": [],
   "source": [
    "resolution_filter = reg_df['Resolution_log'].notna()"
   ]
  },
  {
   "cell_type": "markdown",
   "id": "9b552210-0184-4118-b927-5fd1f5b1fcba",
   "metadata": {},
   "source": [
    "`Condition`"
   ]
  },
  {
   "cell_type": "code",
   "execution_count": 64,
   "id": "2d97c05b-ed86-4ac3-b31b-75670b6771fc",
   "metadata": {},
   "outputs": [
    {
     "data": {
      "text/html": [
       "<div>\n",
       "<style scoped>\n",
       "    .dataframe tbody tr th:only-of-type {\n",
       "        vertical-align: middle;\n",
       "    }\n",
       "\n",
       "    .dataframe tbody tr th {\n",
       "        vertical-align: top;\n",
       "    }\n",
       "\n",
       "    .dataframe thead th {\n",
       "        text-align: right;\n",
       "    }\n",
       "</style>\n",
       "<table border=\"1\" class=\"dataframe\">\n",
       "  <thead>\n",
       "    <tr style=\"text-align: right;\">\n",
       "      <th></th>\n",
       "      <th>Brand</th>\n",
       "      <th>Product_Description</th>\n",
       "      <th>Screen_Size</th>\n",
       "      <th>RAM</th>\n",
       "      <th>Processor</th>\n",
       "      <th>GPU</th>\n",
       "      <th>GPU_Type</th>\n",
       "      <th>Resolution</th>\n",
       "      <th>Condition</th>\n",
       "      <th>Price</th>\n",
       "      <th>Resolution_log</th>\n",
       "    </tr>\n",
       "  </thead>\n",
       "  <tbody>\n",
       "    <tr>\n",
       "      <th>0</th>\n",
       "      <td>lenovo</td>\n",
       "      <td>Lenovo ThinkPad L15 Gen 2 15.6” FHD Laptop Cor...</td>\n",
       "      <td>15.6</td>\n",
       "      <td>16</td>\n",
       "      <td>Intel</td>\n",
       "      <td>Intel</td>\n",
       "      <td>Integrated/On-Board Graphics</td>\n",
       "      <td>2073600.0</td>\n",
       "      <td>Very Good - Refurbished</td>\n",
       "      <td>344.99</td>\n",
       "      <td>14.544797</td>\n",
       "    </tr>\n",
       "    <tr>\n",
       "      <th>1</th>\n",
       "      <td>lenovo</td>\n",
       "      <td>Lenovo ThinkPad 14” HD Laptop PC Computer Core...</td>\n",
       "      <td>14.0</td>\n",
       "      <td>16</td>\n",
       "      <td>Intel</td>\n",
       "      <td>Intel</td>\n",
       "      <td>Integrated/On-Board Graphics</td>\n",
       "      <td>NaN</td>\n",
       "      <td>Very Good - Refurbished</td>\n",
       "      <td>189.99</td>\n",
       "      <td>NaN</td>\n",
       "    </tr>\n",
       "    <tr>\n",
       "      <th>2</th>\n",
       "      <td>lenovo</td>\n",
       "      <td>Lenovo ThinkPad E14 14\" Laptop Core i5 11th Ge...</td>\n",
       "      <td>14.0</td>\n",
       "      <td>16</td>\n",
       "      <td>Intel</td>\n",
       "      <td>Intel</td>\n",
       "      <td>Integrated/On-Board Graphics</td>\n",
       "      <td>2073600.0</td>\n",
       "      <td>Good - Refurbished</td>\n",
       "      <td>289.99</td>\n",
       "      <td>14.544797</td>\n",
       "    </tr>\n",
       "    <tr>\n",
       "      <th>3</th>\n",
       "      <td>dell</td>\n",
       "      <td>Dell Latitude 15.6\" Laptop Intel Core i5 64GB ...</td>\n",
       "      <td>15.6</td>\n",
       "      <td>&lt;NA&gt;</td>\n",
       "      <td>Intel</td>\n",
       "      <td>Intel</td>\n",
       "      <td>Integrated/On-Board Graphics</td>\n",
       "      <td>2073600.0</td>\n",
       "      <td>Very Good - Refurbished</td>\n",
       "      <td>349.99</td>\n",
       "      <td>14.544797</td>\n",
       "    </tr>\n",
       "    <tr>\n",
       "      <th>4</th>\n",
       "      <td>asus</td>\n",
       "      <td>🔥NEW Asus Vivobook 15.6\" TouchScreen Laptop In...</td>\n",
       "      <td>15.6</td>\n",
       "      <td>16</td>\n",
       "      <td>Intel</td>\n",
       "      <td>Intel</td>\n",
       "      <td>NaN</td>\n",
       "      <td>2073600.0</td>\n",
       "      <td>New</td>\n",
       "      <td>538.95</td>\n",
       "      <td>14.544797</td>\n",
       "    </tr>\n",
       "  </tbody>\n",
       "</table>\n",
       "</div>"
      ],
      "text/plain": [
       "    Brand                                Product_Description  Screen_Size  \\\n",
       "0  lenovo  Lenovo ThinkPad L15 Gen 2 15.6” FHD Laptop Cor...         15.6   \n",
       "1  lenovo  Lenovo ThinkPad 14” HD Laptop PC Computer Core...         14.0   \n",
       "2  lenovo  Lenovo ThinkPad E14 14\" Laptop Core i5 11th Ge...         14.0   \n",
       "3    dell  Dell Latitude 15.6\" Laptop Intel Core i5 64GB ...         15.6   \n",
       "4    asus  🔥NEW Asus Vivobook 15.6\" TouchScreen Laptop In...         15.6   \n",
       "\n",
       "    RAM Processor    GPU                      GPU_Type  Resolution  \\\n",
       "0    16     Intel  Intel  Integrated/On-Board Graphics   2073600.0   \n",
       "1    16     Intel  Intel  Integrated/On-Board Graphics         NaN   \n",
       "2    16     Intel  Intel  Integrated/On-Board Graphics   2073600.0   \n",
       "3  <NA>     Intel  Intel  Integrated/On-Board Graphics   2073600.0   \n",
       "4    16     Intel  Intel                           NaN   2073600.0   \n",
       "\n",
       "                 Condition   Price  Resolution_log  \n",
       "0  Very Good - Refurbished  344.99       14.544797  \n",
       "1  Very Good - Refurbished  189.99             NaN  \n",
       "2       Good - Refurbished  289.99       14.544797  \n",
       "3  Very Good - Refurbished  349.99       14.544797  \n",
       "4                      New  538.95       14.544797  "
      ]
     },
     "execution_count": 64,
     "metadata": {},
     "output_type": "execute_result"
    }
   ],
   "source": [
    "reg_df.head()"
   ]
  },
  {
   "cell_type": "code",
   "execution_count": 65,
   "id": "46bcd4a8-ca2d-44b2-8f03-360bbba97db1",
   "metadata": {},
   "outputs": [
    {
     "data": {
      "text/plain": [
       "Condition\n",
       "New                        1156\n",
       "Open box                   1046\n",
       "Excellent - Refurbished     623\n",
       "Very Good - Refurbished     600\n",
       "Good - Refurbished          554\n",
       "Used                          1\n",
       "--                            1\n",
       "Name: count, dtype: int64"
      ]
     },
     "execution_count": 65,
     "metadata": {},
     "output_type": "execute_result"
    }
   ],
   "source": [
    "reg_df['Condition'].value_counts()"
   ]
  },
  {
   "cell_type": "code",
   "execution_count": 66,
   "id": "d1d6cbcc-e884-45ea-8579-ab79bce6f08f",
   "metadata": {},
   "outputs": [],
   "source": [
    "condition_filter = ~reg_df['Condition'].isin(['Used', '--'])"
   ]
  },
  {
   "cell_type": "markdown",
   "id": "ba3942ff-a2fb-4fb6-8da4-60e23aa841c4",
   "metadata": {},
   "source": [
    "Самое главное - таргет!\n",
    "\n",
    "`Price`"
   ]
  },
  {
   "cell_type": "code",
   "execution_count": 67,
   "id": "0a731923-89da-4675-b094-ca2c5bb20766",
   "metadata": {},
   "outputs": [
    {
     "data": {
      "text/plain": [
       "count    3980.00\n",
       "mean      521.74\n",
       "std       241.28\n",
       "min         0.00\n",
       "25%       324.56\n",
       "50%       498.85\n",
       "75%       700.00\n",
       "max       999.99\n",
       "Name: Price, dtype: float64"
      ]
     },
     "execution_count": 67,
     "metadata": {},
     "output_type": "execute_result"
    }
   ],
   "source": [
    "reg_df['Price'].describe().round(2)"
   ]
  },
  {
   "cell_type": "code",
   "execution_count": 68,
   "id": "3cc699a4-819a-48b1-a675-1ed1ce26c024",
   "metadata": {},
   "outputs": [
    {
     "data": {
      "image/png": "[encoded data removed]",
      "text/plain": [
       "<Figure size 640x480 with 1 Axes>"
      ]
     },
     "metadata": {},
     "output_type": "display_data"
    }
   ],
   "source": [
    "reg_df['Price'].plot.hist(edgecolor='black', bins=20);"
   ]
  },
  {
   "cell_type": "code",
   "execution_count": 69,
   "id": "d17218a5-d99f-4bfd-b39e-e9f293839a5c",
   "metadata": {},
   "outputs": [
    {
     "data": {
      "image/png": "[encoded data removed]",
      "text/plain": [
       "<Figure size 640x480 with 1 Axes>"
      ]
     },
     "metadata": {},
     "output_type": "display_data"
    }
   ],
   "source": [
    "reg_df['Price'].plot.box(vert=False);"
   ]
  },
  {
   "cell_type": "markdown",
   "id": "303301b2-837e-4a26-a724-931555a41fb3",
   "metadata": {},
   "source": [
    "### Подготовим данные к моделированию\n",
    "![](https://www.statology.org/wp-content/uploads/2021/02/dummy6.png)"
   ]
  },
  {
   "cell_type": "code",
   "execution_count": 70,
   "id": "1b7ee448-f1c8-4860-9f45-0b054b162a13",
   "metadata": {},
   "outputs": [
    {
     "data": {
      "text/plain": [
       "Index(['Brand', 'Product_Description', 'Screen_Size', 'RAM', 'Processor',\n",
       "       'GPU', 'GPU_Type', 'Resolution', 'Condition', 'Price',\n",
       "       'Resolution_log'],\n",
       "      dtype='object')"
      ]
     },
     "execution_count": 70,
     "metadata": {},
     "output_type": "execute_result"
    }
   ],
   "source": [
    "reg_df.columns"
   ]
  },
  {
   "cell_type": "code",
   "execution_count": 71,
   "id": "08462432-265c-4eec-8a0a-cc38769f5550",
   "metadata": {},
   "outputs": [],
   "source": [
    "variables = ['Brand', 'Screen_Size', 'RAM', 'Processor', 'GPU', 'Resolution_log', 'Condition', 'Price']\n",
    "\n",
    "dummy_variables = ['Brand', 'RAM', 'Processor', 'GPU', 'Condition']\n",
    "target = 'Price'\n",
    "\n",
    "model_data = reg_df.loc[\n",
    "    screen_size_filter\n",
    "    & ram_filter\n",
    "    & resolution_filter\n",
    "    & condition_filter,\n",
    "    variables\n",
    "].reset_index(drop=True)\n",
    "\n",
    "model_data = pd.get_dummies(\n",
    "    model_data,\n",
    "    columns=dummy_variables,\n",
    "    dtype='int',\n",
    "    drop_first=True\n",
    ")"
   ]
  },
  {
   "cell_type": "code",
   "execution_count": 72,
   "id": "49ea754a-c246-498b-9679-07c31ecbb511",
   "metadata": {},
   "outputs": [
    {
     "data": {
      "text/html": [
       "<div>\n",
       "<style scoped>\n",
       "    .dataframe tbody tr th:only-of-type {\n",
       "        vertical-align: middle;\n",
       "    }\n",
       "\n",
       "    .dataframe tbody tr th {\n",
       "        vertical-align: top;\n",
       "    }\n",
       "\n",
       "    .dataframe thead th {\n",
       "        text-align: right;\n",
       "    }\n",
       "</style>\n",
       "<table border=\"1\" class=\"dataframe\">\n",
       "  <thead>\n",
       "    <tr style=\"text-align: right;\">\n",
       "      <th></th>\n",
       "      <th>Processor</th>\n",
       "    </tr>\n",
       "  </thead>\n",
       "  <tbody>\n",
       "    <tr>\n",
       "      <th>0</th>\n",
       "      <td>Intel</td>\n",
       "    </tr>\n",
       "    <tr>\n",
       "      <th>1</th>\n",
       "      <td>Intel</td>\n",
       "    </tr>\n",
       "    <tr>\n",
       "      <th>2</th>\n",
       "      <td>Intel</td>\n",
       "    </tr>\n",
       "    <tr>\n",
       "      <th>3</th>\n",
       "      <td>Intel</td>\n",
       "    </tr>\n",
       "    <tr>\n",
       "      <th>4</th>\n",
       "      <td>Intel</td>\n",
       "    </tr>\n",
       "    <tr>\n",
       "      <th>...</th>\n",
       "      <td>...</td>\n",
       "    </tr>\n",
       "    <tr>\n",
       "      <th>3976</th>\n",
       "      <td>Unknown</td>\n",
       "    </tr>\n",
       "    <tr>\n",
       "      <th>3977</th>\n",
       "      <td>Unknown</td>\n",
       "    </tr>\n",
       "    <tr>\n",
       "      <th>3978</th>\n",
       "      <td>Unknown</td>\n",
       "    </tr>\n",
       "    <tr>\n",
       "      <th>3979</th>\n",
       "      <td>Intel</td>\n",
       "    </tr>\n",
       "    <tr>\n",
       "      <th>3980</th>\n",
       "      <td>Unknown</td>\n",
       "    </tr>\n",
       "  </tbody>\n",
       "</table>\n",
       "<p>3981 rows × 1 columns</p>\n",
       "</div>"
      ],
      "text/plain": [
       "     Processor\n",
       "0        Intel\n",
       "1        Intel\n",
       "2        Intel\n",
       "3        Intel\n",
       "4        Intel\n",
       "...        ...\n",
       "3976   Unknown\n",
       "3977   Unknown\n",
       "3978   Unknown\n",
       "3979     Intel\n",
       "3980   Unknown\n",
       "\n",
       "[3981 rows x 1 columns]"
      ]
     },
     "execution_count": 72,
     "metadata": {},
     "output_type": "execute_result"
    }
   ],
   "source": [
    "reg_df[['Processor']]"
   ]
  },
  {
   "cell_type": "code",
   "execution_count": 73,
   "id": "add22a28-428f-4ed7-aa1d-5c6fac4a311f",
   "metadata": {},
   "outputs": [],
   "source": [
    "# Processor_AMD\tProcessor_Intel\tProcessor_Unknown\n",
    "# 1\t                  0\t                  0"
   ]
  },
  {
   "cell_type": "code",
   "execution_count": 74,
   "id": "800517ca-f7ae-4af5-802a-996b04d602f9",
   "metadata": {},
   "outputs": [],
   "source": [
    "# Processor_AMD\tProcessor_Intel\tProcessor_Unknown\n",
    "# 1\t                  0\t                0"
   ]
  },
  {
   "cell_type": "code",
   "execution_count": 75,
   "id": "d655f29a-0268-45b0-b820-d2e883c10278",
   "metadata": {},
   "outputs": [
    {
     "data": {
      "text/html": [
       "<div>\n",
       "<style scoped>\n",
       "    .dataframe tbody tr th:only-of-type {\n",
       "        vertical-align: middle;\n",
       "    }\n",
       "\n",
       "    .dataframe tbody tr th {\n",
       "        vertical-align: top;\n",
       "    }\n",
       "\n",
       "    .dataframe thead th {\n",
       "        text-align: right;\n",
       "    }\n",
       "</style>\n",
       "<table border=\"1\" class=\"dataframe\">\n",
       "  <thead>\n",
       "    <tr style=\"text-align: right;\">\n",
       "      <th></th>\n",
       "      <th>Processor_Intel</th>\n",
       "      <th>Processor_Unknown</th>\n",
       "    </tr>\n",
       "  </thead>\n",
       "  <tbody>\n",
       "    <tr>\n",
       "      <th>0</th>\n",
       "      <td>1</td>\n",
       "      <td>0</td>\n",
       "    </tr>\n",
       "    <tr>\n",
       "      <th>1</th>\n",
       "      <td>1</td>\n",
       "      <td>0</td>\n",
       "    </tr>\n",
       "    <tr>\n",
       "      <th>2</th>\n",
       "      <td>1</td>\n",
       "      <td>0</td>\n",
       "    </tr>\n",
       "    <tr>\n",
       "      <th>3</th>\n",
       "      <td>1</td>\n",
       "      <td>0</td>\n",
       "    </tr>\n",
       "    <tr>\n",
       "      <th>4</th>\n",
       "      <td>1</td>\n",
       "      <td>0</td>\n",
       "    </tr>\n",
       "    <tr>\n",
       "      <th>...</th>\n",
       "      <td>...</td>\n",
       "      <td>...</td>\n",
       "    </tr>\n",
       "    <tr>\n",
       "      <th>3976</th>\n",
       "      <td>0</td>\n",
       "      <td>1</td>\n",
       "    </tr>\n",
       "    <tr>\n",
       "      <th>3977</th>\n",
       "      <td>0</td>\n",
       "      <td>1</td>\n",
       "    </tr>\n",
       "    <tr>\n",
       "      <th>3978</th>\n",
       "      <td>0</td>\n",
       "      <td>1</td>\n",
       "    </tr>\n",
       "    <tr>\n",
       "      <th>3979</th>\n",
       "      <td>1</td>\n",
       "      <td>0</td>\n",
       "    </tr>\n",
       "    <tr>\n",
       "      <th>3980</th>\n",
       "      <td>0</td>\n",
       "      <td>1</td>\n",
       "    </tr>\n",
       "  </tbody>\n",
       "</table>\n",
       "<p>3981 rows × 2 columns</p>\n",
       "</div>"
      ],
      "text/plain": [
       "      Processor_Intel  Processor_Unknown\n",
       "0                   1                  0\n",
       "1                   1                  0\n",
       "2                   1                  0\n",
       "3                   1                  0\n",
       "4                   1                  0\n",
       "...               ...                ...\n",
       "3976                0                  1\n",
       "3977                0                  1\n",
       "3978                0                  1\n",
       "3979                1                  0\n",
       "3980                0                  1\n",
       "\n",
       "[3981 rows x 2 columns]"
      ]
     },
     "execution_count": 75,
     "metadata": {},
     "output_type": "execute_result"
    }
   ],
   "source": [
    "pd.get_dummies(reg_df[['Processor']], dtype='int', drop_first=True)"
   ]
  },
  {
   "cell_type": "code",
   "execution_count": 76,
   "id": "281e9ff1-0141-46d2-a953-d94d2e33ed18",
   "metadata": {},
   "outputs": [
    {
     "data": {
      "text/html": [
       "<div>\n",
       "<style scoped>\n",
       "    .dataframe tbody tr th:only-of-type {\n",
       "        vertical-align: middle;\n",
       "    }\n",
       "\n",
       "    .dataframe tbody tr th {\n",
       "        vertical-align: top;\n",
       "    }\n",
       "\n",
       "    .dataframe thead th {\n",
       "        text-align: right;\n",
       "    }\n",
       "</style>\n",
       "<table border=\"1\" class=\"dataframe\">\n",
       "  <thead>\n",
       "    <tr style=\"text-align: right;\">\n",
       "      <th></th>\n",
       "      <th>Screen_Size</th>\n",
       "      <th>Resolution_log</th>\n",
       "      <th>Price</th>\n",
       "      <th>Brand_asus</th>\n",
       "      <th>Brand_dell</th>\n",
       "      <th>Brand_hp</th>\n",
       "      <th>Brand_lenovo</th>\n",
       "      <th>Brand_lg</th>\n",
       "      <th>Brand_microsoft</th>\n",
       "      <th>Brand_msi</th>\n",
       "      <th>...</th>\n",
       "      <th>RAM_8</th>\n",
       "      <th>Processor_Intel</th>\n",
       "      <th>Processor_Unknown</th>\n",
       "      <th>GPU_Intel</th>\n",
       "      <th>GPU_Nvidia</th>\n",
       "      <th>GPU_Unknown</th>\n",
       "      <th>Condition_Good - Refurbished</th>\n",
       "      <th>Condition_New</th>\n",
       "      <th>Condition_Open box</th>\n",
       "      <th>Condition_Very Good - Refurbished</th>\n",
       "    </tr>\n",
       "  </thead>\n",
       "  <tbody>\n",
       "    <tr>\n",
       "      <th>0</th>\n",
       "      <td>15.6</td>\n",
       "      <td>14.544797</td>\n",
       "      <td>344.99</td>\n",
       "      <td>0</td>\n",
       "      <td>0</td>\n",
       "      <td>0</td>\n",
       "      <td>1</td>\n",
       "      <td>0</td>\n",
       "      <td>0</td>\n",
       "      <td>0</td>\n",
       "      <td>...</td>\n",
       "      <td>0</td>\n",
       "      <td>1</td>\n",
       "      <td>0</td>\n",
       "      <td>1</td>\n",
       "      <td>0</td>\n",
       "      <td>0</td>\n",
       "      <td>0</td>\n",
       "      <td>0</td>\n",
       "      <td>0</td>\n",
       "      <td>1</td>\n",
       "    </tr>\n",
       "    <tr>\n",
       "      <th>1</th>\n",
       "      <td>14.0</td>\n",
       "      <td>14.544797</td>\n",
       "      <td>289.99</td>\n",
       "      <td>0</td>\n",
       "      <td>0</td>\n",
       "      <td>0</td>\n",
       "      <td>1</td>\n",
       "      <td>0</td>\n",
       "      <td>0</td>\n",
       "      <td>0</td>\n",
       "      <td>...</td>\n",
       "      <td>0</td>\n",
       "      <td>1</td>\n",
       "      <td>0</td>\n",
       "      <td>1</td>\n",
       "      <td>0</td>\n",
       "      <td>0</td>\n",
       "      <td>1</td>\n",
       "      <td>0</td>\n",
       "      <td>0</td>\n",
       "      <td>0</td>\n",
       "    </tr>\n",
       "    <tr>\n",
       "      <th>2</th>\n",
       "      <td>15.6</td>\n",
       "      <td>14.544797</td>\n",
       "      <td>538.95</td>\n",
       "      <td>1</td>\n",
       "      <td>0</td>\n",
       "      <td>0</td>\n",
       "      <td>0</td>\n",
       "      <td>0</td>\n",
       "      <td>0</td>\n",
       "      <td>0</td>\n",
       "      <td>...</td>\n",
       "      <td>0</td>\n",
       "      <td>1</td>\n",
       "      <td>0</td>\n",
       "      <td>1</td>\n",
       "      <td>0</td>\n",
       "      <td>0</td>\n",
       "      <td>0</td>\n",
       "      <td>1</td>\n",
       "      <td>0</td>\n",
       "      <td>0</td>\n",
       "    </tr>\n",
       "    <tr>\n",
       "      <th>3</th>\n",
       "      <td>15.6</td>\n",
       "      <td>14.544797</td>\n",
       "      <td>369.95</td>\n",
       "      <td>0</td>\n",
       "      <td>0</td>\n",
       "      <td>1</td>\n",
       "      <td>0</td>\n",
       "      <td>0</td>\n",
       "      <td>0</td>\n",
       "      <td>0</td>\n",
       "      <td>...</td>\n",
       "      <td>1</td>\n",
       "      <td>1</td>\n",
       "      <td>0</td>\n",
       "      <td>1</td>\n",
       "      <td>0</td>\n",
       "      <td>0</td>\n",
       "      <td>0</td>\n",
       "      <td>1</td>\n",
       "      <td>0</td>\n",
       "      <td>0</td>\n",
       "    </tr>\n",
       "    <tr>\n",
       "      <th>4</th>\n",
       "      <td>14.0</td>\n",
       "      <td>14.544797</td>\n",
       "      <td>309.00</td>\n",
       "      <td>0</td>\n",
       "      <td>0</td>\n",
       "      <td>0</td>\n",
       "      <td>0</td>\n",
       "      <td>0</td>\n",
       "      <td>0</td>\n",
       "      <td>0</td>\n",
       "      <td>...</td>\n",
       "      <td>1</td>\n",
       "      <td>0</td>\n",
       "      <td>1</td>\n",
       "      <td>0</td>\n",
       "      <td>0</td>\n",
       "      <td>1</td>\n",
       "      <td>0</td>\n",
       "      <td>1</td>\n",
       "      <td>0</td>\n",
       "      <td>0</td>\n",
       "    </tr>\n",
       "  </tbody>\n",
       "</table>\n",
       "<p>5 rows × 25 columns</p>\n",
       "</div>"
      ],
      "text/plain": [
       "   Screen_Size  Resolution_log   Price  Brand_asus  Brand_dell  Brand_hp  \\\n",
       "0         15.6       14.544797  344.99           0           0         0   \n",
       "1         14.0       14.544797  289.99           0           0         0   \n",
       "2         15.6       14.544797  538.95           1           0         0   \n",
       "3         15.6       14.544797  369.95           0           0         1   \n",
       "4         14.0       14.544797  309.00           0           0         0   \n",
       "\n",
       "   Brand_lenovo  Brand_lg  Brand_microsoft  Brand_msi  ...  RAM_8  \\\n",
       "0             1         0                0          0  ...      0   \n",
       "1             1         0                0          0  ...      0   \n",
       "2             0         0                0          0  ...      0   \n",
       "3             0         0                0          0  ...      1   \n",
       "4             0         0                0          0  ...      1   \n",
       "\n",
       "   Processor_Intel  Processor_Unknown  GPU_Intel  GPU_Nvidia  GPU_Unknown  \\\n",
       "0                1                  0          1           0            0   \n",
       "1                1                  0          1           0            0   \n",
       "2                1                  0          1           0            0   \n",
       "3                1                  0          1           0            0   \n",
       "4                0                  1          0           0            1   \n",
       "\n",
       "   Condition_Good - Refurbished  Condition_New  Condition_Open box  \\\n",
       "0                             0              0                   0   \n",
       "1                             1              0                   0   \n",
       "2                             0              1                   0   \n",
       "3                             0              1                   0   \n",
       "4                             0              1                   0   \n",
       "\n",
       "   Condition_Very Good - Refurbished  \n",
       "0                                  1  \n",
       "1                                  0  \n",
       "2                                  0  \n",
       "3                                  0  \n",
       "4                                  0  \n",
       "\n",
       "[5 rows x 25 columns]"
      ]
     },
     "execution_count": 76,
     "metadata": {},
     "output_type": "execute_result"
    }
   ],
   "source": [
    "model_data.head()"
   ]
  },
  {
   "cell_type": "markdown",
   "id": "b73beab4-608b-44c8-a4ee-c8d9ba9130ed",
   "metadata": {},
   "source": [
    "Разделим на train & test"
   ]
  },
  {
   "cell_type": "code",
   "execution_count": 77,
   "id": "49aad532-140d-4af0-bd1b-5badc911c4cb",
   "metadata": {},
   "outputs": [],
   "source": [
    "from sklearn.model_selection import train_test_split"
   ]
  },
  {
   "cell_type": "code",
   "execution_count": 78,
   "id": "35095d7a-61bd-44a1-9e1e-4d89d1b43e36",
   "metadata": {},
   "outputs": [],
   "source": [
    "X = model_data.drop(columns=[target])\n",
    "y = model_data[target]\n",
    "\n",
    "X_train, X_test, y_train, y_test = train_test_split(X, y, train_size=TRAIN_SIZE)  # random_state=42"
   ]
  },
  {
   "cell_type": "markdown",
   "id": "62ca5cb0-2ac6-46fe-944a-3aaa83ed8a1f",
   "metadata": {},
   "source": [
    "### Линейная регрессия как статистический метод\n",
    "<img src=\"https://github.com/hse-python-mirec/dap_mirec_2022/blob/main/seminar9/images/08_estimating_coefficients.png?raw=true\">\n",
    "\n",
    "Что изображено на схеме?\n",
    "- Черные точки - это **наблюдаемые значения** x и y.\n",
    "- Синяя линия - это наша **линия полученная при минимизации квадратов ошибок**.\n",
    "- Красные линии - это **остатки**, которые представляют собой расстояния между наблюдаемыми значениями и линией наименьших квадратов.\n",
    "\n",
    "Как коэффициенты модели соотносятся с линией наименьших квадратов?\n",
    "- $ \\beta_0 $ - это **точка пересечения** (значение $ y $, когда $ x $ = 0)\n",
    "- $ \\beta_1 $ - это **наклон** (изменение $ y $, деленное на изменение $ x $)\n",
    "\n",
    "Вот графическое изображение этих вычислений:\n",
    "\n",
    "<img src=\"https://github.com/hse-python-mirec/dap_mirec_2022/blob/main/seminar9/images/08_slope_intercept.png?raw=true\">\n",
    "\n",
    "Давайте попробуем использовать библиотеку **Statsmodels** для оценки коэффициентов модели на наших данных:"
   ]
  },
  {
   "cell_type": "code",
   "execution_count": 79,
   "id": "e13c35e7-feb3-4cf4-9e9d-09dcfe645663",
   "metadata": {},
   "outputs": [],
   "source": [
    "# y = k * x + b"
   ]
  },
  {
   "cell_type": "code",
   "execution_count": 79,
   "id": "e696e397-ef04-459d-81d6-26c9713b2f68",
   "metadata": {},
   "outputs": [
    {
     "data": {
      "text/plain": [
       "Intercept      68.545546\n",
       "Screen_Size    31.215257\n",
       "dtype: float64"
      ]
     },
     "execution_count": 79,
     "metadata": {},
     "output_type": "execute_result"
    }
   ],
   "source": [
    "import statsmodels.formula.api as smf\n",
    "\n",
    "# создаём модель по заданной формуле и обучаем ее на data при помощи метода .fit()\n",
    "\n",
    "# y = k * x + b\n",
    "# Price = k * Screen_Size + b\n",
    "# Price ~ Screen_Size  -  специальный формат записи, вдохновлен формулами из языка R\n",
    "\n",
    "lm = smf.ols(formula='Price ~ Screen_Size', data=model_data).fit()  # y ~ x   ->   k * Screen_Size + b = Price\n",
    "\n",
    "# выведем полученные коэффициенты модели\n",
    "lm.params\n",
    "\n",
    "# Intercept -> b\n",
    "# Screen_Size -> k"
   ]
  },
  {
   "cell_type": "code",
   "execution_count": 81,
   "id": "b885d131-75be-4585-88ef-9575e49ec3e5",
   "metadata": {},
   "outputs": [],
   "source": [
    "# Price = 31.2 * Screen_Size + 68.5\n",
    "\n",
    "# Screen_Size = 20 -> Price = 31.2 * 20 + 68.5 = 692.5$"
   ]
  },
  {
   "cell_type": "code",
   "execution_count": 82,
   "id": "28f94842-40e5-439d-a93c-b4b73c44a3b0",
   "metadata": {},
   "outputs": [],
   "source": [
    "# Screen_Size = 0 -> Price = 31.2 * 0 + 68.5 = 68.5$\n",
    "# Intercept (68.5) - то, чему равна переменная Price при условии, что все независимые переменные (Screen_Size) равны 0"
   ]
  },
  {
   "cell_type": "code",
   "execution_count": 80,
   "id": "5edb309d-87f3-4957-95e8-1df56be7b603",
   "metadata": {},
   "outputs": [
    {
     "data": {
      "text/plain": [
       "156.0"
      ]
     },
     "execution_count": 80,
     "metadata": {},
     "output_type": "execute_result"
    }
   ],
   "source": [
    "# Screen_Size (31.2) - то, как меняется переменная Price при увеличении переменной Screen_Size на 1\n",
    "# если мы увеличиваем диагональ на 1 дюйм, цена вырастет на 31.2$\n",
    "\n",
    "31.2 * 5"
   ]
  },
  {
   "cell_type": "markdown",
   "id": "a44142af-1a1d-4d37-8b7c-2d4e2b3ec2e8",
   "metadata": {},
   "source": [
    "Как такое получается? Давайте немного разберемся.\n",
    "\n",
    "**Аналитическое решение линейной регрессии**\n",
    "\n",
    "Пусть у нас есть обучающий набор данных с $n$ наблюдениями и $d$ признаками. Каждое наблюдение $i$ имеет $d$ признаков $x_{i1}, x_{i2}, ..., x_{id}$ и соответствующий целевой признак $y_i$. Задача линейной регрессии состоит в том, чтобы найти линейную функцию, которая наилучшим образом соответствует данным. Мы можем записать модель линейной регрессии следующим образом:\n",
    "\n",
    "$$\n",
    "\\hat{y} = f(x) = w_0 + w_1 x_1 + w_2 x_2 + \\cdots + w_d x_d = \\sum_{j=0}^{d-1} w_j x_j\n",
    "$$\n",
    "\n",
    "Как понять, что такое \"соответствует\"? Пойдем от обратного и поймем, что такое \"не соответствует\". Для этого определим т. н. функцию ошибки:\n",
    "\n",
    "$$\n",
    "MSE=\\frac{1}{n} \\sum_{i=0}^{n} (\\sum_{j=0}^{d-1} w_j x_j - y)^2\n",
    "$$\n",
    "\n",
    "*формулу выше следует читать так: сначала мы для i-го наблюдения считаем по формуле предсказание, вычитаем из него истинное значение, затем складываем эту ошибку по всем предсказаниям и делим на n, усредняя*\n",
    "\n",
    "**Вопрос.** MSE расшифровывается как mean squared error. Где в этой формуле mean, где squared и где error?\n",
    "\n",
    "Эту ошибку нам хотелось бы минимизировать, в идеале подойдет 0. В реальности до нуля добраться не получится, но можно попробовать найти такие веса $w_j$, чтобы функция имела минимальное значение. Для этого нам нужно найти производную функции и приравнять ее к 0:\n",
    "\n",
    "$$\n",
    "2 \\cdot \\frac{1}{n} \\cdot (\\sum_{j=0}^{d-1} w_j x_j - y) \\cdot \\sum_{j=0}^{d-1} x_j = \\frac{2}{n} \\cdot (\\sum_{j=0}^{d-1} w_j x_j - y) \\cdot \\sum_{j=0}^{d-1} x_j\n",
    "$$\n",
    "\n",
    "Вектор градиента функционала ошибки в матричном виде:\n",
    "\n",
    "$$\n",
    "\\nabla Q(w) = \\frac{2}{n} X^T (X \\cdot w - y)\n",
    "$$\n",
    "\n",
    "Приравниваем к 0:\n",
    "\n",
    "$\\frac{2}{n} X^T (X \\cdot w - y) = 0$\n",
    "\n",
    "Убираем дробь, умножив обе части на $\\frac{n}{2}$:\n",
    "\n",
    "$X^T (X \\cdot w - y) = 0$\n",
    "\n",
    "Раскрываем скобки и перенеся $X^T y$:\n",
    "\n",
    "$X^T X \\cdot w = X^T y$\n",
    "\n",
    "Решаем относительно w:\n",
    "\n",
    "$w = (X^T X)^{-1} X^T y$\n",
    "\n",
    "**Задание.** А теперь давайте напишем это на Python:"
   ]
  },
  {
   "cell_type": "code",
   "execution_count": 84,
   "id": "7cf241b2-2af5-41df-8518-8735cb3f6ac3",
   "metadata": {},
   "outputs": [
    {
     "data": {
      "text/html": [
       "<div>\n",
       "<style scoped>\n",
       "    .dataframe tbody tr th:only-of-type {\n",
       "        vertical-align: middle;\n",
       "    }\n",
       "\n",
       "    .dataframe tbody tr th {\n",
       "        vertical-align: top;\n",
       "    }\n",
       "\n",
       "    .dataframe thead th {\n",
       "        text-align: right;\n",
       "    }\n",
       "</style>\n",
       "<table border=\"1\" class=\"dataframe\">\n",
       "  <thead>\n",
       "    <tr style=\"text-align: right;\">\n",
       "      <th></th>\n",
       "      <th>Screen_Size</th>\n",
       "      <th>Resolution_log</th>\n",
       "      <th>Price</th>\n",
       "      <th>Brand_asus</th>\n",
       "      <th>Brand_dell</th>\n",
       "      <th>Brand_hp</th>\n",
       "      <th>Brand_lenovo</th>\n",
       "      <th>Brand_lg</th>\n",
       "      <th>Brand_microsoft</th>\n",
       "      <th>Brand_msi</th>\n",
       "      <th>...</th>\n",
       "      <th>RAM_8</th>\n",
       "      <th>Processor_Intel</th>\n",
       "      <th>Processor_Unknown</th>\n",
       "      <th>GPU_Intel</th>\n",
       "      <th>GPU_Nvidia</th>\n",
       "      <th>GPU_Unknown</th>\n",
       "      <th>Condition_Good - Refurbished</th>\n",
       "      <th>Condition_New</th>\n",
       "      <th>Condition_Open box</th>\n",
       "      <th>Condition_Very Good - Refurbished</th>\n",
       "    </tr>\n",
       "  </thead>\n",
       "  <tbody>\n",
       "    <tr>\n",
       "      <th>0</th>\n",
       "      <td>15.6</td>\n",
       "      <td>14.544797</td>\n",
       "      <td>344.99</td>\n",
       "      <td>0</td>\n",
       "      <td>0</td>\n",
       "      <td>0</td>\n",
       "      <td>1</td>\n",
       "      <td>0</td>\n",
       "      <td>0</td>\n",
       "      <td>0</td>\n",
       "      <td>...</td>\n",
       "      <td>0</td>\n",
       "      <td>1</td>\n",
       "      <td>0</td>\n",
       "      <td>1</td>\n",
       "      <td>0</td>\n",
       "      <td>0</td>\n",
       "      <td>0</td>\n",
       "      <td>0</td>\n",
       "      <td>0</td>\n",
       "      <td>1</td>\n",
       "    </tr>\n",
       "    <tr>\n",
       "      <th>1</th>\n",
       "      <td>14.0</td>\n",
       "      <td>14.544797</td>\n",
       "      <td>289.99</td>\n",
       "      <td>0</td>\n",
       "      <td>0</td>\n",
       "      <td>0</td>\n",
       "      <td>1</td>\n",
       "      <td>0</td>\n",
       "      <td>0</td>\n",
       "      <td>0</td>\n",
       "      <td>...</td>\n",
       "      <td>0</td>\n",
       "      <td>1</td>\n",
       "      <td>0</td>\n",
       "      <td>1</td>\n",
       "      <td>0</td>\n",
       "      <td>0</td>\n",
       "      <td>1</td>\n",
       "      <td>0</td>\n",
       "      <td>0</td>\n",
       "      <td>0</td>\n",
       "    </tr>\n",
       "    <tr>\n",
       "      <th>2</th>\n",
       "      <td>15.6</td>\n",
       "      <td>14.544797</td>\n",
       "      <td>538.95</td>\n",
       "      <td>1</td>\n",
       "      <td>0</td>\n",
       "      <td>0</td>\n",
       "      <td>0</td>\n",
       "      <td>0</td>\n",
       "      <td>0</td>\n",
       "      <td>0</td>\n",
       "      <td>...</td>\n",
       "      <td>0</td>\n",
       "      <td>1</td>\n",
       "      <td>0</td>\n",
       "      <td>1</td>\n",
       "      <td>0</td>\n",
       "      <td>0</td>\n",
       "      <td>0</td>\n",
       "      <td>1</td>\n",
       "      <td>0</td>\n",
       "      <td>0</td>\n",
       "    </tr>\n",
       "    <tr>\n",
       "      <th>3</th>\n",
       "      <td>15.6</td>\n",
       "      <td>14.544797</td>\n",
       "      <td>369.95</td>\n",
       "      <td>0</td>\n",
       "      <td>0</td>\n",
       "      <td>1</td>\n",
       "      <td>0</td>\n",
       "      <td>0</td>\n",
       "      <td>0</td>\n",
       "      <td>0</td>\n",
       "      <td>...</td>\n",
       "      <td>1</td>\n",
       "      <td>1</td>\n",
       "      <td>0</td>\n",
       "      <td>1</td>\n",
       "      <td>0</td>\n",
       "      <td>0</td>\n",
       "      <td>0</td>\n",
       "      <td>1</td>\n",
       "      <td>0</td>\n",
       "      <td>0</td>\n",
       "    </tr>\n",
       "    <tr>\n",
       "      <th>4</th>\n",
       "      <td>14.0</td>\n",
       "      <td>14.544797</td>\n",
       "      <td>309.00</td>\n",
       "      <td>0</td>\n",
       "      <td>0</td>\n",
       "      <td>0</td>\n",
       "      <td>0</td>\n",
       "      <td>0</td>\n",
       "      <td>0</td>\n",
       "      <td>0</td>\n",
       "      <td>...</td>\n",
       "      <td>1</td>\n",
       "      <td>0</td>\n",
       "      <td>1</td>\n",
       "      <td>0</td>\n",
       "      <td>0</td>\n",
       "      <td>1</td>\n",
       "      <td>0</td>\n",
       "      <td>1</td>\n",
       "      <td>0</td>\n",
       "      <td>0</td>\n",
       "    </tr>\n",
       "  </tbody>\n",
       "</table>\n",
       "<p>5 rows × 25 columns</p>\n",
       "</div>"
      ],
      "text/plain": [
       "   Screen_Size  Resolution_log   Price  Brand_asus  Brand_dell  Brand_hp  \\\n",
       "0         15.6       14.544797  344.99           0           0         0   \n",
       "1         14.0       14.544797  289.99           0           0         0   \n",
       "2         15.6       14.544797  538.95           1           0         0   \n",
       "3         15.6       14.544797  369.95           0           0         1   \n",
       "4         14.0       14.544797  309.00           0           0         0   \n",
       "\n",
       "   Brand_lenovo  Brand_lg  Brand_microsoft  Brand_msi  ...  RAM_8  \\\n",
       "0             1         0                0          0  ...      0   \n",
       "1             1         0                0          0  ...      0   \n",
       "2             0         0                0          0  ...      0   \n",
       "3             0         0                0          0  ...      1   \n",
       "4             0         0                0          0  ...      1   \n",
       "\n",
       "   Processor_Intel  Processor_Unknown  GPU_Intel  GPU_Nvidia  GPU_Unknown  \\\n",
       "0                1                  0          1           0            0   \n",
       "1                1                  0          1           0            0   \n",
       "2                1                  0          1           0            0   \n",
       "3                1                  0          1           0            0   \n",
       "4                0                  1          0           0            1   \n",
       "\n",
       "   Condition_Good - Refurbished  Condition_New  Condition_Open box  \\\n",
       "0                             0              0                   0   \n",
       "1                             1              0                   0   \n",
       "2                             0              1                   0   \n",
       "3                             0              1                   0   \n",
       "4                             0              1                   0   \n",
       "\n",
       "   Condition_Very Good - Refurbished  \n",
       "0                                  1  \n",
       "1                                  0  \n",
       "2                                  0  \n",
       "3                                  0  \n",
       "4                                  0  \n",
       "\n",
       "[5 rows x 25 columns]"
      ]
     },
     "execution_count": 84,
     "metadata": {},
     "output_type": "execute_result"
    }
   ],
   "source": [
    "model_data.head()"
   ]
  },
  {
   "cell_type": "code",
   "execution_count": 81,
   "id": "b6717791-5921-4e4e-abbf-d7f05a192c43",
   "metadata": {},
   "outputs": [],
   "source": [
    "X = model_data[['Screen_Size', 'Resolution_log']].values\n",
    "\n",
    "X = np.hstack((np.ones((X.shape[0], 1)), X))  # np.ones((X.shape[0], 1)) - массив из единиц, имеющий форму (N, 1), где N - количество строк в матрице X\n",
    "# это фича при константе\n",
    "\n",
    "y = model_data['Price'].values\n",
    "\n",
    "weights = np.linalg.inv(X.T @ X) @ X.T @ y  # считаем по формуле"
   ]
  },
  {
   "cell_type": "code",
   "execution_count": 82,
   "id": "8c190648-54fb-48e7-b441-08f8e7167355",
   "metadata": {},
   "outputs": [
    {
     "data": {
      "text/plain": [
       "array([-2267.99592375,    32.20572878,   159.31189502])"
      ]
     },
     "execution_count": 82,
     "metadata": {},
     "output_type": "execute_result"
    }
   ],
   "source": [
    "lm = smf.ols(formula='Price ~ Screen_Size + Resolution_log', data=model_data).fit()\n",
    "lm.params.values"
   ]
  },
  {
   "cell_type": "code",
   "execution_count": 115,
   "id": "f7bf853e-ff9c-463b-b31f-17b97f2fa959",
   "metadata": {},
   "outputs": [
    {
     "data": {
      "text/plain": [
       "array([-2267.99592374,    32.20572878,   159.31189502])"
      ]
     },
     "execution_count": 115,
     "metadata": {},
     "output_type": "execute_result"
    }
   ],
   "source": [
    "weights"
   ]
  },
  {
   "cell_type": "markdown",
   "id": "0417ac62-6676-4a94-8129-69e0de59d4ea",
   "metadata": {},
   "source": [
    "#### Градиентный спуск\n",
    "\n",
    "$\\nabla Q(w) = \\frac{2}{n} X^T (X \\cdot w - y) $\n",
    "\n",
    "Тут мы вместо того, что приравнивать производную к нулю, и потом иметь дело с дорогостоящими матричными операциями (обращением матрицы), остановимся собственно на производной (градиенте). Если производная - это направление наискорейшего роста функции, а нам нужна минимизация функции, направимся \"по производной\", но \"в другую сторону\":"
   ]
  },
  {
   "cell_type": "code",
   "execution_count": 119,
   "id": "4bb8d90b-94c6-4cd0-b869-1d05bd618ec4",
   "metadata": {},
   "outputs": [
    {
     "data": {
      "text/plain": [
       "array([-2.32895315e-10, -3.53896154e-09, -3.50415202e-09])"
      ]
     },
     "execution_count": 119,
     "metadata": {},
     "output_type": "execute_result"
    }
   ],
   "source": [
    "# обратите внимание, градиент при текущих весах (полученных аналитически) минимален - потому что мы специально его минимизировали\n",
    "\n",
    "2 / X.shape[0] * X.T @ (X @ weights - y)\n",
    "\n",
    "# здесь массив из трех значений, каждое из значений - производная по i-му весу. Совокупность производных - градиент"
   ]
  },
  {
   "cell_type": "code",
   "execution_count": 168,
   "id": "319a6555-a677-40f1-abf6-4d1f16b2ad1b",
   "metadata": {},
   "outputs": [],
   "source": [
    "def compute_grad(X: np.ndarray, w: np.ndarray, y: np.ndarray) -> np.ndarray:\n",
    "    \"\"\"\n",
    "    X: data\n",
    "    w: weights\n",
    "    y: target\n",
    "    \"\"\"\n",
    "    grad = 2 / X.shape[0] * X.T @ (X @ w - y)\n",
    "    \n",
    "    return grad\n",
    "\n",
    "def optimize(\n",
    "    X: np.ndarray,\n",
    "    y: np.ndarray,\n",
    "    alpha=0.001,\n",
    "    niter=1000\n",
    "):\n",
    "    w = np.random.normal(5, 10, X.shape[1])\n",
    "    history = [w]\n",
    "    \n",
    "    for i in range(niter):\n",
    "        grad = compute_grad(X, w, y)\n",
    "\n",
    "        w -= alpha * grad\n",
    "\n",
    "        # compute loss\n",
    "        predict = X @ w\n",
    "        loss = ((predict - y) ** 2).sum()\n",
    "\n",
    "        history.append([w, loss])\n",
    "\n",
    "    return w, history"
   ]
  },
  {
   "cell_type": "code",
   "execution_count": 169,
   "id": "9dea2ffe-6ed3-4fdc-b12f-c79caff277e7",
   "metadata": {
    "scrolled": true
   },
   "outputs": [],
   "source": [
    "weigths_gd, history = optimize(X, y)"
   ]
  },
  {
   "cell_type": "code",
   "execution_count": 170,
   "id": "cb5af6e1-c5d2-4b4e-af0a-d0151250a40a",
   "metadata": {},
   "outputs": [
    {
     "data": {
      "text/plain": [
       "array([-2267.99592374,    32.20572878,   159.31189502])"
      ]
     },
     "execution_count": 170,
     "metadata": {},
     "output_type": "execute_result"
    }
   ],
   "source": [
    "weights"
   ]
  },
  {
   "cell_type": "code",
   "execution_count": 171,
   "id": "a1e3a58c-9759-4531-adbd-1ecc7d8bcfd1",
   "metadata": {},
   "outputs": [
    {
     "data": {
      "text/plain": [
       "array([-0.47406153, 16.47076865, 19.60564628])"
      ]
     },
     "execution_count": 171,
     "metadata": {},
     "output_type": "execute_result"
    }
   ],
   "source": [
    "weigths_gd"
   ]
  },
  {
   "cell_type": "code",
   "execution_count": null,
   "id": "0393f991-9215-4744-81ad-71872b34609b",
   "metadata": {},
   "outputs": [],
   "source": [
    "# как мы видим, решение проблемы \"в лоб\" не проходит, в т. ч. из-за того, что данные не были должным образом подготовлены. Об этом поговорим далее"
   ]
  },
  {
   "cell_type": "markdown",
   "id": "ee3ccc84-11d1-428b-ac0d-8c9cd5e9b5cd",
   "metadata": {},
   "source": [
    "### Линейная регрессия как метод машинного обучения"
   ]
  },
  {
   "cell_type": "code",
   "execution_count": 90,
   "id": "49f0649b-c7ad-4df6-bd87-e40a7150e640",
   "metadata": {},
   "outputs": [],
   "source": [
    "from sklearn.metrics import mean_absolute_percentage_error, root_mean_squared_error, mean_absolute_error, r2_score\n",
    "\n",
    "metrics = set()\n",
    "\n",
    "def regression_report(actual_test, predicted_test, actual_train, predicted_train):\n",
    "    rmse = round(root_mean_squared_error(actual_test, predicted_test), 3)  # mean_squared_error(..., squared=False)\n",
    "    mae = round(mean_absolute_error(actual_test, predicted_test), 3)\n",
    "    mape = round(mean_absolute_percentage_error(actual_test, predicted_test), 3)\n",
    "    \n",
    "    r2_train = round(r2_score(actual_train, predicted_train), 3)\n",
    "    r2_test = round(r2_score(actual_test, predicted_test), 3)\n",
    "\n",
    "    print('--------- Model metrics ---------')\n",
    "    print(f'RMSE: {rmse}')\n",
    "    print(f'MAE: {mae}')\n",
    "    print(f'MAPE: {mape}')\n",
    "    print(f'R2 train: {r2_train}')\n",
    "    print(f'R2 test: {r2_test}')\n",
    "\n",
    "    return rmse, mae, mape, r2_train, r2_test"
   ]
  },
  {
   "cell_type": "markdown",
   "id": "854d7772-b55b-4553-b04f-476dc8c10235",
   "metadata": {},
   "source": [
    "#### Baseline"
   ]
  },
  {
   "cell_type": "code",
   "execution_count": 91,
   "id": "cd5fabf2-2051-4918-9334-d97764ce487f",
   "metadata": {},
   "outputs": [
    {
     "name": "stdout",
     "output_type": "stream",
     "text": [
      "--------- Model metrics ---------\n",
      "RMSE: 240.999\n",
      "MAE: 204.931\n",
      "MAPE: 7517308405029514.0\n",
      "R2 train: 0.0\n",
      "R2 test: -0.0\n"
     ]
    }
   ],
   "source": [
    "predict_baseline_train = np.array([y_train.mean()] * y_train.size)\n",
    "predict_baseline_test = np.array([y_train.mean()] * y_test.size)\n",
    "\n",
    "metrics.add(\n",
    "    ('baseline',) + regression_report(y_test, predict_baseline_test, y_train, predict_baseline_train)\n",
    ")"
   ]
  },
  {
   "cell_type": "markdown",
   "id": "e36321d7-7072-4bb1-932c-f6ade63601f1",
   "metadata": {},
   "source": [
    "#### Разные виды моделей"
   ]
  },
  {
   "cell_type": "code",
   "execution_count": 92,
   "id": "2b7f952f-b5ae-45bb-a31e-d65c12dba0d6",
   "metadata": {},
   "outputs": [],
   "source": [
    "from sklearn.linear_model import LinearRegression, Lasso, Ridge, ElasticNet, SGDRegressor"
   ]
  },
  {
   "cell_type": "code",
   "execution_count": 93,
   "id": "6b700222-5b2c-4bd8-ba16-50db08da861c",
   "metadata": {},
   "outputs": [
    {
     "name": "stdout",
     "output_type": "stream",
     "text": [
      "--------- Model metrics ---------\n",
      "RMSE: 199.93\n",
      "MAE: 157.72\n",
      "MAPE: 9448749303765080.0\n",
      "R2 train: 0.303\n",
      "R2 test: 0.312\n"
     ]
    }
   ],
   "source": [
    "lr = LinearRegression()\n",
    "lr.fit(X_train, y_train)\n",
    "\n",
    "predict_lr_train = lr.predict(X_train)\n",
    "predict_lr_test = lr.predict(X_test)\n",
    "\n",
    "metrics.add(('lr',) + regression_report(y_test, predict_lr_test, y_train, predict_lr_train))"
   ]
  },
  {
   "cell_type": "code",
   "execution_count": 94,
   "id": "c3f4c5e6-1b23-4111-89b4-35ccfa633c1a",
   "metadata": {},
   "outputs": [
    {
     "name": "stdout",
     "output_type": "stream",
     "text": [
      "--------- Model metrics ---------\n",
      "RMSE: 200.313\n",
      "MAE: 158.212\n",
      "MAPE: 9492346070083524.0\n",
      "R2 train: 0.301\n",
      "R2 test: 0.309\n"
     ]
    }
   ],
   "source": [
    "lasso = Lasso(alpha=0.3)\n",
    "lasso.fit(X_train, y_train)\n",
    "\n",
    "predict_lasso_train = lasso.predict(X_train)\n",
    "predict_lasso_test = lasso.predict(X_test)\n",
    "\n",
    "metrics.add(('lasso',) + regression_report(y_test, predict_lasso_test, y_train, predict_lasso_train))"
   ]
  },
  {
   "cell_type": "code",
   "execution_count": 95,
   "id": "3f264ffa-7747-40ff-8fbc-a69d611f3ee1",
   "metadata": {},
   "outputs": [
    {
     "name": "stdout",
     "output_type": "stream",
     "text": [
      "--------- Model metrics ---------\n",
      "RMSE: 199.927\n",
      "MAE: 157.724\n",
      "MAPE: 9448493395662328.0\n",
      "R2 train: 0.303\n",
      "R2 test: 0.312\n"
     ]
    }
   ],
   "source": [
    "ridge = Ridge(alpha=0.1)\n",
    "ridge.fit(X_train, y_train)\n",
    "\n",
    "predict_ridge_train = ridge.predict(X_train)\n",
    "predict_ridge_test = ridge.predict(X_test)\n",
    "\n",
    "metrics.add(('ridge',) + regression_report(y_test, predict_ridge_test, y_train, predict_ridge_train))"
   ]
  },
  {
   "cell_type": "code",
   "execution_count": 96,
   "id": "7619bbe3-628c-4edf-a8e1-8ea53df34ea9",
   "metadata": {},
   "outputs": [
    {
     "name": "stdout",
     "output_type": "stream",
     "text": [
      "--------- Model metrics ---------\n",
      "RMSE: 199.927\n",
      "MAE: 157.724\n",
      "MAPE: 9448493395662328.0\n",
      "R2 train: 0.268\n",
      "R2 test: 0.312\n"
     ]
    }
   ],
   "source": [
    "elastic = ElasticNet(alpha=0.1)\n",
    "elastic.fit(X_train, y_train)\n",
    "\n",
    "predict_elastic_train = elastic.predict(X_train)\n",
    "predict_elastic_test = ridge.predict(X_test)\n",
    "\n",
    "metrics.add(('elastic',) + regression_report(y_test, predict_elastic_test, y_train, predict_elastic_train))"
   ]
  },
  {
   "cell_type": "code",
   "execution_count": 97,
   "id": "7856f721-3814-46db-9f6c-2e3984531f41",
   "metadata": {},
   "outputs": [
    {
     "name": "stdout",
     "output_type": "stream",
     "text": [
      "--------- Model metrics ---------\n",
      "RMSE: 211.869\n",
      "MAE: 172.295\n",
      "MAPE: 1.0391838048783998e+16\n",
      "R2 train: 0.203\n",
      "R2 test: 0.227\n"
     ]
    }
   ],
   "source": [
    "sgd = SGDRegressor()\n",
    "sgd.fit(X_train, y_train)\n",
    "\n",
    "predict_sgd_train = sgd.predict(X_train)\n",
    "predict_sgd_test = sgd.predict(X_test)\n",
    "\n",
    "metrics.add(('sgd',) + regression_report(y_test, predict_sgd_test, y_train, predict_sgd_train))"
   ]
  },
  {
   "cell_type": "code",
   "execution_count": 98,
   "id": "dc8eb3c3-3881-472e-9a6e-98badcab8b48",
   "metadata": {},
   "outputs": [
    {
     "data": {
      "text/html": [
       "<div>\n",
       "<style scoped>\n",
       "    .dataframe tbody tr th:only-of-type {\n",
       "        vertical-align: middle;\n",
       "    }\n",
       "\n",
       "    .dataframe tbody tr th {\n",
       "        vertical-align: top;\n",
       "    }\n",
       "\n",
       "    .dataframe thead th {\n",
       "        text-align: right;\n",
       "    }\n",
       "</style>\n",
       "<table border=\"1\" class=\"dataframe\">\n",
       "  <thead>\n",
       "    <tr style=\"text-align: right;\">\n",
       "      <th></th>\n",
       "      <th>model</th>\n",
       "      <th>rmse</th>\n",
       "      <th>mae</th>\n",
       "      <th>mape</th>\n",
       "      <th>r2_train</th>\n",
       "      <th>r2_test</th>\n",
       "    </tr>\n",
       "  </thead>\n",
       "  <tbody>\n",
       "    <tr>\n",
       "      <th>0</th>\n",
       "      <td>baseline</td>\n",
       "      <td>240.999</td>\n",
       "      <td>204.931</td>\n",
       "      <td>7.517308e+15</td>\n",
       "      <td>0.000</td>\n",
       "      <td>-0.000</td>\n",
       "    </tr>\n",
       "    <tr>\n",
       "      <th>1</th>\n",
       "      <td>lr</td>\n",
       "      <td>199.930</td>\n",
       "      <td>157.720</td>\n",
       "      <td>9.448749e+15</td>\n",
       "      <td>0.303</td>\n",
       "      <td>0.312</td>\n",
       "    </tr>\n",
       "    <tr>\n",
       "      <th>2</th>\n",
       "      <td>ridge</td>\n",
       "      <td>199.927</td>\n",
       "      <td>157.724</td>\n",
       "      <td>9.448493e+15</td>\n",
       "      <td>0.303</td>\n",
       "      <td>0.312</td>\n",
       "    </tr>\n",
       "    <tr>\n",
       "      <th>3</th>\n",
       "      <td>lasso</td>\n",
       "      <td>200.313</td>\n",
       "      <td>158.212</td>\n",
       "      <td>9.492346e+15</td>\n",
       "      <td>0.301</td>\n",
       "      <td>0.309</td>\n",
       "    </tr>\n",
       "    <tr>\n",
       "      <th>4</th>\n",
       "      <td>elastic</td>\n",
       "      <td>199.927</td>\n",
       "      <td>157.724</td>\n",
       "      <td>9.448493e+15</td>\n",
       "      <td>0.268</td>\n",
       "      <td>0.312</td>\n",
       "    </tr>\n",
       "    <tr>\n",
       "      <th>5</th>\n",
       "      <td>sgd</td>\n",
       "      <td>211.869</td>\n",
       "      <td>172.295</td>\n",
       "      <td>1.039184e+16</td>\n",
       "      <td>0.203</td>\n",
       "      <td>0.227</td>\n",
       "    </tr>\n",
       "  </tbody>\n",
       "</table>\n",
       "</div>"
      ],
      "text/plain": [
       "      model     rmse      mae          mape  r2_train  r2_test\n",
       "0  baseline  240.999  204.931  7.517308e+15     0.000   -0.000\n",
       "1        lr  199.930  157.720  9.448749e+15     0.303    0.312\n",
       "2     ridge  199.927  157.724  9.448493e+15     0.303    0.312\n",
       "3     lasso  200.313  158.212  9.492346e+15     0.301    0.309\n",
       "4   elastic  199.927  157.724  9.448493e+15     0.268    0.312\n",
       "5       sgd  211.869  172.295  1.039184e+16     0.203    0.227"
      ]
     },
     "execution_count": 98,
     "metadata": {},
     "output_type": "execute_result"
    }
   ],
   "source": [
    "metrics_df = pd.DataFrame(metrics, columns=['model', 'rmse', 'mae', 'mape', 'r2_train', 'r2_test'])\n",
    "metrics_df"
   ]
  }
 ],
 "metadata": {
  "kernelspec": {
   "display_name": "Python 3 (ipykernel)",
   "language": "python",
   "name": "python3"
  },
  "language_info": {
   "codemirror_mode": {
    "name": "ipython",
    "version": 3
   },
   "file_extension": ".py",
   "mimetype": "text/x-python",
   "name": "python",
   "nbconvert_exporter": "python",
   "pygments_lexer": "ipython3",
   "version": "3.11.6"
  }
 },
 "nbformat": 4,
 "nbformat_minor": 5
}
