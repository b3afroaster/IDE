{
 "cells": [
  {
   "cell_type": "code",
   "execution_count": 51,
   "id": "b5cc6f0e-0d9c-4a31-b52d-7fd4c4e43934",
   "metadata": {},
   "outputs": [],
   "source": [
    "import missingno\n",
    "\n",
    "import numpy as np\n",
    "import pandas as pd\n",
    "\n",
    "import matplotlib.pyplot as plt\n",
    "import seaborn as sns\n",
    "\n",
    "TRAIN_SIZE = 0.7"
   ]
  },
  {
   "cell_type": "code",
   "execution_count": null,
   "id": "c7716184",
   "metadata": {},
   "outputs": [],
   "source": []
  },
  {
   "cell_type": "markdown",
   "id": "b0c36093-18df-4fdd-8c82-a1eb5c777163",
   "metadata": {},
   "source": [
    "# Основы машинного обучения\n",
    "## Семинар 3. Классификация\n",
    "### Данные\n",
    "\n",
    "Источник: [kaggle](https://www.kaggle.com/datasets/prakashraushan/loan-dataset).\n",
    "\n",
    "#### Посмотрим на данные в целом"
   ]
  },
  {
   "cell_type": "code",
   "execution_count": 2,
   "id": "e13ef902-812d-4587-b20f-41007002a356",
   "metadata": {},
   "outputs": [
    {
     "name": "stdout",
     "output_type": "stream",
     "text": [
      "<class 'pandas.core.frame.DataFrame'>\n",
      "RangeIndex: 32586 entries, 0 to 32585\n",
      "Data columns (total 13 columns):\n",
      " #   Column               Non-Null Count  Dtype  \n",
      "---  ------               --------------  -----  \n",
      " 0   customer_id          32583 non-null  float64\n",
      " 1   customer_age         32586 non-null  int64  \n",
      " 2   customer_income      32586 non-null  object \n",
      " 3   home_ownership       32586 non-null  object \n",
      " 4   employment_duration  31691 non-null  float64\n",
      " 5   loan_intent          32586 non-null  object \n",
      " 6   loan_grade           32586 non-null  object \n",
      " 7   loan_amnt            32585 non-null  object \n",
      " 8   loan_int_rate        29470 non-null  float64\n",
      " 9   term_years           32586 non-null  int64  \n",
      " 10  historical_default   11849 non-null  object \n",
      " 11  cred_hist_length     32586 non-null  int64  \n",
      " 12  Current_loan_status  32582 non-null  object \n",
      "dtypes: float64(3), int64(3), object(7)\n",
      "memory usage: 3.2+ MB\n"
     ]
    }
   ],
   "source": [
    "class_df = pd.read_csv('loans.csv')\n",
    "class_df.info()"
   ]
  },
  {
   "cell_type": "code",
   "execution_count": 3,
   "id": "f9facf2b-3e6b-4cfc-88b4-862722a24a35",
   "metadata": {},
   "outputs": [
    {
     "data": {
      "text/html": [
       "<div>\n",
       "<style scoped>\n",
       "    .dataframe tbody tr th:only-of-type {\n",
       "        vertical-align: middle;\n",
       "    }\n",
       "\n",
       "    .dataframe tbody tr th {\n",
       "        vertical-align: top;\n",
       "    }\n",
       "\n",
       "    .dataframe thead th {\n",
       "        text-align: right;\n",
       "    }\n",
       "</style>\n",
       "<table border=\"1\" class=\"dataframe\">\n",
       "  <thead>\n",
       "    <tr style=\"text-align: right;\">\n",
       "      <th></th>\n",
       "      <th>customer_id</th>\n",
       "      <th>customer_age</th>\n",
       "      <th>customer_income</th>\n",
       "      <th>home_ownership</th>\n",
       "      <th>employment_duration</th>\n",
       "      <th>loan_intent</th>\n",
       "      <th>loan_grade</th>\n",
       "      <th>loan_amnt</th>\n",
       "      <th>loan_int_rate</th>\n",
       "      <th>term_years</th>\n",
       "      <th>historical_default</th>\n",
       "      <th>cred_hist_length</th>\n",
       "      <th>Current_loan_status</th>\n",
       "    </tr>\n",
       "  </thead>\n",
       "  <tbody>\n",
       "    <tr>\n",
       "      <th>0</th>\n",
       "      <td>1.0</td>\n",
       "      <td>22</td>\n",
       "      <td>59000</td>\n",
       "      <td>RENT</td>\n",
       "      <td>123.0</td>\n",
       "      <td>PERSONAL</td>\n",
       "      <td>C</td>\n",
       "      <td>£35,000.00</td>\n",
       "      <td>16.02</td>\n",
       "      <td>10</td>\n",
       "      <td>Y</td>\n",
       "      <td>3</td>\n",
       "      <td>DEFAULT</td>\n",
       "    </tr>\n",
       "    <tr>\n",
       "      <th>1</th>\n",
       "      <td>2.0</td>\n",
       "      <td>21</td>\n",
       "      <td>9600</td>\n",
       "      <td>OWN</td>\n",
       "      <td>5.0</td>\n",
       "      <td>EDUCATION</td>\n",
       "      <td>A</td>\n",
       "      <td>£1,000.00</td>\n",
       "      <td>11.14</td>\n",
       "      <td>1</td>\n",
       "      <td>NaN</td>\n",
       "      <td>2</td>\n",
       "      <td>NO DEFAULT</td>\n",
       "    </tr>\n",
       "    <tr>\n",
       "      <th>2</th>\n",
       "      <td>3.0</td>\n",
       "      <td>25</td>\n",
       "      <td>9600</td>\n",
       "      <td>MORTGAGE</td>\n",
       "      <td>1.0</td>\n",
       "      <td>MEDICAL</td>\n",
       "      <td>B</td>\n",
       "      <td>£5,500.00</td>\n",
       "      <td>12.87</td>\n",
       "      <td>5</td>\n",
       "      <td>N</td>\n",
       "      <td>3</td>\n",
       "      <td>DEFAULT</td>\n",
       "    </tr>\n",
       "    <tr>\n",
       "      <th>3</th>\n",
       "      <td>4.0</td>\n",
       "      <td>23</td>\n",
       "      <td>65500</td>\n",
       "      <td>RENT</td>\n",
       "      <td>4.0</td>\n",
       "      <td>MEDICAL</td>\n",
       "      <td>B</td>\n",
       "      <td>£35,000.00</td>\n",
       "      <td>15.23</td>\n",
       "      <td>10</td>\n",
       "      <td>N</td>\n",
       "      <td>2</td>\n",
       "      <td>DEFAULT</td>\n",
       "    </tr>\n",
       "    <tr>\n",
       "      <th>4</th>\n",
       "      <td>5.0</td>\n",
       "      <td>24</td>\n",
       "      <td>54400</td>\n",
       "      <td>RENT</td>\n",
       "      <td>8.0</td>\n",
       "      <td>MEDICAL</td>\n",
       "      <td>B</td>\n",
       "      <td>£35,000.00</td>\n",
       "      <td>14.27</td>\n",
       "      <td>10</td>\n",
       "      <td>Y</td>\n",
       "      <td>4</td>\n",
       "      <td>DEFAULT</td>\n",
       "    </tr>\n",
       "  </tbody>\n",
       "</table>\n",
       "</div>"
      ],
      "text/plain": [
       "   customer_id  customer_age customer_income home_ownership  \\\n",
       "0          1.0            22           59000           RENT   \n",
       "1          2.0            21            9600            OWN   \n",
       "2          3.0            25            9600       MORTGAGE   \n",
       "3          4.0            23           65500           RENT   \n",
       "4          5.0            24           54400           RENT   \n",
       "\n",
       "   employment_duration loan_intent loan_grade   loan_amnt  loan_int_rate  \\\n",
       "0                123.0    PERSONAL          C  £35,000.00          16.02   \n",
       "1                  5.0   EDUCATION          A   £1,000.00          11.14   \n",
       "2                  1.0     MEDICAL          B   £5,500.00          12.87   \n",
       "3                  4.0     MEDICAL          B  £35,000.00          15.23   \n",
       "4                  8.0     MEDICAL          B  £35,000.00          14.27   \n",
       "\n",
       "   term_years historical_default  cred_hist_length Current_loan_status  \n",
       "0          10                  Y                 3             DEFAULT  \n",
       "1           1                NaN                 2          NO DEFAULT  \n",
       "2           5                  N                 3             DEFAULT  \n",
       "3          10                  N                 2             DEFAULT  \n",
       "4          10                  Y                 4             DEFAULT  "
      ]
     },
     "execution_count": 3,
     "metadata": {},
     "output_type": "execute_result"
    }
   ],
   "source": [
    "class_df.head()"
   ]
  },
  {
   "cell_type": "markdown",
   "id": "5d535186-21b8-4863-80ba-318ed43f7241",
   "metadata": {},
   "source": [
    "Пропущенные значения"
   ]
  },
  {
   "cell_type": "code",
   "execution_count": 4,
   "id": "f64e7c71-1ccc-441c-8dbb-0e8c4b3fe948",
   "metadata": {},
   "outputs": [
    {
     "data": {
      "image/png": "[encoded data removed]",
      "text/plain": [
       "<Figure size 2500x1000 with 2 Axes>"
      ]
     },
     "metadata": {},
     "output_type": "display_data"
    }
   ],
   "source": [
    "missingno.matrix(class_df);"
   ]
  },
  {
   "cell_type": "code",
   "execution_count": 5,
   "id": "ca015d26-e6ff-4edf-a500-d10787b057a0",
   "metadata": {},
   "outputs": [
    {
     "data": {
      "text/plain": [
       "customer_id                3\n",
       "customer_age               0\n",
       "customer_income            0\n",
       "home_ownership             0\n",
       "employment_duration      895\n",
       "loan_intent                0\n",
       "loan_grade                 0\n",
       "loan_amnt                  1\n",
       "loan_int_rate           3116\n",
       "term_years                 0\n",
       "historical_default     20737\n",
       "cred_hist_length           0\n",
       "Current_loan_status        4\n",
       "dtype: int64"
      ]
     },
     "execution_count": 5,
     "metadata": {},
     "output_type": "execute_result"
    }
   ],
   "source": [
    "class_df.isna().sum()"
   ]
  },
  {
   "cell_type": "code",
   "execution_count": 6,
   "id": "3839b42d-b2b2-4042-a39a-5679efcb5c29",
   "metadata": {},
   "outputs": [],
   "source": [
    "# customer_id -> эта колонка нас не интересует\n",
    "# employment_duration -> скорее всего, 0\n",
    "# loan_amnt, loan_int_rate, Current_loan_status (target) -> критически важно, точно надо фильтровать\n",
    "# historical_default -> скорее всего, NaN - не применимо (не брал заем ранее)"
   ]
  },
  {
   "cell_type": "markdown",
   "id": "58643b58-690e-4161-b32f-06e6056097d0",
   "metadata": {},
   "source": [
    "Дубликаты"
   ]
  },
  {
   "cell_type": "code",
   "execution_count": 7,
   "id": "8e4201b2-c127-439e-b20b-75f33b10353f",
   "metadata": {},
   "outputs": [
    {
     "data": {
      "text/plain": [
       "True"
      ]
     },
     "execution_count": 7,
     "metadata": {},
     "output_type": "execute_result"
    }
   ],
   "source": [
    "class_df.duplicated().any()"
   ]
  },
  {
   "cell_type": "code",
   "execution_count": 8,
   "id": "a16f8a33-4772-4036-a862-b46d036e770c",
   "metadata": {},
   "outputs": [],
   "source": [
    "columns_drop_na = ['loan_amnt', 'loan_int_rate', 'Current_loan_status']\n",
    "\n",
    "# \\ - переход на новую строку без разрыва (иначе будет SyntaxError)\n",
    "class_data = class_df.dropna(subset=columns_drop_na)\\\n",
    "    .drop_duplicates(ignore_index=True)\\\n",
    "    .drop(columns=['customer_id'])"
   ]
  },
  {
   "cell_type": "markdown",
   "id": "79c5cf49-7e0d-42d9-b459-2141c675ffc4",
   "metadata": {},
   "source": [
    "#### Посмотрим на переменные по отдельности"
   ]
  },
  {
   "cell_type": "code",
   "execution_count": 9,
   "id": "2c61e11f-7f7f-4c1b-98fa-8d871c347755",
   "metadata": {},
   "outputs": [
    {
     "data": {
      "text/html": [
       "<div>\n",
       "<style scoped>\n",
       "    .dataframe tbody tr th:only-of-type {\n",
       "        vertical-align: middle;\n",
       "    }\n",
       "\n",
       "    .dataframe tbody tr th {\n",
       "        vertical-align: top;\n",
       "    }\n",
       "\n",
       "    .dataframe thead th {\n",
       "        text-align: right;\n",
       "    }\n",
       "</style>\n",
       "<table border=\"1\" class=\"dataframe\">\n",
       "  <thead>\n",
       "    <tr style=\"text-align: right;\">\n",
       "      <th></th>\n",
       "      <th>customer_age</th>\n",
       "      <th>customer_income</th>\n",
       "      <th>home_ownership</th>\n",
       "      <th>employment_duration</th>\n",
       "      <th>loan_intent</th>\n",
       "      <th>loan_grade</th>\n",
       "      <th>loan_amnt</th>\n",
       "      <th>loan_int_rate</th>\n",
       "      <th>term_years</th>\n",
       "      <th>historical_default</th>\n",
       "      <th>cred_hist_length</th>\n",
       "      <th>Current_loan_status</th>\n",
       "    </tr>\n",
       "  </thead>\n",
       "  <tbody>\n",
       "    <tr>\n",
       "      <th>0</th>\n",
       "      <td>22</td>\n",
       "      <td>59000</td>\n",
       "      <td>RENT</td>\n",
       "      <td>123.0</td>\n",
       "      <td>PERSONAL</td>\n",
       "      <td>C</td>\n",
       "      <td>£35,000.00</td>\n",
       "      <td>16.02</td>\n",
       "      <td>10</td>\n",
       "      <td>Y</td>\n",
       "      <td>3</td>\n",
       "      <td>DEFAULT</td>\n",
       "    </tr>\n",
       "    <tr>\n",
       "      <th>1</th>\n",
       "      <td>21</td>\n",
       "      <td>9600</td>\n",
       "      <td>OWN</td>\n",
       "      <td>5.0</td>\n",
       "      <td>EDUCATION</td>\n",
       "      <td>A</td>\n",
       "      <td>£1,000.00</td>\n",
       "      <td>11.14</td>\n",
       "      <td>1</td>\n",
       "      <td>NaN</td>\n",
       "      <td>2</td>\n",
       "      <td>NO DEFAULT</td>\n",
       "    </tr>\n",
       "    <tr>\n",
       "      <th>2</th>\n",
       "      <td>25</td>\n",
       "      <td>9600</td>\n",
       "      <td>MORTGAGE</td>\n",
       "      <td>1.0</td>\n",
       "      <td>MEDICAL</td>\n",
       "      <td>B</td>\n",
       "      <td>£5,500.00</td>\n",
       "      <td>12.87</td>\n",
       "      <td>5</td>\n",
       "      <td>N</td>\n",
       "      <td>3</td>\n",
       "      <td>DEFAULT</td>\n",
       "    </tr>\n",
       "    <tr>\n",
       "      <th>3</th>\n",
       "      <td>23</td>\n",
       "      <td>65500</td>\n",
       "      <td>RENT</td>\n",
       "      <td>4.0</td>\n",
       "      <td>MEDICAL</td>\n",
       "      <td>B</td>\n",
       "      <td>£35,000.00</td>\n",
       "      <td>15.23</td>\n",
       "      <td>10</td>\n",
       "      <td>N</td>\n",
       "      <td>2</td>\n",
       "      <td>DEFAULT</td>\n",
       "    </tr>\n",
       "    <tr>\n",
       "      <th>4</th>\n",
       "      <td>24</td>\n",
       "      <td>54400</td>\n",
       "      <td>RENT</td>\n",
       "      <td>8.0</td>\n",
       "      <td>MEDICAL</td>\n",
       "      <td>B</td>\n",
       "      <td>£35,000.00</td>\n",
       "      <td>14.27</td>\n",
       "      <td>10</td>\n",
       "      <td>Y</td>\n",
       "      <td>4</td>\n",
       "      <td>DEFAULT</td>\n",
       "    </tr>\n",
       "  </tbody>\n",
       "</table>\n",
       "</div>"
      ],
      "text/plain": [
       "   customer_age customer_income home_ownership  employment_duration  \\\n",
       "0            22           59000           RENT                123.0   \n",
       "1            21            9600            OWN                  5.0   \n",
       "2            25            9600       MORTGAGE                  1.0   \n",
       "3            23           65500           RENT                  4.0   \n",
       "4            24           54400           RENT                  8.0   \n",
       "\n",
       "  loan_intent loan_grade   loan_amnt  loan_int_rate  term_years  \\\n",
       "0    PERSONAL          C  £35,000.00          16.02          10   \n",
       "1   EDUCATION          A   £1,000.00          11.14           1   \n",
       "2     MEDICAL          B   £5,500.00          12.87           5   \n",
       "3     MEDICAL          B  £35,000.00          15.23          10   \n",
       "4     MEDICAL          B  £35,000.00          14.27          10   \n",
       "\n",
       "  historical_default  cred_hist_length Current_loan_status  \n",
       "0                  Y                 3             DEFAULT  \n",
       "1                NaN                 2          NO DEFAULT  \n",
       "2                  N                 3             DEFAULT  \n",
       "3                  N                 2             DEFAULT  \n",
       "4                  Y                 4             DEFAULT  "
      ]
     },
     "execution_count": 9,
     "metadata": {},
     "output_type": "execute_result"
    }
   ],
   "source": [
    "class_data.head()"
   ]
  },
  {
   "cell_type": "markdown",
   "id": "6b385a9f-25d3-414c-baae-79ed29517547",
   "metadata": {},
   "source": [
    "`customer_age`"
   ]
  },
  {
   "cell_type": "code",
   "execution_count": 10,
   "id": "f21f5232-643c-4c8d-9473-b8bb55ab7860",
   "metadata": {},
   "outputs": [
    {
     "data": {
      "image/png": "[encoded data removed]",
      "text/plain": [
       "<Figure size 640x480 with 1 Axes>"
      ]
     },
     "metadata": {},
     "output_type": "display_data"
    }
   ],
   "source": [
    "class_data['customer_age'].plot.hist(edgecolor='black', bins=20);"
   ]
  },
  {
   "cell_type": "code",
   "execution_count": 11,
   "id": "38240864-b493-401c-8197-ec197bdbb640",
   "metadata": {},
   "outputs": [
    {
     "data": {
      "image/png": "[encoded data removed]",
      "text/plain": [
       "<Figure size 640x480 with 1 Axes>"
      ]
     },
     "metadata": {},
     "output_type": "display_data"
    }
   ],
   "source": [
    "class_data['customer_age'].plot.box(vert=False);"
   ]
  },
  {
   "cell_type": "code",
   "execution_count": 12,
   "id": "42826fad-1b27-45c2-b094-4f9cf88eb090",
   "metadata": {},
   "outputs": [],
   "source": [
    "customer_age_filter = (class_data['customer_age'].values >= 18) & (class_data['customer_age'].values < 100)"
   ]
  },
  {
   "cell_type": "markdown",
   "id": "f2201d61-2fa3-475c-a5c5-2ccb2c20f111",
   "metadata": {},
   "source": [
    "`customer_income`"
   ]
  },
  {
   "cell_type": "code",
   "execution_count": 13,
   "id": "7f02e1f0-0c84-4c8f-a4be-326739ac508a",
   "metadata": {},
   "outputs": [
    {
     "data": {
      "text/html": [
       "<div>\n",
       "<style scoped>\n",
       "    .dataframe tbody tr th:only-of-type {\n",
       "        vertical-align: middle;\n",
       "    }\n",
       "\n",
       "    .dataframe tbody tr th {\n",
       "        vertical-align: top;\n",
       "    }\n",
       "\n",
       "    .dataframe thead th {\n",
       "        text-align: right;\n",
       "    }\n",
       "</style>\n",
       "<table border=\"1\" class=\"dataframe\">\n",
       "  <thead>\n",
       "    <tr style=\"text-align: right;\">\n",
       "      <th></th>\n",
       "      <th>customer_age</th>\n",
       "      <th>customer_income</th>\n",
       "      <th>home_ownership</th>\n",
       "      <th>employment_duration</th>\n",
       "      <th>loan_intent</th>\n",
       "      <th>loan_grade</th>\n",
       "      <th>loan_amnt</th>\n",
       "      <th>loan_int_rate</th>\n",
       "      <th>term_years</th>\n",
       "      <th>historical_default</th>\n",
       "      <th>cred_hist_length</th>\n",
       "      <th>Current_loan_status</th>\n",
       "    </tr>\n",
       "  </thead>\n",
       "  <tbody>\n",
       "    <tr>\n",
       "      <th>0</th>\n",
       "      <td>22</td>\n",
       "      <td>59000</td>\n",
       "      <td>RENT</td>\n",
       "      <td>123.0</td>\n",
       "      <td>PERSONAL</td>\n",
       "      <td>C</td>\n",
       "      <td>£35,000.00</td>\n",
       "      <td>16.02</td>\n",
       "      <td>10</td>\n",
       "      <td>Y</td>\n",
       "      <td>3</td>\n",
       "      <td>DEFAULT</td>\n",
       "    </tr>\n",
       "    <tr>\n",
       "      <th>1</th>\n",
       "      <td>21</td>\n",
       "      <td>9600</td>\n",
       "      <td>OWN</td>\n",
       "      <td>5.0</td>\n",
       "      <td>EDUCATION</td>\n",
       "      <td>A</td>\n",
       "      <td>£1,000.00</td>\n",
       "      <td>11.14</td>\n",
       "      <td>1</td>\n",
       "      <td>NaN</td>\n",
       "      <td>2</td>\n",
       "      <td>NO DEFAULT</td>\n",
       "    </tr>\n",
       "    <tr>\n",
       "      <th>2</th>\n",
       "      <td>25</td>\n",
       "      <td>9600</td>\n",
       "      <td>MORTGAGE</td>\n",
       "      <td>1.0</td>\n",
       "      <td>MEDICAL</td>\n",
       "      <td>B</td>\n",
       "      <td>£5,500.00</td>\n",
       "      <td>12.87</td>\n",
       "      <td>5</td>\n",
       "      <td>N</td>\n",
       "      <td>3</td>\n",
       "      <td>DEFAULT</td>\n",
       "    </tr>\n",
       "    <tr>\n",
       "      <th>3</th>\n",
       "      <td>23</td>\n",
       "      <td>65500</td>\n",
       "      <td>RENT</td>\n",
       "      <td>4.0</td>\n",
       "      <td>MEDICAL</td>\n",
       "      <td>B</td>\n",
       "      <td>£35,000.00</td>\n",
       "      <td>15.23</td>\n",
       "      <td>10</td>\n",
       "      <td>N</td>\n",
       "      <td>2</td>\n",
       "      <td>DEFAULT</td>\n",
       "    </tr>\n",
       "    <tr>\n",
       "      <th>4</th>\n",
       "      <td>24</td>\n",
       "      <td>54400</td>\n",
       "      <td>RENT</td>\n",
       "      <td>8.0</td>\n",
       "      <td>MEDICAL</td>\n",
       "      <td>B</td>\n",
       "      <td>£35,000.00</td>\n",
       "      <td>14.27</td>\n",
       "      <td>10</td>\n",
       "      <td>Y</td>\n",
       "      <td>4</td>\n",
       "      <td>DEFAULT</td>\n",
       "    </tr>\n",
       "  </tbody>\n",
       "</table>\n",
       "</div>"
      ],
      "text/plain": [
       "   customer_age customer_income home_ownership  employment_duration  \\\n",
       "0            22           59000           RENT                123.0   \n",
       "1            21            9600            OWN                  5.0   \n",
       "2            25            9600       MORTGAGE                  1.0   \n",
       "3            23           65500           RENT                  4.0   \n",
       "4            24           54400           RENT                  8.0   \n",
       "\n",
       "  loan_intent loan_grade   loan_amnt  loan_int_rate  term_years  \\\n",
       "0    PERSONAL          C  £35,000.00          16.02          10   \n",
       "1   EDUCATION          A   £1,000.00          11.14           1   \n",
       "2     MEDICAL          B   £5,500.00          12.87           5   \n",
       "3     MEDICAL          B  £35,000.00          15.23          10   \n",
       "4     MEDICAL          B  £35,000.00          14.27          10   \n",
       "\n",
       "  historical_default  cred_hist_length Current_loan_status  \n",
       "0                  Y                 3             DEFAULT  \n",
       "1                NaN                 2          NO DEFAULT  \n",
       "2                  N                 3             DEFAULT  \n",
       "3                  N                 2             DEFAULT  \n",
       "4                  Y                 4             DEFAULT  "
      ]
     },
     "execution_count": 13,
     "metadata": {},
     "output_type": "execute_result"
    }
   ],
   "source": [
    "class_data.head()"
   ]
  },
  {
   "cell_type": "code",
   "execution_count": 14,
   "id": "a2a3afb2-ffd7-4a67-8f8d-cf79c43862e9",
   "metadata": {},
   "outputs": [
    {
     "data": {
      "text/plain": [
       "0         59000.0\n",
       "1          9600.0\n",
       "2          9600.0\n",
       "3         65500.0\n",
       "4         54400.0\n",
       "           ...   \n",
       "29456     53000.0\n",
       "29457    120000.0\n",
       "29458     76000.0\n",
       "29459    150000.0\n",
       "29460     42000.0\n",
       "Name: customer_income, Length: 29461, dtype: float64"
      ]
     },
     "execution_count": 14,
     "metadata": {},
     "output_type": "execute_result"
    }
   ],
   "source": [
    "# только запятые в середине (59,000 -> 59000) мешают преобразованию в float\n",
    "class_data['customer_income'].str.replace(',', '.').astype(float)"
   ]
  },
  {
   "cell_type": "code",
   "execution_count": 15,
   "id": "cdf1a8f6-437f-4fc4-b946-2c73d4af2ea9",
   "metadata": {},
   "outputs": [],
   "source": [
    "class_data['customer_income'] = class_data['customer_income'].str.replace(',', '.').astype(float)"
   ]
  },
  {
   "cell_type": "code",
   "execution_count": 16,
   "id": "83067a13-2274-475f-a0eb-ac83913629e9",
   "metadata": {},
   "outputs": [
    {
     "data": {
      "image/png": "[encoded data removed]",
      "text/plain": [
       "<Figure size 640x480 with 1 Axes>"
      ]
     },
     "metadata": {},
     "output_type": "display_data"
    }
   ],
   "source": [
    "class_data['customer_income'].plot.hist(edgecolor='black', bins=20);"
   ]
  },
  {
   "cell_type": "code",
   "execution_count": 17,
   "id": "1b5a21e3-bcc0-44c0-8241-0f373d14c70c",
   "metadata": {},
   "outputs": [
    {
     "data": {
      "image/png": "[encoded data removed]",
      "text/plain": [
       "<Figure size 640x480 with 1 Axes>"
      ]
     },
     "metadata": {},
     "output_type": "display_data"
    }
   ],
   "source": [
    "class_data['customer_income'].plot.box(vert=False);"
   ]
  },
  {
   "cell_type": "code",
   "execution_count": 18,
   "id": "c806349a-63b8-4f69-b6fd-25c9d5739c79",
   "metadata": {},
   "outputs": [],
   "source": [
    "class_data['customer_income_log'] = np.log(class_data['customer_income'].values)"
   ]
  },
  {
   "cell_type": "code",
   "execution_count": 19,
   "id": "595fe9a0-3e1e-43f6-87b9-091c8102d933",
   "metadata": {},
   "outputs": [
    {
     "data": {
      "image/png": "[encoded data removed]",
      "text/plain": [
       "<Figure size 640x480 with 1 Axes>"
      ]
     },
     "metadata": {},
     "output_type": "display_data"
    }
   ],
   "source": [
    "class_data['customer_income_log'].plot.box(vert=False);"
   ]
  },
  {
   "cell_type": "code",
   "execution_count": 20,
   "id": "dd761f7f-4aa6-40c6-8e56-97790153c9d7",
   "metadata": {},
   "outputs": [],
   "source": [
    "customer_income_filter = class_data['customer_income_log'].values >= 7"
   ]
  },
  {
   "cell_type": "markdown",
   "id": "f5168197-2ac0-45d3-bb42-741af2eecb26",
   "metadata": {},
   "source": [
    "`home_ownership`"
   ]
  },
  {
   "cell_type": "code",
   "execution_count": 21,
   "id": "0d0e5dff-d0d6-49f9-a3c2-be2a96cabd21",
   "metadata": {},
   "outputs": [
    {
     "data": {
      "text/plain": [
       "home_ownership\n",
       "RENT        14891\n",
       "MORTGAGE    12121\n",
       "OWN          2355\n",
       "OTHER          94\n",
       "Name: count, dtype: int64"
      ]
     },
     "execution_count": 21,
     "metadata": {},
     "output_type": "execute_result"
    }
   ],
   "source": [
    "class_data['home_ownership'].value_counts()  # OTHER слишком мало, следует отфильтровать"
   ]
  },
  {
   "cell_type": "code",
   "execution_count": 22,
   "id": "45a8782f-3d6c-4d58-b31f-4d37939937d5",
   "metadata": {},
   "outputs": [],
   "source": [
    "home_ownership_filter = class_data['home_ownership'].values != 'OTHER'"
   ]
  },
  {
   "cell_type": "markdown",
   "id": "6d0af830-0fe9-4521-b067-9c8490415b3b",
   "metadata": {},
   "source": [
    "`employment_duration`"
   ]
  },
  {
   "cell_type": "code",
   "execution_count": 23,
   "id": "a74537e8-fc32-4394-a7d7-346d4dcab1e5",
   "metadata": {},
   "outputs": [
    {
     "data": {
      "text/html": [
       "<div>\n",
       "<style scoped>\n",
       "    .dataframe tbody tr th:only-of-type {\n",
       "        vertical-align: middle;\n",
       "    }\n",
       "\n",
       "    .dataframe tbody tr th {\n",
       "        vertical-align: top;\n",
       "    }\n",
       "\n",
       "    .dataframe thead th {\n",
       "        text-align: right;\n",
       "    }\n",
       "</style>\n",
       "<table border=\"1\" class=\"dataframe\">\n",
       "  <thead>\n",
       "    <tr style=\"text-align: right;\">\n",
       "      <th></th>\n",
       "      <th>customer_age</th>\n",
       "      <th>customer_income</th>\n",
       "      <th>home_ownership</th>\n",
       "      <th>employment_duration</th>\n",
       "      <th>loan_intent</th>\n",
       "      <th>loan_grade</th>\n",
       "      <th>loan_amnt</th>\n",
       "      <th>loan_int_rate</th>\n",
       "      <th>term_years</th>\n",
       "      <th>historical_default</th>\n",
       "      <th>cred_hist_length</th>\n",
       "      <th>Current_loan_status</th>\n",
       "      <th>customer_income_log</th>\n",
       "    </tr>\n",
       "  </thead>\n",
       "  <tbody>\n",
       "    <tr>\n",
       "      <th>0</th>\n",
       "      <td>22</td>\n",
       "      <td>59000.0</td>\n",
       "      <td>RENT</td>\n",
       "      <td>123.0</td>\n",
       "      <td>PERSONAL</td>\n",
       "      <td>C</td>\n",
       "      <td>£35,000.00</td>\n",
       "      <td>16.02</td>\n",
       "      <td>10</td>\n",
       "      <td>Y</td>\n",
       "      <td>3</td>\n",
       "      <td>DEFAULT</td>\n",
       "      <td>10.985293</td>\n",
       "    </tr>\n",
       "    <tr>\n",
       "      <th>1</th>\n",
       "      <td>21</td>\n",
       "      <td>9600.0</td>\n",
       "      <td>OWN</td>\n",
       "      <td>5.0</td>\n",
       "      <td>EDUCATION</td>\n",
       "      <td>A</td>\n",
       "      <td>£1,000.00</td>\n",
       "      <td>11.14</td>\n",
       "      <td>1</td>\n",
       "      <td>NaN</td>\n",
       "      <td>2</td>\n",
       "      <td>NO DEFAULT</td>\n",
       "      <td>9.169518</td>\n",
       "    </tr>\n",
       "    <tr>\n",
       "      <th>2</th>\n",
       "      <td>25</td>\n",
       "      <td>9600.0</td>\n",
       "      <td>MORTGAGE</td>\n",
       "      <td>1.0</td>\n",
       "      <td>MEDICAL</td>\n",
       "      <td>B</td>\n",
       "      <td>£5,500.00</td>\n",
       "      <td>12.87</td>\n",
       "      <td>5</td>\n",
       "      <td>N</td>\n",
       "      <td>3</td>\n",
       "      <td>DEFAULT</td>\n",
       "      <td>9.169518</td>\n",
       "    </tr>\n",
       "    <tr>\n",
       "      <th>3</th>\n",
       "      <td>23</td>\n",
       "      <td>65500.0</td>\n",
       "      <td>RENT</td>\n",
       "      <td>4.0</td>\n",
       "      <td>MEDICAL</td>\n",
       "      <td>B</td>\n",
       "      <td>£35,000.00</td>\n",
       "      <td>15.23</td>\n",
       "      <td>10</td>\n",
       "      <td>N</td>\n",
       "      <td>2</td>\n",
       "      <td>DEFAULT</td>\n",
       "      <td>11.089805</td>\n",
       "    </tr>\n",
       "    <tr>\n",
       "      <th>4</th>\n",
       "      <td>24</td>\n",
       "      <td>54400.0</td>\n",
       "      <td>RENT</td>\n",
       "      <td>8.0</td>\n",
       "      <td>MEDICAL</td>\n",
       "      <td>B</td>\n",
       "      <td>£35,000.00</td>\n",
       "      <td>14.27</td>\n",
       "      <td>10</td>\n",
       "      <td>Y</td>\n",
       "      <td>4</td>\n",
       "      <td>DEFAULT</td>\n",
       "      <td>10.904119</td>\n",
       "    </tr>\n",
       "  </tbody>\n",
       "</table>\n",
       "</div>"
      ],
      "text/plain": [
       "   customer_age  customer_income home_ownership  employment_duration  \\\n",
       "0            22          59000.0           RENT                123.0   \n",
       "1            21           9600.0            OWN                  5.0   \n",
       "2            25           9600.0       MORTGAGE                  1.0   \n",
       "3            23          65500.0           RENT                  4.0   \n",
       "4            24          54400.0           RENT                  8.0   \n",
       "\n",
       "  loan_intent loan_grade   loan_amnt  loan_int_rate  term_years  \\\n",
       "0    PERSONAL          C  £35,000.00          16.02          10   \n",
       "1   EDUCATION          A   £1,000.00          11.14           1   \n",
       "2     MEDICAL          B   £5,500.00          12.87           5   \n",
       "3     MEDICAL          B  £35,000.00          15.23          10   \n",
       "4     MEDICAL          B  £35,000.00          14.27          10   \n",
       "\n",
       "  historical_default  cred_hist_length Current_loan_status  \\\n",
       "0                  Y                 3             DEFAULT   \n",
       "1                NaN                 2          NO DEFAULT   \n",
       "2                  N                 3             DEFAULT   \n",
       "3                  N                 2             DEFAULT   \n",
       "4                  Y                 4             DEFAULT   \n",
       "\n",
       "   customer_income_log  \n",
       "0            10.985293  \n",
       "1             9.169518  \n",
       "2             9.169518  \n",
       "3            11.089805  \n",
       "4            10.904119  "
      ]
     },
     "execution_count": 23,
     "metadata": {},
     "output_type": "execute_result"
    }
   ],
   "source": [
    "class_data.head()"
   ]
  },
  {
   "cell_type": "code",
   "execution_count": 24,
   "id": "4078b2f7-f50e-43e3-a1ee-d94a258fbe13",
   "metadata": {},
   "outputs": [
    {
     "data": {
      "text/plain": [
       "827"
      ]
     },
     "execution_count": 24,
     "metadata": {},
     "output_type": "execute_result"
    }
   ],
   "source": [
    "class_data['employment_duration'].isna().sum()"
   ]
  },
  {
   "cell_type": "code",
   "execution_count": 25,
   "id": "d404e519-8ff8-4229-beef-79ab2da6542d",
   "metadata": {},
   "outputs": [],
   "source": [
    "class_data['employment_duration'] = class_data['employment_duration'].fillna(0)"
   ]
  },
  {
   "cell_type": "code",
   "execution_count": 26,
   "id": "1ef10331-8b36-46dc-839c-1590ee1bcb20",
   "metadata": {},
   "outputs": [
    {
     "data": {
      "image/png": "[encoded data removed]",
      "text/plain": [
       "<Figure size 640x480 with 1 Axes>"
      ]
     },
     "metadata": {},
     "output_type": "display_data"
    }
   ],
   "source": [
    "class_data['employment_duration'].plot.box(vert=False);  # кажется, попытались оформить кредит на уже умершего человека"
   ]
  },
  {
   "cell_type": "code",
   "execution_count": 27,
   "id": "5dff542e-6cbe-4a03-93a9-876a2ef605d5",
   "metadata": {},
   "outputs": [],
   "source": [
    "employment_duration_filter = class_data['employment_duration'].values < 60"
   ]
  },
  {
   "cell_type": "markdown",
   "id": "0de6e057-5eb9-44fd-82c3-183351c11b81",
   "metadata": {},
   "source": [
    "`loan_intent`"
   ]
  },
  {
   "cell_type": "code",
   "execution_count": 28,
   "id": "472942af-88ea-4491-a8c0-9512b2168e5d",
   "metadata": {},
   "outputs": [
    {
     "data": {
      "text/plain": [
       "loan_intent\n",
       "EDUCATION            5854\n",
       "MEDICAL              5451\n",
       "VENTURE              5151\n",
       "PERSONAL             5012\n",
       "DEBTCONSOLIDATION    4703\n",
       "HOMEIMPROVEMENT      3290\n",
       "Name: count, dtype: int64"
      ]
     },
     "execution_count": 28,
     "metadata": {},
     "output_type": "execute_result"
    }
   ],
   "source": [
    "class_data['loan_intent'].value_counts()  # все хорошо"
   ]
  },
  {
   "cell_type": "markdown",
   "id": "6bdb9016-eba5-4890-833e-b4e815fdf636",
   "metadata": {},
   "source": [
    "`loan_grade`"
   ]
  },
  {
   "cell_type": "code",
   "execution_count": 29,
   "id": "736a13e1-e426-40b4-be3c-cff94b3f8cf8",
   "metadata": {},
   "outputs": [
    {
     "data": {
      "text/plain": [
       "loan_grade\n",
       "A    14183\n",
       "B     8130\n",
       "C     4461\n",
       "D     2414\n",
       "E      273\n",
       "Name: count, dtype: int64"
      ]
     },
     "execution_count": 29,
     "metadata": {},
     "output_type": "execute_result"
    }
   ],
   "source": [
    "class_data['loan_grade'].value_counts()  # все хорошо"
   ]
  },
  {
   "cell_type": "markdown",
   "id": "d0a2862d-90bf-4595-9f6d-d031aa3af8f6",
   "metadata": {},
   "source": [
    "`loan_amnt`"
   ]
  },
  {
   "cell_type": "code",
   "execution_count": 30,
   "id": "604f1892-6959-4ad5-8e02-43d69d1b338e",
   "metadata": {},
   "outputs": [
    {
     "data": {
      "text/html": [
       "<div>\n",
       "<style scoped>\n",
       "    .dataframe tbody tr th:only-of-type {\n",
       "        vertical-align: middle;\n",
       "    }\n",
       "\n",
       "    .dataframe tbody tr th {\n",
       "        vertical-align: top;\n",
       "    }\n",
       "\n",
       "    .dataframe thead th {\n",
       "        text-align: right;\n",
       "    }\n",
       "</style>\n",
       "<table border=\"1\" class=\"dataframe\">\n",
       "  <thead>\n",
       "    <tr style=\"text-align: right;\">\n",
       "      <th></th>\n",
       "      <th>customer_age</th>\n",
       "      <th>customer_income</th>\n",
       "      <th>home_ownership</th>\n",
       "      <th>employment_duration</th>\n",
       "      <th>loan_intent</th>\n",
       "      <th>loan_grade</th>\n",
       "      <th>loan_amnt</th>\n",
       "      <th>loan_int_rate</th>\n",
       "      <th>term_years</th>\n",
       "      <th>historical_default</th>\n",
       "      <th>cred_hist_length</th>\n",
       "      <th>Current_loan_status</th>\n",
       "      <th>customer_income_log</th>\n",
       "    </tr>\n",
       "  </thead>\n",
       "  <tbody>\n",
       "    <tr>\n",
       "      <th>0</th>\n",
       "      <td>22</td>\n",
       "      <td>59000.0</td>\n",
       "      <td>RENT</td>\n",
       "      <td>123.0</td>\n",
       "      <td>PERSONAL</td>\n",
       "      <td>C</td>\n",
       "      <td>£35,000.00</td>\n",
       "      <td>16.02</td>\n",
       "      <td>10</td>\n",
       "      <td>Y</td>\n",
       "      <td>3</td>\n",
       "      <td>DEFAULT</td>\n",
       "      <td>10.985293</td>\n",
       "    </tr>\n",
       "    <tr>\n",
       "      <th>1</th>\n",
       "      <td>21</td>\n",
       "      <td>9600.0</td>\n",
       "      <td>OWN</td>\n",
       "      <td>5.0</td>\n",
       "      <td>EDUCATION</td>\n",
       "      <td>A</td>\n",
       "      <td>£1,000.00</td>\n",
       "      <td>11.14</td>\n",
       "      <td>1</td>\n",
       "      <td>NaN</td>\n",
       "      <td>2</td>\n",
       "      <td>NO DEFAULT</td>\n",
       "      <td>9.169518</td>\n",
       "    </tr>\n",
       "    <tr>\n",
       "      <th>2</th>\n",
       "      <td>25</td>\n",
       "      <td>9600.0</td>\n",
       "      <td>MORTGAGE</td>\n",
       "      <td>1.0</td>\n",
       "      <td>MEDICAL</td>\n",
       "      <td>B</td>\n",
       "      <td>£5,500.00</td>\n",
       "      <td>12.87</td>\n",
       "      <td>5</td>\n",
       "      <td>N</td>\n",
       "      <td>3</td>\n",
       "      <td>DEFAULT</td>\n",
       "      <td>9.169518</td>\n",
       "    </tr>\n",
       "    <tr>\n",
       "      <th>3</th>\n",
       "      <td>23</td>\n",
       "      <td>65500.0</td>\n",
       "      <td>RENT</td>\n",
       "      <td>4.0</td>\n",
       "      <td>MEDICAL</td>\n",
       "      <td>B</td>\n",
       "      <td>£35,000.00</td>\n",
       "      <td>15.23</td>\n",
       "      <td>10</td>\n",
       "      <td>N</td>\n",
       "      <td>2</td>\n",
       "      <td>DEFAULT</td>\n",
       "      <td>11.089805</td>\n",
       "    </tr>\n",
       "    <tr>\n",
       "      <th>4</th>\n",
       "      <td>24</td>\n",
       "      <td>54400.0</td>\n",
       "      <td>RENT</td>\n",
       "      <td>8.0</td>\n",
       "      <td>MEDICAL</td>\n",
       "      <td>B</td>\n",
       "      <td>£35,000.00</td>\n",
       "      <td>14.27</td>\n",
       "      <td>10</td>\n",
       "      <td>Y</td>\n",
       "      <td>4</td>\n",
       "      <td>DEFAULT</td>\n",
       "      <td>10.904119</td>\n",
       "    </tr>\n",
       "  </tbody>\n",
       "</table>\n",
       "</div>"
      ],
      "text/plain": [
       "   customer_age  customer_income home_ownership  employment_duration  \\\n",
       "0            22          59000.0           RENT                123.0   \n",
       "1            21           9600.0            OWN                  5.0   \n",
       "2            25           9600.0       MORTGAGE                  1.0   \n",
       "3            23          65500.0           RENT                  4.0   \n",
       "4            24          54400.0           RENT                  8.0   \n",
       "\n",
       "  loan_intent loan_grade   loan_amnt  loan_int_rate  term_years  \\\n",
       "0    PERSONAL          C  £35,000.00          16.02          10   \n",
       "1   EDUCATION          A   £1,000.00          11.14           1   \n",
       "2     MEDICAL          B   £5,500.00          12.87           5   \n",
       "3     MEDICAL          B  £35,000.00          15.23          10   \n",
       "4     MEDICAL          B  £35,000.00          14.27          10   \n",
       "\n",
       "  historical_default  cred_hist_length Current_loan_status  \\\n",
       "0                  Y                 3             DEFAULT   \n",
       "1                NaN                 2          NO DEFAULT   \n",
       "2                  N                 3             DEFAULT   \n",
       "3                  N                 2             DEFAULT   \n",
       "4                  Y                 4             DEFAULT   \n",
       "\n",
       "   customer_income_log  \n",
       "0            10.985293  \n",
       "1             9.169518  \n",
       "2             9.169518  \n",
       "3            11.089805  \n",
       "4            10.904119  "
      ]
     },
     "execution_count": 30,
     "metadata": {},
     "output_type": "execute_result"
    }
   ],
   "source": [
    "class_data.head()"
   ]
  },
  {
   "cell_type": "code",
   "execution_count": 31,
   "id": "0549a0fa-9994-4b16-a27f-7405cec373f9",
   "metadata": {},
   "outputs": [],
   "source": [
    "class_data['loan_amnt'] = class_data['loan_amnt'].str.strip('£').str.replace(',', '').astype(float)"
   ]
  },
  {
   "cell_type": "code",
   "execution_count": 32,
   "id": "f5a51ef3-5e95-4c71-aca6-6d882271c1ae",
   "metadata": {},
   "outputs": [
    {
     "data": {
      "image/png": "[encoded data removed]",
      "text/plain": [
       "<Figure size 640x480 with 1 Axes>"
      ]
     },
     "metadata": {},
     "output_type": "display_data"
    }
   ],
   "source": [
    "class_data['loan_amnt'].plot.box(vert=False);"
   ]
  },
  {
   "cell_type": "code",
   "execution_count": 33,
   "id": "b11ac0a8-2b67-41cf-90f9-24a516c89827",
   "metadata": {},
   "outputs": [],
   "source": [
    "class_data['loan_amnt_log'] = np.log(class_data['loan_amnt'].values)"
   ]
  },
  {
   "cell_type": "code",
   "execution_count": 34,
   "id": "08c68939-c556-4062-8fb0-1e91d9b162b6",
   "metadata": {},
   "outputs": [
    {
     "data": {
      "image/png": "[encoded data removed]",
      "text/plain": [
       "<Figure size 640x480 with 1 Axes>"
      ]
     },
     "metadata": {},
     "output_type": "display_data"
    }
   ],
   "source": [
    "class_data['loan_amnt_log'].plot.box(vert=False);"
   ]
  },
  {
   "cell_type": "code",
   "execution_count": 35,
   "id": "c0424344-65c6-45eb-83a1-bc14a6b4c2e0",
   "metadata": {},
   "outputs": [],
   "source": [
    "loan_amnt_filter = class_data['loan_amnt_log'].values < 12"
   ]
  },
  {
   "cell_type": "markdown",
   "id": "bda9e25a-da2a-4c57-ac23-e8ebcbd0c96a",
   "metadata": {},
   "source": [
    "`loan_int_rate`"
   ]
  },
  {
   "cell_type": "code",
   "execution_count": 36,
   "id": "31a04c2c-1b48-46e5-ba01-bd4fe36b4c7a",
   "metadata": {},
   "outputs": [
    {
     "data": {
      "image/png": "[encoded data removed]",
      "text/plain": [
       "<Figure size 640x480 with 1 Axes>"
      ]
     },
     "metadata": {},
     "output_type": "display_data"
    }
   ],
   "source": [
    "class_data['loan_int_rate'].plot.box(vert=False);  # все хорошо"
   ]
  },
  {
   "cell_type": "markdown",
   "id": "44cdd75f-a20a-48b9-a10d-4947a0567323",
   "metadata": {},
   "source": [
    "`term_years`"
   ]
  },
  {
   "cell_type": "code",
   "execution_count": 37,
   "id": "b7fef703-f80c-427e-afa9-388bb8f8edd0",
   "metadata": {},
   "outputs": [
    {
     "data": {
      "image/png": "[encoded data removed]",
      "text/plain": [
       "<Figure size 640x480 with 1 Axes>"
      ]
     },
     "metadata": {},
     "output_type": "display_data"
    }
   ],
   "source": [
    "class_data['term_years'].plot.box(vert=False);  # все хорошо"
   ]
  },
  {
   "cell_type": "markdown",
   "id": "051809e9-81b2-49e2-b3c2-5d744ec9fd63",
   "metadata": {},
   "source": [
    "`historical_default`"
   ]
  },
  {
   "cell_type": "code",
   "execution_count": 38,
   "id": "5bfda9a0-9d63-4b6f-b997-e979b7d17680",
   "metadata": {},
   "outputs": [
    {
     "data": {
      "text/plain": [
       "historical_default\n",
       "Y    5561\n",
       "N    5169\n",
       "Name: count, dtype: int64"
      ]
     },
     "execution_count": 38,
     "metadata": {},
     "output_type": "execute_result"
    }
   ],
   "source": [
    "class_data['historical_default'].value_counts()"
   ]
  },
  {
   "cell_type": "code",
   "execution_count": 39,
   "id": "366ee8ac-efa3-43f4-9492-6207293bb758",
   "metadata": {},
   "outputs": [],
   "source": [
    "class_data['historical_default'] = class_data['historical_default'].fillna('NOT_APPLICABLE')"
   ]
  },
  {
   "cell_type": "code",
   "execution_count": 40,
   "id": "21c14435-58a2-4cd8-9c07-3e0ecfd1fd76",
   "metadata": {},
   "outputs": [
    {
     "data": {
      "text/plain": [
       "historical_default\n",
       "NOT_APPLICABLE    18731\n",
       "Y                  5561\n",
       "N                  5169\n",
       "Name: count, dtype: int64"
      ]
     },
     "execution_count": 40,
     "metadata": {},
     "output_type": "execute_result"
    }
   ],
   "source": [
    "class_data['historical_default'].value_counts()"
   ]
  },
  {
   "cell_type": "markdown",
   "id": "e84c5e26-ebb8-42c6-bd43-1aaa840d8c2a",
   "metadata": {},
   "source": [
    "`cred_hist_length`"
   ]
  },
  {
   "cell_type": "code",
   "execution_count": 41,
   "id": "85fd646b-a830-449c-96d1-dea54ea67a27",
   "metadata": {},
   "outputs": [
    {
     "data": {
      "image/png": "[encoded data removed]",
      "text/plain": [
       "<Figure size 640x480 with 1 Axes>"
      ]
     },
     "metadata": {},
     "output_type": "display_data"
    }
   ],
   "source": [
    "class_data['cred_hist_length'].plot.box(vert=False);  # выбросы как будто есть, но их много, фильтровать лично я бы не стал"
   ]
  },
  {
   "cell_type": "markdown",
   "id": "153718d2-eaee-4191-b4fc-b6bd2bd3b98c",
   "metadata": {},
   "source": [
    "`Current_loan_status`"
   ]
  },
  {
   "cell_type": "code",
   "execution_count": 42,
   "id": "a3f4be0f-5909-4973-8097-b5a25ec00b85",
   "metadata": {},
   "outputs": [
    {
     "data": {
      "text/plain": [
       "Current_loan_status\n",
       "NO DEFAULT    23237\n",
       "DEFAULT        6224\n",
       "Name: count, dtype: int64"
      ]
     },
     "execution_count": 42,
     "metadata": {},
     "output_type": "execute_result"
    }
   ],
   "source": [
    "class_data['Current_loan_status'].value_counts()"
   ]
  },
  {
   "cell_type": "code",
   "execution_count": 43,
   "id": "2fdd1541-d06f-4545-887c-fa8cbb81a663",
   "metadata": {},
   "outputs": [
    {
     "data": {
      "text/plain": [
       "Current_loan_status\n",
       "NO DEFAULT    0.788738\n",
       "DEFAULT       0.211262\n",
       "Name: proportion, dtype: float64"
      ]
     },
     "execution_count": 43,
     "metadata": {},
     "output_type": "execute_result"
    }
   ],
   "source": [
    "class_data['Current_loan_status'].value_counts(normalize=True)"
   ]
  },
  {
   "cell_type": "code",
   "execution_count": 44,
   "id": "6fc98982-4f4c-4cf4-8e0b-7a0fe60d67ff",
   "metadata": {},
   "outputs": [],
   "source": [
    "class_data['target'] = 0\n",
    "class_data.loc[class_data['Current_loan_status'] == 'DEFAULT', 'target'] = 1"
   ]
  },
  {
   "cell_type": "markdown",
   "id": "34e03eb4-3775-4cbc-8c4e-2a73b4dca10d",
   "metadata": {},
   "source": [
    "### Подготовим данные к моделированию"
   ]
  },
  {
   "cell_type": "code",
   "execution_count": 45,
   "id": "695b7585-221d-4bdc-bf9d-8321de7392f1",
   "metadata": {},
   "outputs": [
    {
     "data": {
      "text/html": [
       "<div>\n",
       "<style scoped>\n",
       "    .dataframe tbody tr th:only-of-type {\n",
       "        vertical-align: middle;\n",
       "    }\n",
       "\n",
       "    .dataframe tbody tr th {\n",
       "        vertical-align: top;\n",
       "    }\n",
       "\n",
       "    .dataframe thead th {\n",
       "        text-align: right;\n",
       "    }\n",
       "</style>\n",
       "<table border=\"1\" class=\"dataframe\">\n",
       "  <thead>\n",
       "    <tr style=\"text-align: right;\">\n",
       "      <th></th>\n",
       "      <th>customer_age</th>\n",
       "      <th>customer_income</th>\n",
       "      <th>home_ownership</th>\n",
       "      <th>employment_duration</th>\n",
       "      <th>loan_intent</th>\n",
       "      <th>loan_grade</th>\n",
       "      <th>loan_amnt</th>\n",
       "      <th>loan_int_rate</th>\n",
       "      <th>term_years</th>\n",
       "      <th>historical_default</th>\n",
       "      <th>cred_hist_length</th>\n",
       "      <th>Current_loan_status</th>\n",
       "      <th>customer_income_log</th>\n",
       "      <th>loan_amnt_log</th>\n",
       "      <th>target</th>\n",
       "    </tr>\n",
       "  </thead>\n",
       "  <tbody>\n",
       "    <tr>\n",
       "      <th>0</th>\n",
       "      <td>22</td>\n",
       "      <td>59000.0</td>\n",
       "      <td>RENT</td>\n",
       "      <td>123.0</td>\n",
       "      <td>PERSONAL</td>\n",
       "      <td>C</td>\n",
       "      <td>35000.0</td>\n",
       "      <td>16.02</td>\n",
       "      <td>10</td>\n",
       "      <td>Y</td>\n",
       "      <td>3</td>\n",
       "      <td>DEFAULT</td>\n",
       "      <td>10.985293</td>\n",
       "      <td>10.463103</td>\n",
       "      <td>1</td>\n",
       "    </tr>\n",
       "    <tr>\n",
       "      <th>1</th>\n",
       "      <td>21</td>\n",
       "      <td>9600.0</td>\n",
       "      <td>OWN</td>\n",
       "      <td>5.0</td>\n",
       "      <td>EDUCATION</td>\n",
       "      <td>A</td>\n",
       "      <td>1000.0</td>\n",
       "      <td>11.14</td>\n",
       "      <td>1</td>\n",
       "      <td>NOT_APPLICABLE</td>\n",
       "      <td>2</td>\n",
       "      <td>NO DEFAULT</td>\n",
       "      <td>9.169518</td>\n",
       "      <td>6.907755</td>\n",
       "      <td>0</td>\n",
       "    </tr>\n",
       "    <tr>\n",
       "      <th>2</th>\n",
       "      <td>25</td>\n",
       "      <td>9600.0</td>\n",
       "      <td>MORTGAGE</td>\n",
       "      <td>1.0</td>\n",
       "      <td>MEDICAL</td>\n",
       "      <td>B</td>\n",
       "      <td>5500.0</td>\n",
       "      <td>12.87</td>\n",
       "      <td>5</td>\n",
       "      <td>N</td>\n",
       "      <td>3</td>\n",
       "      <td>DEFAULT</td>\n",
       "      <td>9.169518</td>\n",
       "      <td>8.612503</td>\n",
       "      <td>1</td>\n",
       "    </tr>\n",
       "    <tr>\n",
       "      <th>3</th>\n",
       "      <td>23</td>\n",
       "      <td>65500.0</td>\n",
       "      <td>RENT</td>\n",
       "      <td>4.0</td>\n",
       "      <td>MEDICAL</td>\n",
       "      <td>B</td>\n",
       "      <td>35000.0</td>\n",
       "      <td>15.23</td>\n",
       "      <td>10</td>\n",
       "      <td>N</td>\n",
       "      <td>2</td>\n",
       "      <td>DEFAULT</td>\n",
       "      <td>11.089805</td>\n",
       "      <td>10.463103</td>\n",
       "      <td>1</td>\n",
       "    </tr>\n",
       "    <tr>\n",
       "      <th>4</th>\n",
       "      <td>24</td>\n",
       "      <td>54400.0</td>\n",
       "      <td>RENT</td>\n",
       "      <td>8.0</td>\n",
       "      <td>MEDICAL</td>\n",
       "      <td>B</td>\n",
       "      <td>35000.0</td>\n",
       "      <td>14.27</td>\n",
       "      <td>10</td>\n",
       "      <td>Y</td>\n",
       "      <td>4</td>\n",
       "      <td>DEFAULT</td>\n",
       "      <td>10.904119</td>\n",
       "      <td>10.463103</td>\n",
       "      <td>1</td>\n",
       "    </tr>\n",
       "  </tbody>\n",
       "</table>\n",
       "</div>"
      ],
      "text/plain": [
       "   customer_age  customer_income home_ownership  employment_duration  \\\n",
       "0            22          59000.0           RENT                123.0   \n",
       "1            21           9600.0            OWN                  5.0   \n",
       "2            25           9600.0       MORTGAGE                  1.0   \n",
       "3            23          65500.0           RENT                  4.0   \n",
       "4            24          54400.0           RENT                  8.0   \n",
       "\n",
       "  loan_intent loan_grade  loan_amnt  loan_int_rate  term_years  \\\n",
       "0    PERSONAL          C    35000.0          16.02          10   \n",
       "1   EDUCATION          A     1000.0          11.14           1   \n",
       "2     MEDICAL          B     5500.0          12.87           5   \n",
       "3     MEDICAL          B    35000.0          15.23          10   \n",
       "4     MEDICAL          B    35000.0          14.27          10   \n",
       "\n",
       "  historical_default  cred_hist_length Current_loan_status  \\\n",
       "0                  Y                 3             DEFAULT   \n",
       "1     NOT_APPLICABLE                 2          NO DEFAULT   \n",
       "2                  N                 3             DEFAULT   \n",
       "3                  N                 2             DEFAULT   \n",
       "4                  Y                 4             DEFAULT   \n",
       "\n",
       "   customer_income_log  loan_amnt_log  target  \n",
       "0            10.985293      10.463103       1  \n",
       "1             9.169518       6.907755       0  \n",
       "2             9.169518       8.612503       1  \n",
       "3            11.089805      10.463103       1  \n",
       "4            10.904119      10.463103       1  "
      ]
     },
     "execution_count": 45,
     "metadata": {},
     "output_type": "execute_result"
    }
   ],
   "source": [
    "class_data.head()"
   ]
  },
  {
   "cell_type": "code",
   "execution_count": 46,
   "id": "7a6bb7e3-3053-4472-8412-3909fa4a2dd4",
   "metadata": {},
   "outputs": [],
   "source": [
    "variables = [\n",
    "    'customer_age', 'customer_income_log', 'home_ownership', 'employment_duration', 'loan_intent', 'loan_grade', 'loan_amnt_log', 'loan_int_rate', 'term_years', 'historical_default',\n",
    "    'cred_hist_length', 'target'\n",
    "]\n",
    "\n",
    "dummy_variables = ['home_ownership', 'loan_intent', 'loan_grade', 'historical_default']\n",
    "target = 'target'\n",
    "\n",
    "model_data = class_data.loc[\n",
    "    customer_age_filter\n",
    "    & customer_income_filter\n",
    "    & home_ownership_filter\n",
    "    & employment_duration_filter\n",
    "    & loan_amnt_filter,\n",
    "    variables\n",
    "].reset_index(drop=True)\n",
    "\n",
    "model_data = pd.get_dummies(\n",
    "    model_data,\n",
    "    columns=dummy_variables,\n",
    "    dtype='int',\n",
    "    drop_first=True\n",
    ")"
   ]
  },
  {
   "cell_type": "markdown",
   "id": "54dff8c5-f197-4dd3-938c-4f26885430c6",
   "metadata": {},
   "source": [
    "Уже знакомый нам подход: берем только нужные переменные, применяем фильтры и создаем дамми-фичи"
   ]
  },
  {
   "cell_type": "code",
   "execution_count": 47,
   "id": "9c7cbe2b-4241-469c-9fb2-83126480d1d8",
   "metadata": {},
   "outputs": [
    {
     "data": {
      "text/html": [
       "<div>\n",
       "<style scoped>\n",
       "    .dataframe tbody tr th:only-of-type {\n",
       "        vertical-align: middle;\n",
       "    }\n",
       "\n",
       "    .dataframe tbody tr th {\n",
       "        vertical-align: top;\n",
       "    }\n",
       "\n",
       "    .dataframe thead th {\n",
       "        text-align: right;\n",
       "    }\n",
       "</style>\n",
       "<table border=\"1\" class=\"dataframe\">\n",
       "  <thead>\n",
       "    <tr style=\"text-align: right;\">\n",
       "      <th></th>\n",
       "      <th>customer_age</th>\n",
       "      <th>customer_income_log</th>\n",
       "      <th>employment_duration</th>\n",
       "      <th>loan_amnt_log</th>\n",
       "      <th>loan_int_rate</th>\n",
       "      <th>term_years</th>\n",
       "      <th>cred_hist_length</th>\n",
       "      <th>target</th>\n",
       "      <th>home_ownership_OWN</th>\n",
       "      <th>home_ownership_RENT</th>\n",
       "      <th>...</th>\n",
       "      <th>loan_intent_HOMEIMPROVEMENT</th>\n",
       "      <th>loan_intent_MEDICAL</th>\n",
       "      <th>loan_intent_PERSONAL</th>\n",
       "      <th>loan_intent_VENTURE</th>\n",
       "      <th>loan_grade_B</th>\n",
       "      <th>loan_grade_C</th>\n",
       "      <th>loan_grade_D</th>\n",
       "      <th>loan_grade_E</th>\n",
       "      <th>historical_default_NOT_APPLICABLE</th>\n",
       "      <th>historical_default_Y</th>\n",
       "    </tr>\n",
       "  </thead>\n",
       "  <tbody>\n",
       "    <tr>\n",
       "      <th>0</th>\n",
       "      <td>21</td>\n",
       "      <td>9.169518</td>\n",
       "      <td>5.0</td>\n",
       "      <td>6.907755</td>\n",
       "      <td>11.14</td>\n",
       "      <td>1</td>\n",
       "      <td>2</td>\n",
       "      <td>0</td>\n",
       "      <td>1</td>\n",
       "      <td>0</td>\n",
       "      <td>...</td>\n",
       "      <td>0</td>\n",
       "      <td>0</td>\n",
       "      <td>0</td>\n",
       "      <td>0</td>\n",
       "      <td>0</td>\n",
       "      <td>0</td>\n",
       "      <td>0</td>\n",
       "      <td>0</td>\n",
       "      <td>1</td>\n",
       "      <td>0</td>\n",
       "    </tr>\n",
       "    <tr>\n",
       "      <th>1</th>\n",
       "      <td>25</td>\n",
       "      <td>9.169518</td>\n",
       "      <td>1.0</td>\n",
       "      <td>8.612503</td>\n",
       "      <td>12.87</td>\n",
       "      <td>5</td>\n",
       "      <td>3</td>\n",
       "      <td>1</td>\n",
       "      <td>0</td>\n",
       "      <td>0</td>\n",
       "      <td>...</td>\n",
       "      <td>0</td>\n",
       "      <td>1</td>\n",
       "      <td>0</td>\n",
       "      <td>0</td>\n",
       "      <td>1</td>\n",
       "      <td>0</td>\n",
       "      <td>0</td>\n",
       "      <td>0</td>\n",
       "      <td>0</td>\n",
       "      <td>0</td>\n",
       "    </tr>\n",
       "    <tr>\n",
       "      <th>2</th>\n",
       "      <td>23</td>\n",
       "      <td>11.089805</td>\n",
       "      <td>4.0</td>\n",
       "      <td>10.463103</td>\n",
       "      <td>15.23</td>\n",
       "      <td>10</td>\n",
       "      <td>2</td>\n",
       "      <td>1</td>\n",
       "      <td>0</td>\n",
       "      <td>1</td>\n",
       "      <td>...</td>\n",
       "      <td>0</td>\n",
       "      <td>1</td>\n",
       "      <td>0</td>\n",
       "      <td>0</td>\n",
       "      <td>1</td>\n",
       "      <td>0</td>\n",
       "      <td>0</td>\n",
       "      <td>0</td>\n",
       "      <td>0</td>\n",
       "      <td>0</td>\n",
       "    </tr>\n",
       "    <tr>\n",
       "      <th>3</th>\n",
       "      <td>24</td>\n",
       "      <td>10.904119</td>\n",
       "      <td>8.0</td>\n",
       "      <td>10.463103</td>\n",
       "      <td>14.27</td>\n",
       "      <td>10</td>\n",
       "      <td>4</td>\n",
       "      <td>1</td>\n",
       "      <td>0</td>\n",
       "      <td>1</td>\n",
       "      <td>...</td>\n",
       "      <td>0</td>\n",
       "      <td>1</td>\n",
       "      <td>0</td>\n",
       "      <td>0</td>\n",
       "      <td>1</td>\n",
       "      <td>0</td>\n",
       "      <td>0</td>\n",
       "      <td>0</td>\n",
       "      <td>0</td>\n",
       "      <td>1</td>\n",
       "    </tr>\n",
       "    <tr>\n",
       "      <th>4</th>\n",
       "      <td>21</td>\n",
       "      <td>9.200290</td>\n",
       "      <td>2.0</td>\n",
       "      <td>7.824046</td>\n",
       "      <td>7.14</td>\n",
       "      <td>1</td>\n",
       "      <td>2</td>\n",
       "      <td>1</td>\n",
       "      <td>1</td>\n",
       "      <td>0</td>\n",
       "      <td>...</td>\n",
       "      <td>0</td>\n",
       "      <td>0</td>\n",
       "      <td>0</td>\n",
       "      <td>1</td>\n",
       "      <td>0</td>\n",
       "      <td>0</td>\n",
       "      <td>0</td>\n",
       "      <td>0</td>\n",
       "      <td>0</td>\n",
       "      <td>0</td>\n",
       "    </tr>\n",
       "  </tbody>\n",
       "</table>\n",
       "<p>5 rows × 21 columns</p>\n",
       "</div>"
      ],
      "text/plain": [
       "   customer_age  customer_income_log  employment_duration  loan_amnt_log  \\\n",
       "0            21             9.169518                  5.0       6.907755   \n",
       "1            25             9.169518                  1.0       8.612503   \n",
       "2            23            11.089805                  4.0      10.463103   \n",
       "3            24            10.904119                  8.0      10.463103   \n",
       "4            21             9.200290                  2.0       7.824046   \n",
       "\n",
       "   loan_int_rate  term_years  cred_hist_length  target  home_ownership_OWN  \\\n",
       "0          11.14           1                 2       0                   1   \n",
       "1          12.87           5                 3       1                   0   \n",
       "2          15.23          10                 2       1                   0   \n",
       "3          14.27          10                 4       1                   0   \n",
       "4           7.14           1                 2       1                   1   \n",
       "\n",
       "   home_ownership_RENT  ...  loan_intent_HOMEIMPROVEMENT  loan_intent_MEDICAL  \\\n",
       "0                    0  ...                            0                    0   \n",
       "1                    0  ...                            0                    1   \n",
       "2                    1  ...                            0                    1   \n",
       "3                    1  ...                            0                    1   \n",
       "4                    0  ...                            0                    0   \n",
       "\n",
       "   loan_intent_PERSONAL  loan_intent_VENTURE  loan_grade_B  loan_grade_C  \\\n",
       "0                     0                    0             0             0   \n",
       "1                     0                    0             1             0   \n",
       "2                     0                    0             1             0   \n",
       "3                     0                    0             1             0   \n",
       "4                     0                    1             0             0   \n",
       "\n",
       "   loan_grade_D  loan_grade_E  historical_default_NOT_APPLICABLE  \\\n",
       "0             0             0                                  1   \n",
       "1             0             0                                  0   \n",
       "2             0             0                                  0   \n",
       "3             0             0                                  0   \n",
       "4             0             0                                  0   \n",
       "\n",
       "   historical_default_Y  \n",
       "0                     0  \n",
       "1                     0  \n",
       "2                     0  \n",
       "3                     1  \n",
       "4                     0  \n",
       "\n",
       "[5 rows x 21 columns]"
      ]
     },
     "execution_count": 47,
     "metadata": {},
     "output_type": "execute_result"
    }
   ],
   "source": [
    "model_data.head()"
   ]
  },
  {
   "cell_type": "markdown",
   "id": "093a7b99-8cf1-48e9-8c53-0f5cb61c54e1",
   "metadata": {},
   "source": [
    "Разделим на train & test"
   ]
  },
  {
   "cell_type": "code",
   "execution_count": 48,
   "id": "697a29a6-cdfd-482e-a17e-c6332357d1c3",
   "metadata": {},
   "outputs": [],
   "source": [
    "from sklearn.model_selection import train_test_split\n",
    "\n",
    "X = model_data.drop(columns=[target])\n",
    "y = model_data[target]\n",
    "\n",
    "X_train, X_test, y_train, y_test = train_test_split(X, y, train_size=TRAIN_SIZE)"
   ]
  },
  {
   "cell_type": "markdown",
   "id": "0d041a20-3f68-4db6-b9b4-051ef878e40d",
   "metadata": {},
   "source": [
    "### Логистическая регрессия как продолжение линейной\n",
    "1. Попробуйте использовать линейную регрессию для предсказания вероятности дефолта. Изучите предикт и измерьте качество (в качестве метрики используйте accuracy);\n",
    "2. Адаптируйте выход линейной регрессии для задачи классификации, сравните результаты с результатами предыдущего пункта;\n",
    "3. Сразу используйте логичестическую регрессию и сравните результаты с предыдущими подходами.\n",
    "\n",
    "**Линейная регрессия**"
   ]
  },
  {
   "cell_type": "code",
   "execution_count": 54,
   "id": "f2065962-4b3c-4e91-8ae9-aba12bce7af0",
   "metadata": {},
   "outputs": [],
   "source": [
    "from sklearn.linear_model import LinearRegression, LogisticRegression\n",
    "from sklearn.metrics import classification_report, confusion_matrix, roc_auc_score\n",
    "\n",
    "lr = LinearRegression()\n",
    "lr.fit(X_train, y_train)\n",
    "\n",
    "lr_predict = lr.predict(X_test)\n",
    "lr_predict_final = (lr_predict >= 0.5).astype(int)"
   ]
  },
  {
   "cell_type": "code",
   "execution_count": 53,
   "id": "14eb62e1-76f6-47ed-852f-49712118bb31",
   "metadata": {},
   "outputs": [
    {
     "data": {
      "text/plain": [
       "array([0, 1, 0, ..., 0, 0, 0])"
      ]
     },
     "execution_count": 53,
     "metadata": {},
     "output_type": "execute_result"
    }
   ],
   "source": [
    "lr_predict_final"
   ]
  },
  {
   "cell_type": "code",
   "execution_count": 55,
   "id": "22d4e441-45b6-43ef-be4d-00937ebd11dc",
   "metadata": {},
   "outputs": [
    {
     "data": {
      "text/plain": [
       "array([ 0.20453112,  0.5226577 ,  0.27094867, ...,  0.01049024,\n",
       "       -0.01236694,  0.03126359])"
      ]
     },
     "execution_count": 55,
     "metadata": {},
     "output_type": "execute_result"
    }
   ],
   "source": [
    "lr_predict"
   ]
  },
  {
   "cell_type": "code",
   "execution_count": 60,
   "id": "1eedaa2b-2c0e-493b-8f0a-37867f93f9d5",
   "metadata": {},
   "outputs": [
    {
     "data": {
      "image/png": "[encoded data removed]",
      "text/plain": [
       "<Figure size 640x480 with 1 Axes>"
      ]
     },
     "metadata": {},
     "output_type": "display_data"
    }
   ],
   "source": [
    "# обратите внимание, выход линейной регрессии при попытке предсказания значений 0 и 1 в принципе близок к этим границам, но не всегда умещается в них\n",
    "\n",
    "fig, ax = plt.subplots()\n",
    "\n",
    "sns.histplot(lr_predict, ax=ax)\n",
    "ax.axvline(0, color='red', linestyle='dashed')\n",
    "ax.axvline(1, color='red', linestyle='dashed');"
   ]
  },
  {
   "cell_type": "code",
   "execution_count": 62,
   "id": "98c3a527-974b-46d4-8b65-f9de2111c057",
   "metadata": {},
   "outputs": [
    {
     "data": {
      "text/plain": [
       "array([-7.59665256e-03, -8.65001088e-02, -3.28239221e-04,  3.65371664e-02,\n",
       "       -3.75554325e-03,  1.41451759e-03, -9.74999286e-03, -5.47670736e-02,\n",
       "        4.65886103e-02, -7.50852539e-02, -3.10343583e-02, -2.35462257e-02,\n",
       "       -5.99598508e-02, -6.67126529e-02,  8.27878296e-03,  1.08806547e-01,\n",
       "        2.97941398e-01,  3.36587115e-01, -7.45892176e-01, -4.81308743e-01])"
      ]
     },
     "execution_count": 62,
     "metadata": {},
     "output_type": "execute_result"
    }
   ],
   "source": [
    "# необходимо выбрать наиболее значимый признак. Как это сделать? Искать наибольшый по модулю коэффициент\n",
    "lr.coef_"
   ]
  },
  {
   "cell_type": "code",
   "execution_count": 63,
   "id": "43551576-5a9d-45aa-8319-88c340221d2c",
   "metadata": {},
   "outputs": [],
   "source": [
    "coefficients = pd.DataFrame(\n",
    "    {'variable': lr.feature_names_in_, 'coef': lr.coef_}\n",
    ")\n",
    "\n",
    "coefficients['coef_abs'] = np.abs(lr.coef_)"
   ]
  },
  {
   "cell_type": "code",
   "execution_count": 64,
   "id": "07b12b5d-ff7f-4a97-8ce8-1f26dde20ecb",
   "metadata": {
    "scrolled": true
   },
   "outputs": [
    {
     "data": {
      "text/html": [
       "<div>\n",
       "<style scoped>\n",
       "    .dataframe tbody tr th:only-of-type {\n",
       "        vertical-align: middle;\n",
       "    }\n",
       "\n",
       "    .dataframe tbody tr th {\n",
       "        vertical-align: top;\n",
       "    }\n",
       "\n",
       "    .dataframe thead th {\n",
       "        text-align: right;\n",
       "    }\n",
       "</style>\n",
       "<table border=\"1\" class=\"dataframe\">\n",
       "  <thead>\n",
       "    <tr style=\"text-align: right;\">\n",
       "      <th></th>\n",
       "      <th>variable</th>\n",
       "      <th>coef</th>\n",
       "      <th>coef_abs</th>\n",
       "    </tr>\n",
       "  </thead>\n",
       "  <tbody>\n",
       "    <tr>\n",
       "      <th>18</th>\n",
       "      <td>historical_default_NOT_APPLICABLE</td>\n",
       "      <td>-0.745892</td>\n",
       "      <td>0.745892</td>\n",
       "    </tr>\n",
       "    <tr>\n",
       "      <th>19</th>\n",
       "      <td>historical_default_Y</td>\n",
       "      <td>-0.481309</td>\n",
       "      <td>0.481309</td>\n",
       "    </tr>\n",
       "    <tr>\n",
       "      <th>17</th>\n",
       "      <td>loan_grade_E</td>\n",
       "      <td>0.336587</td>\n",
       "      <td>0.336587</td>\n",
       "    </tr>\n",
       "    <tr>\n",
       "      <th>16</th>\n",
       "      <td>loan_grade_D</td>\n",
       "      <td>0.297941</td>\n",
       "      <td>0.297941</td>\n",
       "    </tr>\n",
       "    <tr>\n",
       "      <th>15</th>\n",
       "      <td>loan_grade_C</td>\n",
       "      <td>0.108807</td>\n",
       "      <td>0.108807</td>\n",
       "    </tr>\n",
       "    <tr>\n",
       "      <th>1</th>\n",
       "      <td>customer_income_log</td>\n",
       "      <td>-0.086500</td>\n",
       "      <td>0.086500</td>\n",
       "    </tr>\n",
       "    <tr>\n",
       "      <th>9</th>\n",
       "      <td>loan_intent_EDUCATION</td>\n",
       "      <td>-0.075085</td>\n",
       "      <td>0.075085</td>\n",
       "    </tr>\n",
       "    <tr>\n",
       "      <th>13</th>\n",
       "      <td>loan_intent_VENTURE</td>\n",
       "      <td>-0.066713</td>\n",
       "      <td>0.066713</td>\n",
       "    </tr>\n",
       "    <tr>\n",
       "      <th>12</th>\n",
       "      <td>loan_intent_PERSONAL</td>\n",
       "      <td>-0.059960</td>\n",
       "      <td>0.059960</td>\n",
       "    </tr>\n",
       "    <tr>\n",
       "      <th>7</th>\n",
       "      <td>home_ownership_OWN</td>\n",
       "      <td>-0.054767</td>\n",
       "      <td>0.054767</td>\n",
       "    </tr>\n",
       "    <tr>\n",
       "      <th>8</th>\n",
       "      <td>home_ownership_RENT</td>\n",
       "      <td>0.046589</td>\n",
       "      <td>0.046589</td>\n",
       "    </tr>\n",
       "    <tr>\n",
       "      <th>3</th>\n",
       "      <td>loan_amnt_log</td>\n",
       "      <td>0.036537</td>\n",
       "      <td>0.036537</td>\n",
       "    </tr>\n",
       "    <tr>\n",
       "      <th>10</th>\n",
       "      <td>loan_intent_HOMEIMPROVEMENT</td>\n",
       "      <td>-0.031034</td>\n",
       "      <td>0.031034</td>\n",
       "    </tr>\n",
       "    <tr>\n",
       "      <th>11</th>\n",
       "      <td>loan_intent_MEDICAL</td>\n",
       "      <td>-0.023546</td>\n",
       "      <td>0.023546</td>\n",
       "    </tr>\n",
       "    <tr>\n",
       "      <th>6</th>\n",
       "      <td>cred_hist_length</td>\n",
       "      <td>-0.009750</td>\n",
       "      <td>0.009750</td>\n",
       "    </tr>\n",
       "    <tr>\n",
       "      <th>14</th>\n",
       "      <td>loan_grade_B</td>\n",
       "      <td>0.008279</td>\n",
       "      <td>0.008279</td>\n",
       "    </tr>\n",
       "    <tr>\n",
       "      <th>0</th>\n",
       "      <td>customer_age</td>\n",
       "      <td>-0.007597</td>\n",
       "      <td>0.007597</td>\n",
       "    </tr>\n",
       "    <tr>\n",
       "      <th>4</th>\n",
       "      <td>loan_int_rate</td>\n",
       "      <td>-0.003756</td>\n",
       "      <td>0.003756</td>\n",
       "    </tr>\n",
       "    <tr>\n",
       "      <th>5</th>\n",
       "      <td>term_years</td>\n",
       "      <td>0.001415</td>\n",
       "      <td>0.001415</td>\n",
       "    </tr>\n",
       "    <tr>\n",
       "      <th>2</th>\n",
       "      <td>employment_duration</td>\n",
       "      <td>-0.000328</td>\n",
       "      <td>0.000328</td>\n",
       "    </tr>\n",
       "  </tbody>\n",
       "</table>\n",
       "</div>"
      ],
      "text/plain": [
       "                             variable      coef  coef_abs\n",
       "18  historical_default_NOT_APPLICABLE -0.745892  0.745892\n",
       "19               historical_default_Y -0.481309  0.481309\n",
       "17                       loan_grade_E  0.336587  0.336587\n",
       "16                       loan_grade_D  0.297941  0.297941\n",
       "15                       loan_grade_C  0.108807  0.108807\n",
       "1                 customer_income_log -0.086500  0.086500\n",
       "9               loan_intent_EDUCATION -0.075085  0.075085\n",
       "13                loan_intent_VENTURE -0.066713  0.066713\n",
       "12               loan_intent_PERSONAL -0.059960  0.059960\n",
       "7                  home_ownership_OWN -0.054767  0.054767\n",
       "8                 home_ownership_RENT  0.046589  0.046589\n",
       "3                       loan_amnt_log  0.036537  0.036537\n",
       "10        loan_intent_HOMEIMPROVEMENT -0.031034  0.031034\n",
       "11                loan_intent_MEDICAL -0.023546  0.023546\n",
       "6                    cred_hist_length -0.009750  0.009750\n",
       "14                       loan_grade_B  0.008279  0.008279\n",
       "0                        customer_age -0.007597  0.007597\n",
       "4                       loan_int_rate -0.003756  0.003756\n",
       "5                          term_years  0.001415  0.001415\n",
       "2                 employment_duration -0.000328  0.000328"
      ]
     },
     "execution_count": 64,
     "metadata": {},
     "output_type": "execute_result"
    }
   ],
   "source": [
    "coefficients.sort_values(by='coef_abs', ascending=False)"
   ]
  },
  {
   "cell_type": "markdown",
   "id": "fd35550e-5e31-422b-b5fc-483ec990aec9",
   "metadata": {},
   "source": [
    "**Адаптация выхода линейной регрессии:** линейная регрессия + sigmoid function"
   ]
  },
  {
   "cell_type": "code",
   "execution_count": 65,
   "id": "9eab23fd-50aa-4013-bd41-e734507104d0",
   "metadata": {},
   "outputs": [],
   "source": [
    "# e ^ (-x) -> np.exp(-x)\n",
    "def sigmoid(x):\n",
    "    f_x = 1 / (1 + np.exp(-x))\n",
    "\n",
    "    return f_x"
   ]
  },
  {
   "cell_type": "code",
   "execution_count": 66,
   "id": "2e675f7b-8eb7-4abf-94f4-5635621707d0",
   "metadata": {},
   "outputs": [
    {
     "data": {
      "image/png": "[encoded data removed]",
      "text/plain": [
       "<Figure size 640x480 with 1 Axes>"
      ]
     },
     "metadata": {},
     "output_type": "display_data"
    }
   ],
   "source": [
    "sns.histplot(lr_predict);"
   ]
  },
  {
   "cell_type": "code",
   "execution_count": 67,
   "id": "7bb2a8f8-ef7b-4095-9909-e630f2cb65f9",
   "metadata": {},
   "outputs": [],
   "source": [
    "lr_sigmoid_predict = sigmoid(lr_predict)"
   ]
  },
  {
   "cell_type": "code",
   "execution_count": 69,
   "id": "b8ca87b6-77bb-4ba9-a377-4dd827992d81",
   "metadata": {},
   "outputs": [
    {
     "data": {
      "image/png": "[encoded data removed]",
      "text/plain": [
       "<Figure size 640x480 with 1 Axes>"
      ]
     },
     "metadata": {},
     "output_type": "display_data"
    }
   ],
   "source": [
    "# теперь все значения находятся в промежутке от 0 до 1\n",
    "sns.histplot(lr_sigmoid_predict);"
   ]
  },
  {
   "cell_type": "code",
   "execution_count": 70,
   "id": "8c4c6b9c-8f89-4fc0-86b7-30ada8c38c49",
   "metadata": {},
   "outputs": [
    {
     "data": {
      "image/png": "[encoded data removed]",
      "text/plain": [
       "<Figure size 640x480 with 1 Axes>"
      ]
     },
     "metadata": {},
     "output_type": "display_data"
    }
   ],
   "source": [
    "fig, ax = plt.subplots()\n",
    "\n",
    "sns.lineplot(x=lr_predict, y=lr_sigmoid_predict);"
   ]
  },
  {
   "cell_type": "code",
   "execution_count": 71,
   "id": "d020e809-775c-4478-80b8-6d0da35319b5",
   "metadata": {},
   "outputs": [],
   "source": [
    "lr_sigmoid_predict_final = (lr_sigmoid_predict >= 0.5).astype(int)  # финальный предикт"
   ]
  },
  {
   "cell_type": "markdown",
   "id": "d4878186-e087-4329-b4de-61a097bf1b6a",
   "metadata": {},
   "source": [
    "**Логистическая регрессия**"
   ]
  },
  {
   "cell_type": "code",
   "execution_count": 72,
   "id": "1682c799-dc8e-4c49-9e6e-13bb5e70a505",
   "metadata": {},
   "outputs": [
    {
     "name": "stderr",
     "output_type": "stream",
     "text": [
      "/Users/iadovgopolyi/teaching/lib/python3.11/site-packages/sklearn/linear_model/_logistic.py:469: ConvergenceWarning: lbfgs failed to converge (status=1):\n",
      "STOP: TOTAL NO. of ITERATIONS REACHED LIMIT.\n",
      "\n",
      "Increase the number of iterations (max_iter) or scale the data as shown in:\n",
      "    https://scikit-learn.org/stable/modules/preprocessing.html\n",
      "Please also refer to the documentation for alternative solver options:\n",
      "    https://scikit-learn.org/stable/modules/linear_model.html#logistic-regression\n",
      "  n_iter_i = _check_optimize_result(\n"
     ]
    }
   ],
   "source": [
    "logreg = LogisticRegression()\n",
    "logreg.fit(X_train, y_train)\n",
    "\n",
    "logreg_predict_proba = logreg.predict_proba(X_test)[:, 1]  # сначала ВСЕГДА предсказывается вероятность -> далее надо выбрать порог\n",
    "logreg_predict = logreg.predict(X_test)  # тут порог по дефолту 0.5"
   ]
  },
  {
   "cell_type": "code",
   "execution_count": 73,
   "id": "1f890b11-4eaf-4ada-8e8a-44ccc39191c5",
   "metadata": {},
   "outputs": [
    {
     "data": {
      "text/plain": [
       "True"
      ]
     },
     "execution_count": 73,
     "metadata": {},
     "output_type": "execute_result"
    }
   ],
   "source": [
    "((logreg_predict_proba >= 0.5).astype(int) == logreg_predict).all()"
   ]
  },
  {
   "cell_type": "markdown",
   "id": "715f8a4b-4d2d-4ba7-adf6-14b5e47e07e5",
   "metadata": {},
   "source": [
    "Проверим качество (воспользуемся accuracy):"
   ]
  },
  {
   "cell_type": "code",
   "execution_count": 74,
   "id": "7f9e8422-dc4f-4271-9877-72b5fe3dd907",
   "metadata": {},
   "outputs": [
    {
     "data": {
      "text/html": [
       "<div>\n",
       "<style scoped>\n",
       "    .dataframe tbody tr th:only-of-type {\n",
       "        vertical-align: middle;\n",
       "    }\n",
       "\n",
       "    .dataframe tbody tr th {\n",
       "        vertical-align: top;\n",
       "    }\n",
       "\n",
       "    .dataframe thead th {\n",
       "        text-align: right;\n",
       "    }\n",
       "</style>\n",
       "<table border=\"1\" class=\"dataframe\">\n",
       "  <thead>\n",
       "    <tr style=\"text-align: right;\">\n",
       "      <th>col_0</th>\n",
       "      <th>0</th>\n",
       "      <th>1</th>\n",
       "    </tr>\n",
       "    <tr>\n",
       "      <th>row_0</th>\n",
       "      <th></th>\n",
       "      <th></th>\n",
       "    </tr>\n",
       "  </thead>\n",
       "  <tbody>\n",
       "    <tr>\n",
       "      <th>0</th>\n",
       "      <td>6685</td>\n",
       "      <td>476</td>\n",
       "    </tr>\n",
       "    <tr>\n",
       "      <th>1</th>\n",
       "      <td>255</td>\n",
       "      <td>1390</td>\n",
       "    </tr>\n",
       "  </tbody>\n",
       "</table>\n",
       "</div>"
      ],
      "text/plain": [
       "col_0     0     1\n",
       "row_0            \n",
       "0      6685   476\n",
       "1       255  1390"
      ]
     },
     "execution_count": 74,
     "metadata": {},
     "output_type": "execute_result"
    }
   ],
   "source": [
    "pd.crosstab(lr_predict_final, y_test.values)  # по строкам - предсказание, по столбцам - истина"
   ]
  },
  {
   "cell_type": "code",
   "execution_count": 75,
   "id": "47224a6d-b874-46b7-8ede-082c7d179e65",
   "metadata": {},
   "outputs": [
    {
     "data": {
      "text/plain": [
       "0.916988416988417"
      ]
     },
     "execution_count": 75,
     "metadata": {},
     "output_type": "execute_result"
    }
   ],
   "source": [
    "# обычная регрессия\n",
    "(lr_predict_final == y_test.values).mean()  # accuracy"
   ]
  },
  {
   "cell_type": "markdown",
   "id": "0d917602-3aac-451b-ac19-d3da80429560",
   "metadata": {},
   "source": [
    "Не полагаемся на accuracy, считаем сначала baseline accuracy:"
   ]
  },
  {
   "cell_type": "code",
   "execution_count": 76,
   "id": "ad43663f-7bad-41f9-80e5-95e9619f5567",
   "metadata": {},
   "outputs": [
    {
     "data": {
      "text/plain": [
       "target\n",
       "0    0.788099\n",
       "1    0.211901\n",
       "Name: proportion, dtype: float64"
      ]
     },
     "execution_count": 76,
     "metadata": {},
     "output_type": "execute_result"
    }
   ],
   "source": [
    "y_test.value_counts(normalize=True)"
   ]
  },
  {
   "cell_type": "code",
   "execution_count": null,
   "id": "1fd92574-e019-4da7-873c-aa7a692e2222",
   "metadata": {},
   "outputs": [],
   "source": [
    "# представим, что я сделал модель, которая всегда говорит 0. Какое accuracy она будет иметь?\n",
    "# Ответ: будет равна доле класса 0 -> 0.79 (это и есть baseline accuracy)"
   ]
  },
  {
   "cell_type": "code",
   "execution_count": 77,
   "id": "b27621de-198e-40ea-b9ba-28c25e529241",
   "metadata": {},
   "outputs": [
    {
     "data": {
      "text/plain": [
       "0.5122643652055416"
      ]
     },
     "execution_count": 77,
     "metadata": {},
     "output_type": "execute_result"
    }
   ],
   "source": [
    "# линейная регрессия + sigmoid\n",
    "(lr_sigmoid_predict_final == y_test.values).mean()  # если accuracy хуже baseline - модель точно плохая"
   ]
  },
  {
   "cell_type": "code",
   "execution_count": 78,
   "id": "2dfb0d7c-33fd-4910-8367-54bea7177bdf",
   "metadata": {},
   "outputs": [
    {
     "data": {
      "text/plain": [
       "0.9326595503066091"
      ]
     },
     "execution_count": 78,
     "metadata": {},
     "output_type": "execute_result"
    }
   ],
   "source": [
    "# логистическая регрессия\n",
    "(logreg_predict == y_test.values).mean()"
   ]
  },
  {
   "cell_type": "code",
   "execution_count": null,
   "id": "61ab176e-1403-4c52-9c76-116b809c0d3f",
   "metadata": {},
   "outputs": [],
   "source": [
    "# логистическая регрессия = линейная регрессия + sigmoid (на этапе оптимизации!)"
   ]
  },
  {
   "cell_type": "markdown",
   "id": "4356583b-5617-4e98-8bf4-afb3c707465a",
   "metadata": {},
   "source": [
    "### Confusion matrix и метрики качества\n",
    "\n",
    "1. Перечислите основные метрики качества, которые вы прошли в модуле;\n",
    "2. Как вы думаете, какая(ие) из них наиболее актуальна(ы) для задачи кредитного скоринга?\n",
    "3. Попробуйте оценить, при каком cutoff (пороге) потенциальная прибыль максимальна.\n",
    "\n",
    "\n",
    "На самом деле метрик качества классификации очень [много](https://neptune.ai/blog/evaluation-metrics-binary-classification). Всегда выбирайте ту, которая позволяет решить именно вашу задачу.\n",
    "\n",
    "![](https://t1.daumcdn.net/thumb/R1280x0/?fname=http://t1.daumcdn.net/brunch/service/user/4SKt/image/VwzVj8EgnrXLgUcZcs_seAUWEQg.png)"
   ]
  },
  {
   "cell_type": "code",
   "execution_count": 79,
   "id": "7390b1c4-053c-4f7e-99d0-f0170e4b23b8",
   "metadata": {},
   "outputs": [
    {
     "data": {
      "text/html": [
       "<div>\n",
       "<style scoped>\n",
       "    .dataframe tbody tr th:only-of-type {\n",
       "        vertical-align: middle;\n",
       "    }\n",
       "\n",
       "    .dataframe tbody tr th {\n",
       "        vertical-align: top;\n",
       "    }\n",
       "\n",
       "    .dataframe thead th {\n",
       "        text-align: right;\n",
       "    }\n",
       "</style>\n",
       "<table border=\"1\" class=\"dataframe\">\n",
       "  <thead>\n",
       "    <tr style=\"text-align: right;\">\n",
       "      <th>col_0</th>\n",
       "      <th>0</th>\n",
       "      <th>1</th>\n",
       "    </tr>\n",
       "    <tr>\n",
       "      <th>row_0</th>\n",
       "      <th></th>\n",
       "      <th></th>\n",
       "    </tr>\n",
       "  </thead>\n",
       "  <tbody>\n",
       "    <tr>\n",
       "      <th>0</th>\n",
       "      <td>6696</td>\n",
       "      <td>349</td>\n",
       "    </tr>\n",
       "    <tr>\n",
       "      <th>1</th>\n",
       "      <td>244</td>\n",
       "      <td>1517</td>\n",
       "    </tr>\n",
       "  </tbody>\n",
       "</table>\n",
       "</div>"
      ],
      "text/plain": [
       "col_0     0     1\n",
       "row_0            \n",
       "0      6696   349\n",
       "1       244  1517"
      ]
     },
     "execution_count": 79,
     "metadata": {},
     "output_type": "execute_result"
    }
   ],
   "source": [
    "pd.crosstab(logreg_predict, y_test.values)"
   ]
  },
  {
   "cell_type": "code",
   "execution_count": 80,
   "id": "80978c40-bbe4-4b8a-a4b3-ec05fe9c4c86",
   "metadata": {},
   "outputs": [
    {
     "name": "stdout",
     "output_type": "stream",
     "text": [
      "              precision    recall  f1-score   support\n",
      "\n",
      "           0       0.96      0.95      0.96      7045\n",
      "           1       0.81      0.86      0.84      1761\n",
      "\n",
      "    accuracy                           0.93      8806\n",
      "   macro avg       0.89      0.91      0.90      8806\n",
      "weighted avg       0.93      0.93      0.93      8806\n",
      "\n"
     ]
    }
   ],
   "source": [
    "print(classification_report(logreg_predict, y_test.values))"
   ]
  },
  {
   "cell_type": "code",
   "execution_count": 81,
   "id": "e9e1ad4f-7176-4f1b-978a-88506eea9ca5",
   "metadata": {},
   "outputs": [
    {
     "data": {
      "text/plain": [
       "0.9806554265469452"
      ]
     },
     "execution_count": 81,
     "metadata": {},
     "output_type": "execute_result"
    }
   ],
   "source": [
    "# ROC-AUC - наиболее сбалансированная метрика\n",
    "# baseline - 0.5 (50 / 50)\n",
    "roc_auc_score(y_test.values, logreg_predict_proba)  # обязательно вставляется предсказанная вероятность, НЕ 0 и 1"
   ]
  },
  {
   "cell_type": "markdown",
   "id": "20584659-026d-4469-b875-1e95af5f5e50",
   "metadata": {},
   "source": [
    "### Дерево решений и ансамбли"
   ]
  },
  {
   "cell_type": "code",
   "execution_count": 82,
   "id": "c5f14a89-e680-4138-9116-9c2b65ab8790",
   "metadata": {},
   "outputs": [],
   "source": [
    "from sklearn.tree import DecisionTreeClassifier\n",
    "from sklearn.ensemble import RandomForestClassifier"
   ]
  },
  {
   "cell_type": "code",
   "execution_count": 86,
   "id": "8c176bc8-ba8c-4fb8-8c89-ed02a5ff5e08",
   "metadata": {},
   "outputs": [
    {
     "data": {
      "text/plain": [
       "0.983323642243576"
      ]
     },
     "execution_count": 86,
     "metadata": {},
     "output_type": "execute_result"
    }
   ],
   "source": [
    "dt = DecisionTreeClassifier(\n",
    "    criterion='log_loss',\n",
    "    max_depth=6, # не будем делать дерево слишком глубоким, т. к. логистическая регрессия справляется неплохо, а это простая модель - значит, классы разделяются довольно \"линейно\"\n",
    ")\n",
    "dt.fit(X_train, y_train)\n",
    "\n",
    "dt_predict_proba = dt.predict_proba(X_test)[:, 1]\n",
    "\n",
    "roc_auc_score(y_test, dt_predict_proba)  # roc-auc отличный"
   ]
  },
  {
   "cell_type": "code",
   "execution_count": 87,
   "id": "78302d83-2900-41d3-86b5-3edd3dbcc99a",
   "metadata": {},
   "outputs": [
    {
     "data": {
      "text/plain": [
       "0.988217719790827"
      ]
     },
     "execution_count": 87,
     "metadata": {},
     "output_type": "execute_result"
    }
   ],
   "source": [
    "rf = RandomForestClassifier(\n",
    "    criterion='log_loss',\n",
    "    max_depth=6,\n",
    ")\n",
    "rf.fit(X_train, y_train)\n",
    "\n",
    "rf_predict_proba = rf.predict_proba(X_test)[:, 1]\n",
    "roc_auc_score(y_test.values, rf_predict_proba)  # случайный лес - наилучшая модель"
   ]
  },
  {
   "cell_type": "markdown",
   "id": "01e84a81-3bed-403d-acce-1a9552fb874f",
   "metadata": {},
   "source": [
    "### [CatBoost](https://catboost.ai/)"
   ]
  },
  {
   "cell_type": "code",
   "execution_count": null,
   "id": "12f4ce82-c972-406b-a7cc-f398847af0ed",
   "metadata": {
    "scrolled": true
   },
   "outputs": [],
   "source": [
    "# !pip install catboost"
   ]
  },
  {
   "cell_type": "code",
   "execution_count": 88,
   "id": "332abef8-380d-4b0a-8ae4-142d8a1ce2be",
   "metadata": {},
   "outputs": [
    {
     "name": "stdout",
     "output_type": "stream",
     "text": [
      "0:\tlearn: 0.2109659\ttotal: 63.5ms\tremaining: 63.5ms\n",
      "1:\tlearn: 0.1804745\ttotal: 69ms\tremaining: 0us\n"
     ]
    },
    {
     "data": {
      "text/plain": [
       "0.9623596143332376"
      ]
     },
     "execution_count": 88,
     "metadata": {},
     "output_type": "execute_result"
    }
   ],
   "source": [
    "from catboost import CatBoostClassifier, Pool\n",
    "\n",
    "model = CatBoostClassifier(\n",
    "    iterations=2,\n",
    "    depth=2,\n",
    "    learning_rate=1,\n",
    "    loss_function='Logloss',\n",
    "    verbose=True\n",
    ")\n",
    "\n",
    "model.fit(X_train, y_train)\n",
    "\n",
    "cb_predict_proba = model.predict_proba(X_test)[:, 1]\n",
    "\n",
    "roc_auc_score(y_test, cb_predict_proba)  # это бустинг, возможно он чуть переучился"
   ]
  }
 ],
 "metadata": {
  "kernelspec": {
   "display_name": "Python 3 (ipykernel)",
   "language": "python",
   "name": "python3"
  },
  "language_info": {
   "codemirror_mode": {
    "name": "ipython",
    "version": 3
   },
   "file_extension": ".py",
   "mimetype": "text/x-python",
   "name": "python",
   "nbconvert_exporter": "python",
   "pygments_lexer": "ipython3",
   "version": "3.11.6"
  }
 },
 "nbformat": 4,
 "nbformat_minor": 5
}
