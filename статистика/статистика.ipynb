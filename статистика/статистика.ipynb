{
 "cells": [
  {
   "cell_type": "code",
   "execution_count": 1,
   "metadata": {},
   "outputs": [],
   "source": [
    "import pandas as pd\n",
    "import statistics"
   ]
  },
  {
   "cell_type": "markdown",
   "metadata": {},
   "source": [
    "Ощибки репрезентативности делятся на\n",
    "1. Стандартное отклонение среднего арфметического(m) =   std / (n-1)**-1\n",
    "std - это std малой выборки\n",
    "когда мы берём малую выборку и этот показатель показывает отклонение от ср. арифм генеральной выборки\n",
    "2. Ошибка показателя относительной величины(m) = ((p-q)/n)**-1 где q=100-p(либоо 1000-p когда в процентилях)\n",
    "ОШИБКИ РЕПРЕЗЕНТАТИВНОСТИ НУЖНЫ ДЛЯ ПОСТРОЕНИЯ ДОВЕРИТЕЛЬНЫХ ГРАНИЦ"
   ]
  },
  {
   "cell_type": "markdown",
   "metadata": {},
   "source": [
    "ДОВЕРИТЕЛЬНЫЕ ГРАНИЦЫ то на сколько показаель выборки может варьироваться\n",
    "1. Относительных величин(Pген) = Pвыб +-t*m\n",
    "2. Средних величин(Mген) = Мвыб +-t*m\n",
    "t = 2 при степени достоверности = 95.5\n",
    "t = 3 при степени достоверности = 99.7\n",
    "\n"
   ]
  },
  {
   "cell_type": "markdown",
   "metadata": {},
   "source": [
    "Определение препологаемого обьема выборки(n)\n",
    "(чтобы она была репрезентативна генеральной совокупности)\n",
    "1. Для относительного признка\n",
    "n = (t**2 * p * q)/предельную ошибку показателя\n",
    "p - величина показателя признака\n",
    "q = 100 - p\n",
    "2. Для средней велечины\n",
    "n = t**2 * std**2 / предельную ошибку показателя в квадрате\n"
   ]
  },
  {
   "cell_type": "markdown",
   "metadata": {},
   "source": [
    "ВИДЫ РАСПРЕДЕЛЕНИЯ"
   ]
  },
  {
   "cell_type": "markdown",
   "metadata": {},
   "source": [
    "унимодальные\n",
    "бимодальные\n",
    "мультимодальные - должно быть редким"
   ]
  },
  {
   "cell_type": "markdown",
   "metadata": {},
   "source": [
    "Симетричное распределение - НОРМАЛЬНОЕ РАСПРЕДЕЛЕНИЕ\n",
    "-значения равноудалены от центральной точки\n",
    "-существуют тесты на нормальность и проверки на нормальность(коэфицент асиметрии)\n",
    "Чем меньше коэфицент, тем лучше(тем нормальнее)\n",
    "смотрим по таблице и сравниваем с критическими значениями коэфа\n",
    "Коэфы считаются в пандасе\n",
    "\n",
    "**Коэфицент эксцесса - оценивает остроту пика графика"
   ]
  },
  {
   "cell_type": "markdown",
   "metadata": {},
   "source": [
    "ПРОВЕРКА НА НОРМАЛЬНОСТЬ"
   ]
  },
  {
   "cell_type": "code",
   "execution_count": null,
   "metadata": {},
   "outputs": [],
   "source": [
    "#Библиотека pandas располагает функцией skew для измерения асимметрии:\n",
    "    '''Получить коэффициент асимметрии нормального распределения'''\n",
    "             'асимметрия': s.skew() }"
   ]
  },
  {
   "cell_type": "markdown",
   "metadata": {},
   "source": [
    "ТЕСТЫ НА НОРМАЛЬНОСТЬ\n",
    "делятся на \n",
    "количественные\n",
    "порядкоые(можно упорядочить, но арифм действия не доступны)\n",
    "качественные(категориальные признаки)"
   ]
  },
  {
   "cell_type": "code",
   "execution_count": null,
   "metadata": {},
   "outputs": [],
   "source": [
    "Распределенеие количественных признаков бывает НОрмалЬНЫМ И НЕНОРМАЛЬНЫМ"
   ]
  },
  {
   "cell_type": "markdown",
   "metadata": {},
   "source": [
    "Для ненормальных данных используются непараметрические тесты(но там выборка не больше 30)"
   ]
  },
  {
   "cell_type": "code",
   "execution_count": null,
   "metadata": {},
   "outputs": [],
   "source": []
  },
  {
   "cell_type": "code",
   "execution_count": null,
   "metadata": {},
   "outputs": [],
   "source": [
    "Тесты на нормальность\n",
    "1)Сравнить средние арифметические в двух группах\n",
    "2)Сравнение дисперсий и средних арифметическах в разных группах"
   ]
  },
  {
   "cell_type": "code",
   "execution_count": null,
   "metadata": {},
   "outputs": [],
   "source": [
    "Не забывать делать проверку на пропуски\n",
    "Не забывать удалять дубликаты"
   ]
  },
  {
   "cell_type": "code",
   "execution_count": null,
   "metadata": {},
   "outputs": [],
   "source": [
    "data.isna.sum()"
   ]
  },
  {
   "cell_type": "markdown",
   "metadata": {},
   "source": [
    "Двухвыборочный тест колмогорова-смирнова\n",
    "Распределяем данные на две группы(мужчины и женщины)\n",
    "Выбираем признак и сравниваем его распределение в этих группах"
   ]
  },
  {
   "cell_type": "code",
   "execution_count": null,
   "metadata": {},
   "outputs": [],
   "source": [
    "Тест на гомогенность делается только для нормального распределения"
   ]
  },
  {
   "cell_type": "code",
   "execution_count": 1,
   "metadata": {},
   "outputs": [],
   "source": [
    "import pandas as pd"
   ]
  },
  {
   "cell_type": "code",
   "execution_count": 3,
   "metadata": {},
   "outputs": [],
   "source": [
    "sa = pd.DataFrame()"
   ]
  },
  {
   "cell_type": "code",
   "execution_count": null,
   "metadata": {},
   "outputs": [],
   "source": [
    "sa.sta"
   ]
  },
  {
   "cell_type": "code",
   "execution_count": null,
   "metadata": {},
   "outputs": [],
   "source": [
    "import scipy"
   ]
  },
  {
   "cell_type": "code",
   "execution_count": 1,
   "metadata": {},
   "outputs": [],
   "source": [
    "a = {'Oranges (packaged)': 114.99, 'Candy (Rotfront)': 280.0, 'Boiled sausage': 199.99, 'Juice J7 (orange)': 119.99, 'Trout (Seven Seas)': 399.99}"
   ]
  },
  {
   "cell_type": "code",
   "execution_count": 3,
   "metadata": {},
   "outputs": [
    {
     "data": {
      "text/plain": [
       "dict_keys(['Oranges (packaged)', 'Candy (Rotfront)', 'Boiled sausage', 'Juice J7 (orange)', 'Trout (Seven Seas)'])"
      ]
     },
     "execution_count": 3,
     "metadata": {},
     "output_type": "execute_result"
    }
   ],
   "source": [
    "a.keys()"
   ]
  },
  {
   "cell_type": "code",
   "execution_count": 3,
   "metadata": {},
   "outputs": [
    {
     "ename": "KeyError",
     "evalue": "'Oranges'",
     "output_type": "error",
     "traceback": [
      "\u001b[1;31m---------------------------------------------------------------------------\u001b[0m",
      "\u001b[1;31mKeyError\u001b[0m                                  Traceback (most recent call last)",
      "Cell \u001b[1;32mIn[3], line 1\u001b[0m\n\u001b[1;32m----> 1\u001b[0m \u001b[38;5;28mprint\u001b[39m(\u001b[43ma\u001b[49m\u001b[43m[\u001b[49m\u001b[38;5;124;43m'\u001b[39;49m\u001b[38;5;124;43mOranges\u001b[39;49m\u001b[38;5;124;43m'\u001b[39;49m\u001b[43m]\u001b[49m)\n",
      "\u001b[1;31mKeyError\u001b[0m: 'Oranges'"
     ]
    }
   ],
   "source": [
    "print(a['Oranges'])"
   ]
  },
  {
   "cell_type": "code",
   "execution_count": null,
   "metadata": {},
   "outputs": [],
   "source": [
    "a = 132\n",
    "print(a[::1])"
   ]
  },
  {
   "cell_type": "code",
   "execution_count": 4,
   "metadata": {},
   "outputs": [
    {
     "name": "stdout",
     "output_type": "stream",
     "text": [
      "orang\n"
     ]
    }
   ],
   "source": [
    "a = 'orange'\n",
    "print(a[:-1])"
   ]
  },
  {
   "cell_type": "code",
   "execution_count": 8,
   "metadata": {},
   "outputs": [],
   "source": [
    "def apply_discounts(products, stocks):\n",
    "    a = products\n",
    "    for value in stocks.keys():\n",
    "        discount_amount = 1 - int(stocks[value][:-1]) / 100\n",
    "        a[value] = round(a[value] * discount_amount, 2)\n",
    "    return a"
   ]
  },
  {
   "cell_type": "code",
   "execution_count": 9,
   "metadata": {},
   "outputs": [
    {
     "data": {
      "text/plain": [
       "{'Oranges (packaged)': 114.99,\n",
       " 'Candy (Rotfront)': 280.0,\n",
       " 'Boiled sausage': 133.99,\n",
       " 'Juice J7 (orange)': 105.59,\n",
       " 'Trout (Seven Seas)': 327.99}"
      ]
     },
     "execution_count": 9,
     "metadata": {},
     "output_type": "execute_result"
    }
   ],
   "source": [
    " apply_discounts({'Oranges (packaged)': 114.99, 'Candy (Rotfront)': 280.0, 'Boiled sausage': 199.99, 'Juice J7 (orange)': 119.99, 'Trout (Seven Seas)': 399.99},\n",
    "                 {'Boiled sausage': '33%', 'Juice J7 (orange)': '12%', 'Trout (Seven Seas)': '18%'}\n",
    ")"
   ]
  }
 ],
 "metadata": {
  "kernelspec": {
   "display_name": "Python 3",
   "language": "python",
   "name": "python3"
  },
  "language_info": {
   "codemirror_mode": {
    "name": "ipython",
    "version": 3
   },
   "file_extension": ".py",
   "mimetype": "text/x-python",
   "name": "python",
   "nbconvert_exporter": "python",
   "pygments_lexer": "ipython3",
   "version": "3.9.0"
  }
 },
 "nbformat": 4,
 "nbformat_minor": 2
}
