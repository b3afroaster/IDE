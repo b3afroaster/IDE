{
 "cells": [
  {
   "cell_type": "code",
   "execution_count": null,
   "metadata": {},
   "outputs": [],
   "source": [
    "def multiline_input():\n",
    "    \"\"\"\n",
    "    Читает многострочный ввод, \n",
    "    где двойной Enter добавляет пустую строку,\n",
    "    а тройной Enter завершает ввод.\n",
    "    \"\"\"\n",
    "    lines = []\n",
    "    while True:\n",
    "        line = input()\n",
    "        if line == \"\":\n",
    "            if len(lines) > 0 and lines[-1] == \"\":\n",
    "                # Два пустых строки подряд - конец ввода\n",
    "                lines.pop() # удаляем последнюю пустую строку\n",
    "                break\n",
    "            else:\n",
    "                lines.append(\"\") # Добавляем пустую строку\n",
    "        else:\n",
    "            lines.append(line)\n",
    "\n",
    "    return \"\\n\".join(lines)\n",
    "\n",
    "# Пример использования:\n",
    "text = multiline_input()\n",
    "print(\"Введенный текст:\")\n",
    "print(text)\n"
   ]
  }
 ],
 "metadata": {
  "kernelspec": {
   "display_name": "Python 3",
   "language": "python",
   "name": "python3"
  },
  "language_info": {
   "codemirror_mode": {
    "name": "ipython",
    "version": 3
   },
   "file_extension": ".py",
   "mimetype": "text/x-python",
   "name": "python",
   "nbconvert_exporter": "python",
   "pygments_lexer": "ipython3",
   "version": "3.9.0"
  }
 },
 "nbformat": 4,
 "nbformat_minor": 2
}
