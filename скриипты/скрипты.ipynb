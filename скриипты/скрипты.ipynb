{
 "cells": [
  {
   "cell_type": "code",
   "execution_count": null,
   "metadata": {},
   "outputs": [],
   "source": [
    "библиотека schedule "
   ]
  },
  {
   "cell_type": "code",
   "execution_count": 3,
   "metadata": {},
   "outputs": [
    {
     "name": "stdout",
     "output_type": "stream",
     "text": [
      "Collecting schedule\n",
      "  Downloading schedule-1.2.2-py3-none-any.whl.metadata (3.8 kB)\n",
      "Downloading schedule-1.2.2-py3-none-any.whl (12 kB)\n",
      "Installing collected packages: schedule\n",
      "Successfully installed schedule-1.2.2\n"
     ]
    }
   ],
   "source": [
    "!pip install schedule\n"
   ]
  },
  {
   "cell_type": "code",
   "execution_count": 5,
   "metadata": {},
   "outputs": [],
   "source": [
    "import schedule"
   ]
  },
  {
   "cell_type": "code",
   "execution_count": 7,
   "metadata": {},
   "outputs": [],
   "source": [
    "def task(): \n",
    "    print('Hello! I am a task!') \n",
    "    return "
   ]
  },
  {
   "cell_type": "markdown",
   "metadata": {},
   "source": [
    "метод every() чтобы задать интервал"
   ]
  },
  {
   "cell_type": "code",
   "execution_count": 8,
   "metadata": {},
   "outputs": [
    {
     "data": {
      "text/plain": [
       "Every 15 minutes do task() (last run: [never], next run: 2024-10-02 00:39:47)"
      ]
     },
     "execution_count": 8,
     "metadata": {},
     "output_type": "execute_result"
    }
   ],
   "source": [
    "schedule.every(15).minutes.do(task)"
   ]
  },
  {
   "cell_type": "markdown",
   "metadata": {},
   "source": [
    "метод run_pending() для объекта schedule создаёт цикл проверки"
   ]
  },
  {
   "cell_type": "code",
   "execution_count": 9,
   "metadata": {},
   "outputs": [
    {
     "name": "stdout",
     "output_type": "stream",
     "text": [
      "Hello! I am a task!\n",
      "Hello! I am a task!\n",
      "Hello! I am a task!\n",
      "Hello! I am a task!\n",
      "Hello! I am a task!\n",
      "Hello! I am a task!\n",
      "Hello! I am a task!\n",
      "Hello! I am a task!\n",
      "Hello! I am a task!\n",
      "Hello! I am a task!\n",
      "Hello! I am a task!\n",
      "Hello! I am a task!\n",
      "Hello! I am a task!\n",
      "Hello! I am a task!\n",
      "Hello! I am a task!\n",
      "Hello! I am a task!\n",
      "Hello! I am a task!\n",
      "Hello! I am a task!\n",
      "Hello! I am a task!\n",
      "Hello! I am a task!\n",
      "Hello! I am a task!\n"
     ]
    }
   ],
   "source": [
    "#Для создания паузы мы будем использовать метод sleep из модуля time\n",
    "import time \n",
    "#бесконечный цикл проверкa выполнения shedule методом run_pending()\n",
    "while True: \n",
    "    schedule.run_pending() \n",
    "    time.sleep(1) "
   ]
  },
  {
   "cell_type": "code",
   "execution_count": null,
   "metadata": {},
   "outputs": [],
   "source": []
  }
 ],
 "metadata": {
  "kernelspec": {
   "display_name": "Python 3",
   "language": "python",
   "name": "python3"
  },
  "language_info": {
   "codemirror_mode": {
    "name": "ipython",
    "version": 3
   },
   "file_extension": ".py",
   "mimetype": "text/x-python",
   "name": "python",
   "nbconvert_exporter": "python",
   "pygments_lexer": "ipython3",
   "version": "3.9.0"
  }
 },
 "nbformat": 4,
 "nbformat_minor": 2
}
